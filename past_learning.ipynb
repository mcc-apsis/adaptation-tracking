{
 "cells": [
  {
   "cell_type": "code",
   "execution_count": 1,
   "metadata": {},
   "outputs": [],
   "source": [
    "import matplotlib.pyplot as plt\n",
    "import numpy as np\n",
    "import pandas as pd\n",
    "import sys, os, django\n",
    "import math\n",
    "\n",
    "\n",
    "from sklearn.manifold import TSNE\n",
    "from sklearn.svm import SVC, OneClassSVM\n",
    "from sklearn.metrics import average_precision_score\n",
    "from sklearn.metrics import precision_recall_curve\n",
    "from sklearn.metrics import precision_score, recall_score\n",
    "\n",
    "from sklearn.decomposition import NMF\n",
    "from sklearn.naive_bayes import MultinomialNB\n",
    "from sklearn.linear_model import SGDClassifier\n",
    "\n",
    "from sklearn.feature_extraction.text import CountVectorizer, TfidfVectorizer\n",
    "from sklearn.model_selection import KFold\n",
    "from sklearn.neural_network import MLPClassifier\n",
    "from scipy.sparse import hstack\n",
    "\n",
    "sys.path.append('/home/galm/software/django/tmv/BasicBrowser/')\n",
    "os.environ.setdefault(\"DJANGO_SETTINGS_MODULE\", \"BasicBrowser.settings\")\n",
    "django.setup()\n",
    "\n",
    "from django.db.models import Q, F, Sum, Count, FloatField, Case, When, Value, Max\n",
    "from sklearn.manifold import TSNE\n",
    "from scoping.models import *\n",
    "from scoping.views import *\n",
    "\n",
    "import learning_utils\n",
    "import random\n",
    "\n",
    "\n",
    "double_figure = (7.2,7.2/8*5)\n",
    "plt.rc('font',size=7)\n",
    "plt.rc('axes',titlesize=7)\n",
    "plt.rc('axes',labelsize=7)\n",
    "plt.rc('xtick',labelsize=7)\n",
    "plt.rc('ytick',labelsize=7)\n",
    "plt.rc('legend',fontsize=7)\n",
    "plt.rc('figure',titlesize=7)"
   ]
  },
  {
   "cell_type": "code",
   "execution_count": 7,
   "metadata": {},
   "outputs": [],
   "source": [
    "q = Query.objects.get(pk=7638)"
   ]
  },
  {
   "cell_type": "code",
   "execution_count": 11,
   "metadata": {},
   "outputs": [
    {
     "data": {
      "text/plain": [
       "['db1_docs.csv',\n",
       " 'predictions_2020-01-21 15:38.csv',\n",
       " 'doc_numbers.csv',\n",
       " 'predictions_2020-01-29 15:56.csv',\n",
       " 'predictions_2020-01-21 15:36.csv',\n",
       " 'db1_docs_long.csv',\n",
       " 'predictions_2020-02-18 12:50.csv',\n",
       " 'db1_docs_very_long.csv']"
      ]
     },
     "execution_count": 11,
     "metadata": {},
     "output_type": "execute_result"
    }
   ],
   "source": [
    "os.listdir(\"doctables\")"
   ]
  },
  {
   "cell_type": "code",
   "execution_count": 15,
   "metadata": {},
   "outputs": [
    {
     "name": "stdout",
     "output_type": "stream",
     "text": [
      "(10280, 2)\n"
     ]
    },
    {
     "data": {
      "text/html": [
       "<div>\n",
       "<style scoped>\n",
       "    .dataframe tbody tr th:only-of-type {\n",
       "        vertical-align: middle;\n",
       "    }\n",
       "\n",
       "    .dataframe tbody tr th {\n",
       "        vertical-align: top;\n",
       "    }\n",
       "\n",
       "    .dataframe thead th {\n",
       "        text-align: right;\n",
       "    }\n",
       "</style>\n",
       "<table border=\"1\" class=\"dataframe\">\n",
       "  <thead>\n",
       "    <tr style=\"text-align: right;\">\n",
       "      <th></th>\n",
       "      <th>id</th>\n",
       "      <th>rating</th>\n",
       "    </tr>\n",
       "  </thead>\n",
       "  <tbody>\n",
       "    <tr>\n",
       "      <th>0</th>\n",
       "      <td>2472514</td>\n",
       "      <td>1</td>\n",
       "    </tr>\n",
       "    <tr>\n",
       "      <th>1</th>\n",
       "      <td>2461354</td>\n",
       "      <td>2</td>\n",
       "    </tr>\n",
       "    <tr>\n",
       "      <th>2</th>\n",
       "      <td>2428397</td>\n",
       "      <td>2</td>\n",
       "    </tr>\n",
       "    <tr>\n",
       "      <th>3</th>\n",
       "      <td>2390102</td>\n",
       "      <td>1</td>\n",
       "    </tr>\n",
       "    <tr>\n",
       "      <th>4</th>\n",
       "      <td>2351316</td>\n",
       "      <td>2</td>\n",
       "    </tr>\n",
       "  </tbody>\n",
       "</table>\n",
       "</div>"
      ],
      "text/plain": [
       "        id  rating\n",
       "0  2472514       1\n",
       "1  2461354       2\n",
       "2  2428397       2\n",
       "3  2390102       1\n",
       "4  2351316       2"
      ]
     },
     "execution_count": 15,
     "metadata": {},
     "output_type": "execute_result"
    }
   ],
   "source": [
    "dodf = (pd.DataFrame.from_dict(DocOwnership.objects.filter(query=q).values('doc__id','relevant'))\n",
    "        .rename(columns={\"doc__id\":\"id\",\"relevant\":\"rating\"})\n",
    "       )\n",
    "print(dodf.shape)\n",
    "dodf.head()"
   ]
  },
  {
   "cell_type": "code",
   "execution_count": 37,
   "metadata": {},
   "outputs": [
    {
     "name": "stdout",
     "output_type": "stream",
     "text": [
      "predictions_2020-01-21 15:36.csv\n",
      "(697, 9)\n",
      "(252, 9)\n",
      "predictions_2020-01-21 15:38.csv\n",
      "(697, 9)\n",
      "(252, 9)\n",
      "predictions_2020-01-29 15:56.csv\n",
      "(400, 9)\n",
      "(160, 9)\n",
      "predictions_2020-02-18 12:50.csv\n",
      "(8160, 9)\n",
      "(2924, 9)\n"
     ]
    }
   ],
   "source": [
    "for f in sorted(os.listdir(\"doctables\")):\n",
    "    if \"predictions\" in f:\n",
    "        print(f)\n",
    "        fdf = (pd.read_csv(f\"doctables/{f}\")\n",
    "               .query(\"prediction.notnull()\", engine=\"python\")\n",
    "               .merge(dodf, how=\"inner\")\n",
    "              )\n",
    "        print(fdf.shape)\n",
    "        mispredicted = fdf[\n",
    "            ((fdf['prediction']>0.5) & (fdf['rating']!=1)) |\n",
    "            ((fdf['prediction']<0.5) & (fdf['rating']==1))\n",
    "        ]\n",
    "        print(mispredicted.shape)\n",
    "    "
   ]
  },
  {
   "cell_type": "code",
   "execution_count": 35,
   "metadata": {},
   "outputs": [
    {
     "data": {
      "text/html": [
       "<div>\n",
       "<style scoped>\n",
       "    .dataframe tbody tr th:only-of-type {\n",
       "        vertical-align: middle;\n",
       "    }\n",
       "\n",
       "    .dataframe tbody tr th {\n",
       "        vertical-align: top;\n",
       "    }\n",
       "\n",
       "    .dataframe thead th {\n",
       "        text-align: right;\n",
       "    }\n",
       "</style>\n",
       "<table border=\"1\" class=\"dataframe\">\n",
       "  <thead>\n",
       "    <tr style=\"text-align: right;\">\n",
       "      <th></th>\n",
       "      <th>id</th>\n",
       "      <th>content</th>\n",
       "      <th>title</th>\n",
       "      <th>wosarticle__de</th>\n",
       "      <th>wosarticle__wc</th>\n",
       "      <th>relevant</th>\n",
       "      <th>seen</th>\n",
       "      <th>prediction</th>\n",
       "      <th>rating</th>\n",
       "    </tr>\n",
       "  </thead>\n",
       "  <tbody>\n",
       "  </tbody>\n",
       "</table>\n",
       "</div>"
      ],
      "text/plain": [
       "Empty DataFrame\n",
       "Columns: [id, content, title, wosarticle__de, wosarticle__wc, relevant, seen, prediction, rating]\n",
       "Index: []"
      ]
     },
     "execution_count": 35,
     "metadata": {},
     "output_type": "execute_result"
    }
   ],
   "source": [
    "mispredicted.head()"
   ]
  }
 ],
 "metadata": {
  "kernelspec": {
   "display_name": "tmv",
   "language": "python",
   "name": "tmv"
  },
  "language_info": {
   "codemirror_mode": {
    "name": "ipython",
    "version": 3
   },
   "file_extension": ".py",
   "mimetype": "text/x-python",
   "name": "python",
   "nbconvert_exporter": "python",
   "pygments_lexer": "ipython3",
   "version": "3.6.7"
  },
  "varInspector": {
   "cols": {
    "lenName": 16,
    "lenType": 16,
    "lenVar": 40
   },
   "kernels_config": {
    "python": {
     "delete_cmd_postfix": "",
     "delete_cmd_prefix": "del ",
     "library": "var_list.py",
     "varRefreshCmd": "print(var_dic_list())"
    },
    "r": {
     "delete_cmd_postfix": ") ",
     "delete_cmd_prefix": "rm(",
     "library": "var_list.r",
     "varRefreshCmd": "cat(var_dic_list()) "
    }
   },
   "types_to_exclude": [
    "module",
    "function",
    "builtin_function_or_method",
    "instance",
    "_Feature"
   ],
   "window_display": false
  }
 },
 "nbformat": 4,
 "nbformat_minor": 2
}
