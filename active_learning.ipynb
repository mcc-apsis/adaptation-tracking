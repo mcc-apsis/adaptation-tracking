{
 "cells": [
  {
   "cell_type": "code",
   "execution_count": 1,
   "metadata": {},
   "outputs": [],
   "source": [
    "import matplotlib.pyplot as plt\n",
    "import numpy as np\n",
    "import pandas as pd\n",
    "import sys, os, django\n",
    "import math\n",
    "\n",
    "\n",
    "from sklearn.manifold import TSNE\n",
    "from sklearn.svm import SVC, OneClassSVM\n",
    "from sklearn.metrics import average_precision_score\n",
    "from sklearn.metrics import precision_recall_curve\n",
    "from sklearn.metrics import precision_score, recall_score\n",
    "\n",
    "from sklearn.decomposition import NMF\n",
    "from sklearn.naive_bayes import MultinomialNB\n",
    "from sklearn.linear_model import SGDClassifier\n",
    "\n",
    "from sklearn.feature_extraction.text import CountVectorizer, TfidfVectorizer\n",
    "from sklearn.model_selection import KFold\n",
    "from sklearn.neural_network import MLPClassifier\n",
    "from scipy.sparse import hstack\n",
    "\n",
    "sys.path.append('/home/galm/software/django/tmv/BasicBrowser/')\n",
    "os.environ.setdefault(\"DJANGO_SETTINGS_MODULE\", \"BasicBrowser.settings\")\n",
    "django.setup()\n",
    "\n",
    "from django.db.models import Q, F, Sum, Count, FloatField, Case, When, Value, Max\n",
    "from sklearn.manifold import TSNE\n",
    "from scoping.models import *\n",
    "from scoping.views import *\n",
    "\n",
    "import learning_utils\n",
    "import random\n",
    "\n",
    "\n",
    "double_figure = (7.2,7.2/8*5)\n",
    "plt.rc('font',size=7)\n",
    "plt.rc('axes',titlesize=7)\n",
    "plt.rc('axes',labelsize=7)\n",
    "plt.rc('xtick',labelsize=7)\n",
    "plt.rc('ytick',labelsize=7)\n",
    "plt.rc('legend',fontsize=7)\n",
    "plt.rc('figure',titlesize=7)"
   ]
  },
  {
   "cell_type": "code",
   "execution_count": 2,
   "metadata": {},
   "outputs": [
    {
     "data": {
      "text/plain": [
       "75070"
      ]
     },
     "execution_count": 2,
     "metadata": {},
     "output_type": "execute_result"
    }
   ],
   "source": [
    "pid = 193\n",
    "qid = 7638\n",
    "q = Query.objects.get(pk=qid)\n",
    "p = Project.objects.get(pk=pid)\n",
    "\n",
    "other_docs = Doc.objects.filter(docproject__project=p, PY__gt=2012).exclude(query=q)\n",
    "\n",
    "for d in other_docs:\n",
    "    d.query.add(q)\n",
    "\n",
    "q.r_count = q.doc_set.count()\n",
    "q.save()\n",
    "q.r_count"
   ]
  },
  {
   "cell_type": "code",
   "execution_count": 3,
   "metadata": {},
   "outputs": [
    {
     "data": {
      "text/plain": [
       "4"
      ]
     },
     "execution_count": 3,
     "metadata": {},
     "output_type": "execute_result"
    }
   ],
   "source": [
    "q.doc_set.filter(PY=2012).count()"
   ]
  },
  {
   "cell_type": "code",
   "execution_count": 4,
   "metadata": {},
   "outputs": [
    {
     "name": "stdout",
     "output_type": "stream",
     "text": [
      "62494\n"
     ]
    },
    {
     "data": {
      "text/plain": [
       "2257"
      ]
     },
     "execution_count": 4,
     "metadata": {},
     "output_type": "execute_result"
    }
   ],
   "source": [
    "docs = Doc.objects.filter(query=q, content__iregex='\\w').values_list('pk', flat=True)\n",
    "\n",
    "print(docs.count())\n",
    "\n",
    "seen = set(DocOwnership.objects.filter(\n",
    "    query=q, \n",
    "    relevant__gt=0\n",
    ").values_list('doc__pk', flat=True))\n",
    "\n",
    "\n",
    "seen = seen & set(docs)\n",
    "\n",
    "seen_docs = Doc.objects.filter(pk__in=seen)\n",
    "seen_docs.count()"
   ]
  },
  {
   "cell_type": "code",
   "execution_count": 5,
   "metadata": {},
   "outputs": [
    {
     "data": {
      "text/plain": [
       "<QuerySet [{'relevant': 0, 'n': 113056}, {'relevant': 1, 'n': 403}, {'relevant': 3, 'n': 119}, {'relevant': 2, 'n': 1764}]>"
      ]
     },
     "execution_count": 5,
     "metadata": {},
     "output_type": "execute_result"
    }
   ],
   "source": [
    "DocProject.objects.filter(project=p).values('relevant').annotate(\n",
    "    n = Count('pk')\n",
    ")"
   ]
  },
  {
   "cell_type": "code",
   "execution_count": 6,
   "metadata": {},
   "outputs": [
    {
     "name": "stdout",
     "output_type": "stream",
     "text": [
      "(60237, 7)\n"
     ]
    },
    {
     "data": {
      "text/html": [
       "<div>\n",
       "<style scoped>\n",
       "    .dataframe tbody tr th:only-of-type {\n",
       "        vertical-align: middle;\n",
       "    }\n",
       "\n",
       "    .dataframe tbody tr th {\n",
       "        vertical-align: top;\n",
       "    }\n",
       "\n",
       "    .dataframe thead th {\n",
       "        text-align: right;\n",
       "    }\n",
       "</style>\n",
       "<table border=\"1\" class=\"dataframe\">\n",
       "  <thead>\n",
       "    <tr style=\"text-align: right;\">\n",
       "      <th></th>\n",
       "      <th>id</th>\n",
       "      <th>content</th>\n",
       "      <th>title</th>\n",
       "      <th>wosarticle__de</th>\n",
       "      <th>wosarticle__wc</th>\n",
       "      <th>relevant</th>\n",
       "      <th>seen</th>\n",
       "    </tr>\n",
       "  </thead>\n",
       "  <tbody>\n",
       "    <tr>\n",
       "      <th>0</th>\n",
       "      <td>46</td>\n",
       "      <td>Glaciers store water over a range of temporal ...</td>\n",
       "      <td>A review of methods for estimating the contrib...</td>\n",
       "      <td>climate change; glacier meltwater; hydrologica...</td>\n",
       "      <td>[Geography, Physical; Geosciences, Multidiscip...</td>\n",
       "      <td>0</td>\n",
       "      <td>0</td>\n",
       "    </tr>\n",
       "    <tr>\n",
       "      <th>1</th>\n",
       "      <td>111</td>\n",
       "      <td>1 .Gradients in elevation are increasingly use...</td>\n",
       "      <td>Changes in host-parasitoid food web structure ...</td>\n",
       "      <td>climate change; elevation; experimental manipu...</td>\n",
       "      <td>[Ecology; Zoology]</td>\n",
       "      <td>0</td>\n",
       "      <td>0</td>\n",
       "    </tr>\n",
       "    <tr>\n",
       "      <th>2</th>\n",
       "      <td>260</td>\n",
       "      <td>Phytosanitary risks are an increasing threat f...</td>\n",
       "      <td>An economic comparison of risk handling measur...</td>\n",
       "      <td>Phytosanitary risks; Cause-oriented measures; ...</td>\n",
       "      <td>[Forestry]</td>\n",
       "      <td>0</td>\n",
       "      <td>0</td>\n",
       "    </tr>\n",
       "    <tr>\n",
       "      <th>3</th>\n",
       "      <td>274</td>\n",
       "      <td>Regenerative sustainability is emerging as an ...</td>\n",
       "      <td>Regenerative sustainability for the built envi...</td>\n",
       "      <td>Regenerative sustainability; Theory; Framework...</td>\n",
       "      <td>[Green &amp; Sustainable Science &amp; Technology; Eng...</td>\n",
       "      <td>0</td>\n",
       "      <td>0</td>\n",
       "    </tr>\n",
       "    <tr>\n",
       "      <th>4</th>\n",
       "      <td>297</td>\n",
       "      <td>Grass silage is typically fed to dairy cows in...</td>\n",
       "      <td>Effects of nitrogen fertilisation rate and mat...</td>\n",
       "      <td>nitrogen fertilisation; grass maturity; ryegra...</td>\n",
       "      <td>[Agriculture, Dairy &amp; Animal Science; Veterina...</td>\n",
       "      <td>0</td>\n",
       "      <td>0</td>\n",
       "    </tr>\n",
       "  </tbody>\n",
       "</table>\n",
       "</div>"
      ],
      "text/plain": [
       "    id                                            content  \\\n",
       "0   46  Glaciers store water over a range of temporal ...   \n",
       "1  111  1 .Gradients in elevation are increasingly use...   \n",
       "2  260  Phytosanitary risks are an increasing threat f...   \n",
       "3  274  Regenerative sustainability is emerging as an ...   \n",
       "4  297  Grass silage is typically fed to dairy cows in...   \n",
       "\n",
       "                                               title  \\\n",
       "0  A review of methods for estimating the contrib...   \n",
       "1  Changes in host-parasitoid food web structure ...   \n",
       "2  An economic comparison of risk handling measur...   \n",
       "3  Regenerative sustainability for the built envi...   \n",
       "4  Effects of nitrogen fertilisation rate and mat...   \n",
       "\n",
       "                                      wosarticle__de  \\\n",
       "0  climate change; glacier meltwater; hydrologica...   \n",
       "1  climate change; elevation; experimental manipu...   \n",
       "2  Phytosanitary risks; Cause-oriented measures; ...   \n",
       "3  Regenerative sustainability; Theory; Framework...   \n",
       "4  nitrogen fertilisation; grass maturity; ryegra...   \n",
       "\n",
       "                                      wosarticle__wc  relevant  seen  \n",
       "0  [Geography, Physical; Geosciences, Multidiscip...         0     0  \n",
       "1                                 [Ecology; Zoology]         0     0  \n",
       "2                                         [Forestry]         0     0  \n",
       "3  [Green & Sustainable Science & Technology; Eng...         0     0  \n",
       "4  [Agriculture, Dairy & Animal Science; Veterina...         0     0  "
      ]
     },
     "execution_count": 6,
     "metadata": {},
     "output_type": "execute_result"
    }
   ],
   "source": [
    "unseen_docs = docs.exclude(pk__in=seen).distinct('id')\n",
    "\n",
    "unseen_docs.count()\n",
    "\n",
    "columns = [\n",
    "    'id',\n",
    "    'content',\n",
    "    'title',\n",
    "    'wosarticle__de',\n",
    "    'wosarticle__wc'\n",
    "]\n",
    "\n",
    "unseen_df = pd.DataFrame.from_dict(list(unseen_docs.values(*columns)))\n",
    "unseen_df = unseen_df[columns]\n",
    "unseen_df['relevant'] = 0\n",
    "unseen_df['seen'] = 0\n",
    "\n",
    "print(unseen_df.shape)\n",
    "unseen_df.head()"
   ]
  },
  {
   "cell_type": "code",
   "execution_count": 7,
   "metadata": {},
   "outputs": [
    {
     "name": "stdout",
     "output_type": "stream",
     "text": [
      "(2159, 7)\n"
     ]
    },
    {
     "data": {
      "text/html": [
       "<div>\n",
       "<style scoped>\n",
       "    .dataframe tbody tr th:only-of-type {\n",
       "        vertical-align: middle;\n",
       "    }\n",
       "\n",
       "    .dataframe tbody tr th {\n",
       "        vertical-align: top;\n",
       "    }\n",
       "\n",
       "    .dataframe thead th {\n",
       "        text-align: right;\n",
       "    }\n",
       "</style>\n",
       "<table border=\"1\" class=\"dataframe\">\n",
       "  <thead>\n",
       "    <tr style=\"text-align: right;\">\n",
       "      <th></th>\n",
       "      <th>id</th>\n",
       "      <th>content</th>\n",
       "      <th>title</th>\n",
       "      <th>wosarticle__de</th>\n",
       "      <th>wosarticle__wc</th>\n",
       "      <th>relevant</th>\n",
       "      <th>seen</th>\n",
       "    </tr>\n",
       "  </thead>\n",
       "  <tbody>\n",
       "    <tr>\n",
       "      <th>0</th>\n",
       "      <td>3095</td>\n",
       "      <td>Many coasts are eroding. In the Comoros, as in...</td>\n",
       "      <td>Seawalls as a response to coastal erosion and ...</td>\n",
       "      <td>Grande Comore; Comoros; Seawalls; Coastal eros...</td>\n",
       "      <td>[Environmental Sciences; Environmental Studies]</td>\n",
       "      <td>1</td>\n",
       "      <td>1</td>\n",
       "    </tr>\n",
       "    <tr>\n",
       "      <th>1</th>\n",
       "      <td>3309</td>\n",
       "      <td>Since the 1970s, the Niger basin has been char...</td>\n",
       "      <td>Hydro-climatic changes in the Niger basin and ...</td>\n",
       "      <td>Regional climate change; Hydrology; Perception...</td>\n",
       "      <td>[Environmental Sciences; Environmental Studies]</td>\n",
       "      <td>1</td>\n",
       "      <td>1</td>\n",
       "    </tr>\n",
       "    <tr>\n",
       "      <th>2</th>\n",
       "      <td>4590</td>\n",
       "      <td>1. Macrophysiology is the investigation of var...</td>\n",
       "      <td>Macrophysiology - progress and prospects</td>\n",
       "      <td>clines; environmental change; evolutionary eco...</td>\n",
       "      <td>[Ecology]</td>\n",
       "      <td>0</td>\n",
       "      <td>1</td>\n",
       "    </tr>\n",
       "    <tr>\n",
       "      <th>3</th>\n",
       "      <td>7496</td>\n",
       "      <td>Liriomyza sativae and L. trifolii (Diptera: Ag...</td>\n",
       "      <td>Does Temperature-Mediated Reproductive Success...</td>\n",
       "      <td>None</td>\n",
       "      <td>[Multidisciplinary Sciences]</td>\n",
       "      <td>0</td>\n",
       "      <td>1</td>\n",
       "    </tr>\n",
       "    <tr>\n",
       "      <th>4</th>\n",
       "      <td>8968</td>\n",
       "      <td>The heterogeneous topography of the Great Basi...</td>\n",
       "      <td>Life in an extreme environment: a historical p...</td>\n",
       "      <td>adaptation; body-size evolution; climate chang...</td>\n",
       "      <td>[Zoology]</td>\n",
       "      <td>0</td>\n",
       "      <td>1</td>\n",
       "    </tr>\n",
       "  </tbody>\n",
       "</table>\n",
       "</div>"
      ],
      "text/plain": [
       "     id                                            content  \\\n",
       "0  3095  Many coasts are eroding. In the Comoros, as in...   \n",
       "1  3309  Since the 1970s, the Niger basin has been char...   \n",
       "2  4590  1. Macrophysiology is the investigation of var...   \n",
       "3  7496  Liriomyza sativae and L. trifolii (Diptera: Ag...   \n",
       "4  8968  The heterogeneous topography of the Great Basi...   \n",
       "\n",
       "                                               title  \\\n",
       "0  Seawalls as a response to coastal erosion and ...   \n",
       "1  Hydro-climatic changes in the Niger basin and ...   \n",
       "2           Macrophysiology - progress and prospects   \n",
       "3  Does Temperature-Mediated Reproductive Success...   \n",
       "4  Life in an extreme environment: a historical p...   \n",
       "\n",
       "                                      wosarticle__de  \\\n",
       "0  Grande Comore; Comoros; Seawalls; Coastal eros...   \n",
       "1  Regional climate change; Hydrology; Perception...   \n",
       "2  clines; environmental change; evolutionary eco...   \n",
       "3                                               None   \n",
       "4  adaptation; body-size evolution; climate chang...   \n",
       "\n",
       "                                    wosarticle__wc  relevant  seen  \n",
       "0  [Environmental Sciences; Environmental Studies]         1     1  \n",
       "1  [Environmental Sciences; Environmental Studies]         1     1  \n",
       "2                                        [Ecology]         0     1  \n",
       "3                     [Multidisciplinary Sciences]         0     1  \n",
       "4                                        [Zoology]         0     1  "
      ]
     },
     "execution_count": 7,
     "metadata": {},
     "output_type": "execute_result"
    }
   ],
   "source": [
    "rated = list(seen_docs.values(*columns))\n",
    "r_docs = []\n",
    "for r in rated:\n",
    "    d = Doc.objects.get(pk=r['id'])\n",
    "\n",
    "    dos = DocOwnership.objects.filter(\n",
    "        query__project=p,doc=d,relevant__gt=0,\n",
    "    ).values_list('relevant',flat=True)\n",
    "    if not dos.exists():\n",
    "        dos = DocOwnership.objects.filter(\n",
    "            project=p,doc=d,relevant__gt=0,\n",
    "        ).values_list('relevant',flat=True)            \n",
    "    if len(set(dos))==1: # If there is only one value (all ratings agree)\n",
    "        if dos[0] == 1:\n",
    "            r['relevant'] = 1\n",
    "        elif dos[0] == 2 or dos[0] == 4:\n",
    "            r['relevant'] = 0\n",
    "        else:\n",
    "            continue\n",
    "        r_docs.append(r)\n",
    "    \n",
    "        \n",
    "seen_df = pd.DataFrame.from_dict(r_docs)\n",
    "seen_df = seen_df[columns + [\"relevant\"]]\n",
    "seen_df['seen'] = 1\n",
    "print(seen_df.shape)\n",
    "seen_df.head()"
   ]
  },
  {
   "cell_type": "code",
   "execution_count": 8,
   "metadata": {},
   "outputs": [
    {
     "data": {
      "text/html": [
       "<div>\n",
       "<style scoped>\n",
       "    .dataframe tbody tr th:only-of-type {\n",
       "        vertical-align: middle;\n",
       "    }\n",
       "\n",
       "    .dataframe tbody tr th {\n",
       "        vertical-align: top;\n",
       "    }\n",
       "\n",
       "    .dataframe thead th {\n",
       "        text-align: right;\n",
       "    }\n",
       "</style>\n",
       "<table border=\"1\" class=\"dataframe\">\n",
       "  <thead>\n",
       "    <tr style=\"text-align: right;\">\n",
       "      <th></th>\n",
       "      <th>id</th>\n",
       "      <th>content</th>\n",
       "      <th>title</th>\n",
       "      <th>wosarticle__de</th>\n",
       "      <th>wosarticle__wc</th>\n",
       "      <th>relevant</th>\n",
       "      <th>seen</th>\n",
       "    </tr>\n",
       "  </thead>\n",
       "  <tbody>\n",
       "    <tr>\n",
       "      <th>0</th>\n",
       "      <td>879171</td>\n",
       "      <td>Dobrogea is a region of Romania with a high ec...</td>\n",
       "      <td>Management of drought and floods in the Dobrog...</td>\n",
       "      <td>None</td>\n",
       "      <td>None</td>\n",
       "      <td>0</td>\n",
       "      <td>0</td>\n",
       "    </tr>\n",
       "    <tr>\n",
       "      <th>1</th>\n",
       "      <td>1430110</td>\n",
       "      <td>Forest conditions prior to extensive land clea...</td>\n",
       "      <td>Landscape-scale modeling of reference period f...</td>\n",
       "      <td>dendroecology; ecological modeling; fire behav...</td>\n",
       "      <td>[Ecology]</td>\n",
       "      <td>0</td>\n",
       "      <td>0</td>\n",
       "    </tr>\n",
       "    <tr>\n",
       "      <th>2</th>\n",
       "      <td>171517</td>\n",
       "      <td>Purpose - The purpose of this paper is to expl...</td>\n",
       "      <td>Resilience - an emerging paradigm of danger or...</td>\n",
       "      <td>Resilience; Disasters; Disaster risk reduction...</td>\n",
       "      <td>[Environmental Studies; Public, Environmental ...</td>\n",
       "      <td>0</td>\n",
       "      <td>0</td>\n",
       "    </tr>\n",
       "    <tr>\n",
       "      <th>3</th>\n",
       "      <td>2389302</td>\n",
       "      <td>Evolutionary approaches are gaining popularity...</td>\n",
       "      <td>Conservation through the lens of (mal)adaptati...</td>\n",
       "      <td>adaptation; demographic rescue; evolutionary r...</td>\n",
       "      <td>[Evolutionary Biology]</td>\n",
       "      <td>0</td>\n",
       "      <td>0</td>\n",
       "    </tr>\n",
       "    <tr>\n",
       "      <th>4</th>\n",
       "      <td>1282808</td>\n",
       "      <td>Severe droughts have caused widespread tree mo...</td>\n",
       "      <td>Triggers of tree mortality under drought</td>\n",
       "      <td>None</td>\n",
       "      <td>[Multidisciplinary Sciences]</td>\n",
       "      <td>0</td>\n",
       "      <td>0</td>\n",
       "    </tr>\n",
       "  </tbody>\n",
       "</table>\n",
       "</div>"
      ],
      "text/plain": [
       "        id                                            content  \\\n",
       "0   879171  Dobrogea is a region of Romania with a high ec...   \n",
       "1  1430110  Forest conditions prior to extensive land clea...   \n",
       "2   171517  Purpose - The purpose of this paper is to expl...   \n",
       "3  2389302  Evolutionary approaches are gaining popularity...   \n",
       "4  1282808  Severe droughts have caused widespread tree mo...   \n",
       "\n",
       "                                               title  \\\n",
       "0  Management of drought and floods in the Dobrog...   \n",
       "1  Landscape-scale modeling of reference period f...   \n",
       "2  Resilience - an emerging paradigm of danger or...   \n",
       "3  Conservation through the lens of (mal)adaptati...   \n",
       "4           Triggers of tree mortality under drought   \n",
       "\n",
       "                                      wosarticle__de  \\\n",
       "0                                               None   \n",
       "1  dendroecology; ecological modeling; fire behav...   \n",
       "2  Resilience; Disasters; Disaster risk reduction...   \n",
       "3  adaptation; demographic rescue; evolutionary r...   \n",
       "4                                               None   \n",
       "\n",
       "                                      wosarticle__wc  relevant  seen  \n",
       "0                                               None         0     0  \n",
       "1                                          [Ecology]         0     0  \n",
       "2  [Environmental Studies; Public, Environmental ...         0     0  \n",
       "3                             [Evolutionary Biology]         0     0  \n",
       "4                       [Multidisciplinary Sciences]         0     0  "
      ]
     },
     "execution_count": 8,
     "metadata": {},
     "output_type": "execute_result"
    }
   ],
   "source": [
    "df = pd.concat([seen_df,unseen_df]).sample(frac=1).reset_index(drop=True)\n",
    "y = df['relevant']\n",
    "df.head()"
   ]
  },
  {
   "cell_type": "code",
   "execution_count": 9,
   "metadata": {},
   "outputs": [
    {
     "name": "stdout",
     "output_type": "stream",
     "text": [
      "(448, 7)\n"
     ]
    },
    {
     "data": {
      "text/html": [
       "<div>\n",
       "<style scoped>\n",
       "    .dataframe tbody tr th:only-of-type {\n",
       "        vertical-align: middle;\n",
       "    }\n",
       "\n",
       "    .dataframe tbody tr th {\n",
       "        vertical-align: top;\n",
       "    }\n",
       "\n",
       "    .dataframe thead th {\n",
       "        text-align: right;\n",
       "    }\n",
       "</style>\n",
       "<table border=\"1\" class=\"dataframe\">\n",
       "  <thead>\n",
       "    <tr style=\"text-align: right;\">\n",
       "      <th></th>\n",
       "      <th>id</th>\n",
       "      <th>content</th>\n",
       "      <th>title</th>\n",
       "      <th>wosarticle__de</th>\n",
       "      <th>wosarticle__wc</th>\n",
       "      <th>relevant</th>\n",
       "      <th>seen</th>\n",
       "    </tr>\n",
       "  </thead>\n",
       "  <tbody>\n",
       "    <tr>\n",
       "      <th>2165</th>\n",
       "      <td>45099</td>\n",
       "      <td>Aims Arid environments are resource limited, w...</td>\n",
       "      <td>Spatiotemporal variation in the endangered Thy...</td>\n",
       "      <td>None</td>\n",
       "      <td>None</td>\n",
       "      <td>0</td>\n",
       "      <td>0</td>\n",
       "    </tr>\n",
       "    <tr>\n",
       "      <th>3474</th>\n",
       "      <td>2408102</td>\n",
       "      <td>Environments often vary across a life cycle, i...</td>\n",
       "      <td>Stage-specific genotype-by-environment interac...</td>\n",
       "      <td>None</td>\n",
       "      <td>None</td>\n",
       "      <td>0</td>\n",
       "      <td>0</td>\n",
       "    </tr>\n",
       "    <tr>\n",
       "      <th>4954</th>\n",
       "      <td>143454</td>\n",
       "      <td>This chapter sets the context of the book in g...</td>\n",
       "      <td>Introduction</td>\n",
       "      <td>None</td>\n",
       "      <td>None</td>\n",
       "      <td>0</td>\n",
       "      <td>0</td>\n",
       "    </tr>\n",
       "    <tr>\n",
       "      <th>5060</th>\n",
       "      <td>158922</td>\n",
       "      <td>Urban heat island (UHI) is micro-climatic phen...</td>\n",
       "      <td>Introduction</td>\n",
       "      <td>None</td>\n",
       "      <td>None</td>\n",
       "      <td>0</td>\n",
       "      <td>0</td>\n",
       "    </tr>\n",
       "    <tr>\n",
       "      <th>7855</th>\n",
       "      <td>175997</td>\n",
       "      <td>The term river herring collectively refers to ...</td>\n",
       "      <td>Projected ocean warming creates a conservation...</td>\n",
       "      <td>alewife; Alosa; bioclimatic envelope; blueback...</td>\n",
       "      <td>[Fisheries; Marine &amp; Freshwater Biology; Ocean...</td>\n",
       "      <td>0</td>\n",
       "      <td>0</td>\n",
       "    </tr>\n",
       "  </tbody>\n",
       "</table>\n",
       "</div>"
      ],
      "text/plain": [
       "           id                                            content  \\\n",
       "2165    45099  Aims Arid environments are resource limited, w...   \n",
       "3474  2408102  Environments often vary across a life cycle, i...   \n",
       "4954   143454  This chapter sets the context of the book in g...   \n",
       "5060   158922  Urban heat island (UHI) is micro-climatic phen...   \n",
       "7855   175997  The term river herring collectively refers to ...   \n",
       "\n",
       "                                                  title  \\\n",
       "2165  Spatiotemporal variation in the endangered Thy...   \n",
       "3474  Stage-specific genotype-by-environment interac...   \n",
       "4954                                       Introduction   \n",
       "5060                                       Introduction   \n",
       "7855  Projected ocean warming creates a conservation...   \n",
       "\n",
       "                                         wosarticle__de  \\\n",
       "2165                                               None   \n",
       "3474                                               None   \n",
       "4954                                               None   \n",
       "5060                                               None   \n",
       "7855  alewife; Alosa; bioclimatic envelope; blueback...   \n",
       "\n",
       "                                         wosarticle__wc  relevant  seen  \n",
       "2165                                               None         0     0  \n",
       "3474                                               None         0     0  \n",
       "4954                                               None         0     0  \n",
       "5060                                               None         0     0  \n",
       "7855  [Fisheries; Marine & Freshwater Biology; Ocean...         0     0  "
      ]
     },
     "execution_count": 9,
     "metadata": {},
     "output_type": "execute_result"
    }
   ],
   "source": [
    "duplicateRowsDF = df[df.duplicated(['title'])]\n",
    "print(duplicateRowsDF.shape)\n",
    "\n",
    "duplicateRowsDF.head()\n",
    "\n"
   ]
  },
  {
   "cell_type": "code",
   "execution_count": 10,
   "metadata": {},
   "outputs": [
    {
     "name": "stdout",
     "output_type": "stream",
     "text": [
      "Introduction\n",
      "Introduction\n",
      "Flowering time\n",
      "Introduction\n",
      "Soil Formation\n",
      "<QuerySet [{'title': 'Landslides in West Coast metropolitan areas: The role of extreme weather events', 'id': 182284}, {'title': 'Landslides in West Coast metropolitan areas: The role of extreme weather events', 'id': 1876630}]>\n",
      "Introduction\n",
      "Introduction\n",
      "<QuerySet [{'title': 'The importance of roads, nutrients, and climate for invasive plant establishment in riparian areas in the northwestern United States', 'id': 698489}, {'title': 'The importance of roads, nutrients, and climate for invasive plant establishment in riparian areas in the northwestern United States', 'id': 1516951}]>\n",
      "Conclusion\n",
      "Preface\n",
      "Economics\n",
      "<QuerySet [{'title': 'A review of numerical simulation methods for geomechanical problems induced by CO2 geological storage', 'id': 478732}, {'title': 'A review of numerical simulation methods for geomechanical problems induced by CO2 geological storage', 'id': 1816720}]>\n",
      "<QuerySet [{'title': 'Maintenance of earth sea dykes in changing environmental and structural conditions', 'id': 17674}, {'title': 'Maintenance of earth sea dykes in changing environmental and structural conditions', 'id': 1858905}]>\n",
      "Energy Procedia\n",
      "Procedia Engineering\n",
      "Insect resistance\n",
      "Introduction\n",
      "Conclusion\n",
      "Procedia Engineering\n",
      "<QuerySet [{'title': 'Sustainability design of concrete structures', 'id': 671628}, {'title': 'Sustainability design of concrete structures', 'id': 502013}]>\n",
      "<QuerySet [{'title': 'Nursery function of seagrass beds and its mechanisms', 'id': 618843}, {'title': 'Nursery function of seagrass beds and its mechanisms', 'id': 515872}]>\n",
      "Wheat\n",
      "<QuerySet [{'title': 'Heat stress within energy efficient dwellings in Australia', 'id': 248786}, {'title': 'Heat stress within energy efficient dwellings in Australia', 'id': 1643941}]>\n",
      "<QuerySet [{'title': 'Green design approaches in different sectors', 'id': 660041}, {'title': 'Green design approaches in different sectors', 'id': 1830474}]>\n",
      "<QuerySet [{'title': 'Knowledge exchange for innovation in the vernacular rammed earth technique, Peru', 'id': 151119}, {'title': 'Knowledge exchange for innovation in the vernacular rammed earth technique, Peru', 'id': 1818846}]>\n",
      "Introduction\n",
      "<QuerySet [{'title': 'Economic risk analysis of different livestock management systems', 'id': 629895}, {'title': 'Economic risk analysis of different livestock management systems', 'id': 468620}]>\n",
      "<QuerySet [{'title': 'Application of the initial model feature of microtremor to investigate a part of the geothermal field of Jiangsu region in China', 'id': 876997}, {'title': 'Application of the initial model feature of microtremor to investigate a part of the geothermal field of Jiangsu region in China', 'id': 1450796}]>\n",
      "<QuerySet [{'title': 'Estimating catchment-scale annual soil loss in managed native eucalypt forests, Australia', 'id': 50995}, {'title': 'Estimating catchment-scale annual soil loss in managed native eucalypt forests, Australia', 'id': 159069}]>\n",
      "<QuerySet [{'title': 'Risk aversion and optimal management of an uneven-aged forest under risk of windthrow: A Markov decision process approach', 'id': 154779}, {'title': 'Risk aversion and optimal management of an uneven-aged forest under risk of windthrow: A Markov decision process approach', 'id': 1524563}]>\n",
      "Economics\n",
      "Sustainability\n",
      "Economics\n",
      "<QuerySet [{'title': 'Local vs Global: How to assess the ecological cost and benefits of large scale renewables?', 'id': 865369}, {'title': 'Local vs Global: How to assess the ecological cost and benefits of large scale renewables?', 'id': 1757813}]>\n",
      "Urban areas\n",
      "<QuerySet [{'title': 'Effects of temperature on the development, reproduction and population growth of Anaphothrips obscurus (Thysanoptera: Thripidae)', 'id': 1524781}, {'title': 'Effects of temperature on the development, reproduction and population growth of Anaphothrips obscurus (Thysanoptera: Thripidae)', 'id': 740851}]>\n",
      "Conclusions\n",
      "<QuerySet [{'title': 'Long-term variability of the leading seasonal modes of rainfall in south-eastern Australia', 'id': 1858139}, {'title': 'Long-term variability of the leading seasonal modes of rainfall in south-eastern Australia', 'id': 296405}]>\n",
      "Economics\n",
      "Introduction\n",
      "<QuerySet [{'title': 'Resilience in polar ecosystems: From drivers to impacts and changes', 'id': 455507}, {'title': 'Resilience in polar ecosystems: From drivers to impacts and changes', 'id': 399005}]>\n",
      "Economics\n",
      "Conclusions\n",
      "<QuerySet [{'title': 'Web service tools in the era of forest fire management and elimination', 'id': 107912}, {'title': 'Web service tools in the era of forest fire management and elimination', 'id': 1689826}]>\n",
      "<QuerySet [{'title': 'Life cycle engineering for roads (LCE4ROADS), the new sustainability certification system for roads from the LCE4ROADS FP7 project', 'id': 333032}, {'title': 'Life cycle engineering for roads (LCE4ROADS), the new sustainability certification system for roads from the LCE4ROADS FP7 project', 'id': 2333918}]>\n",
      "<QuerySet [{'title': 'Application of Bayesian Belief Networks to quantify and map areas at risk to soil threats: Using soil compaction as an example', 'id': 712468}, {'title': 'Application of Bayesian Belief Networks to quantify and map areas at risk to soil threats: Using soil compaction as an example', 'id': 704776}]>\n",
      "<QuerySet [{'title': 'Climatization: A critical perspective of framing disasters as climate change events', 'id': 430527}, {'title': 'Climatization: A critical perspective of framing disasters as climate change events', 'id': 1878876}]>\n",
      "<QuerySet [{'title': 'An Optimal Information Centric Networking Model for the Future Green Network', 'id': 580762}, {'title': 'An Optimal Information Centric Networking Model for the Future Green Network', 'id': 1840210}]>\n",
      "Conclusion\n",
      "<QuerySet [{'title': 'Coupling HEC-RAS and HEC-HMS in Precipitation Runoff Modelling and Evaluating Flood Plain Inundation Map', 'id': 1876951}, {'title': 'Coupling HEC-RAS and HEC-HMS in Precipitation Runoff Modelling and Evaluating Flood Plain Inundation Map', 'id': 853630}]>\n",
      "Conclusions\n",
      "Introduction\n",
      "Adaptation\n",
      "Introduction\n",
      "Economics\n",
      "Rice\n",
      "<QuerySet [{'title': 'The Role of Landslide Risk Assessment in Slope Safety Management in Hong Kong', 'id': 854060}, {'title': 'The Role of Landslide Risk Assessment in Slope Safety Management in Hong Kong', 'id': 1877558}]>\n",
      "<QuerySet [{'title': 'Analysis of climatic and anthropogenic changes effects on spectral vegetation indices of forested areas', 'id': 1820619}, {'title': 'Analysis of climatic and anthropogenic changes effects on spectral vegetation indices of forested areas', 'id': 419394}]>\n",
      "Cold tolerance\n",
      "Introduction\n",
      "Root characters\n",
      "<QuerySet [{'title': 'Setting up the water balance simulation model WaSiM for the assessment of climate change impacts in Chiba basin, Tunisia', 'id': 188044}, {'title': 'Setting up the water balance simulation model WaSiM for the assessment of climate change impacts in Chiba basin, Tunisia', 'id': 1820567}]>\n",
      "<QuerySet [{'title': 'Optimization of design of decentralized energy networks by mathematical programming techniques', 'id': 4864}, {'title': 'Optimization of design of decentralized energy networks by mathematical programming techniques', 'id': 1893879}]>\n"
     ]
    }
   ],
   "source": [
    "for i, row in duplicateRowsDF.iterrows():\n",
    "    if len(row['title'].split()) < 3:\n",
    "        print(row['title'])\n",
    "        continue\n",
    "    d = Doc.objects.get(pk=row['id'])\n",
    "    ds = Doc.objects.filter(\n",
    "        tslug=Doc.make_tslug(d.title),\n",
    "        PY=d.PY\n",
    "    )\n",
    "    if ds.count() > 1:\n",
    "        print(ds.values('title','id'))\n",
    "        try:\n",
    "            wd = ds.get(UT__UT__icontains=\"WOS:\")\n",
    "            sd = ds.exclude(UT__UT__icontains=\"WOS:\")\n",
    "        except:\n",
    "            wd = ds.first()\n",
    "            sd = ds.exclude(pk=wd.pk)\n",
    "            #print(sd)\n",
    "            #continue\n",
    "        \n",
    "        for d in sd:\n",
    "            for do in d.docownership_set.filter(query__project=p):\n",
    "                if DocOwnership.objects.filter(user=do.user,doc=do.doc).exists():\n",
    "                    do.delete()\n",
    "                else:\n",
    "                    do.doc=wd\n",
    "                    do.save()\n",
    "            for q in d.query.filter(project=p):\n",
    "                d.query.remove(q)\n",
    "            try:\n",
    "                DocProject.objects.get(doc=d,project=p).delete()\n",
    "            except:\n",
    "                pass\n",
    "            \n",
    "            dut = d.UT\n",
    "            sid = dut.UT\n",
    "            dut.UT = dut.UT+\"dup\"\n",
    "            dut.save()\n",
    "        wut = wd.UT\n",
    "        wut.sid = sid\n",
    "        wut.save()\n",
    "            \n",
    "        "
   ]
  },
  {
   "cell_type": "code",
   "execution_count": null,
   "metadata": {},
   "outputs": [],
   "source": []
  },
  {
   "cell_type": "code",
   "execution_count": 11,
   "metadata": {},
   "outputs": [
    {
     "name": "stdout",
     "output_type": "stream",
     "text": [
      "Int64Index([   46,    68,    69,    75,   131,   162,   164,   177,   207,\n",
      "              212,\n",
      "            ...\n",
      "            62173, 62199, 62248, 62254, 62258, 62261, 62309, 62312, 62327,\n",
      "            62393],\n",
      "           dtype='int64', length=2159)\n",
      "Int64Index([29827, 18297, 17612, 23878,  6918, 45458, 29894, 35346, 51303,\n",
      "            23139,\n",
      "            ...\n",
      "             5233, 23268, 12227, 29993, 47906, 36673, 24344, 32974, 58643,\n",
      "            34717],\n",
      "           dtype='int64', length=1728)\n"
     ]
    }
   ],
   "source": [
    "seen_index = df[df['seen']==1].index\n",
    "unseen_index = df[df['seen']==0].index\n",
    "#pred_index = pd.Index(random.sample(list(unseen_index),5000))\n",
    "\n",
    "k = math.ceil(len(seen_index)*0.8)\n",
    "train_index = pd.Index(random.sample(list(seen_index),k))\n",
    "\n",
    "print(seen_index)\n",
    "print(train_index)\n",
    "\n",
    "#experiment_index = pd.Index(set(seen_index) | set(pred_index))\n",
    "\n",
    "test_index = pd.Index([x for x in seen_index if x not in train_index])\n"
   ]
  },
  {
   "cell_type": "code",
   "execution_count": 12,
   "metadata": {},
   "outputs": [
    {
     "data": {
      "image/png": "[encoded data removed]",
      "text/plain": [
       "<matplotlib.figure.Figure at 0x7fe7ddc887f0>"
      ]
     },
     "metadata": {},
     "output_type": "display_data"
    }
   ],
   "source": [
    "fig, ax = plt.subplots()\n",
    "n = seen_df.shape[0]\n",
    "for i, (name, group) in enumerate(seen_df.groupby('relevant')):\n",
    "    ax.bar(i, group.shape[0])\n",
    "    ax.text(i, group.shape[0]+n*0.02, f'{group.shape[0]/n:.0%}',ha=\"center\")"
   ]
  },
  {
   "cell_type": "code",
   "execution_count": 13,
   "metadata": {},
   "outputs": [
    {
     "name": "stderr",
     "output_type": "stream",
     "text": [
      "/home/galm/software/django/tmv/venv/lib/python3.6/site-packages/sklearn/feature_extraction/text.py:300: UserWarning: Your stop_words may be inconsistent with your preprocessing. Tokenizing the stop words generated tokens ['make'] not in stop_words.\n",
      "  'stop_words.' % sorted(inconsistent))\n"
     ]
    }
   ],
   "source": [
    "vec = TfidfVectorizer(\n",
    "    ngram_range=(1,2),\n",
    "    min_df=4, max_df=0.8, strip_accents='unicode', \n",
    "    max_features=10000,\n",
    "    use_idf=1,\n",
    "    smooth_idf=1, sublinear_tf=1,\n",
    "    stop_words=\"english\",tokenizer=learning_utils.tokenize\n",
    ")\n",
    "\n",
    "y = df['relevant']\n",
    "ab_X = vec.fit_transform(df['content'])"
   ]
  },
  {
   "cell_type": "code",
   "execution_count": 14,
   "metadata": {},
   "outputs": [
    {
     "data": {
      "image/png": "[encoded data removed]",
      "text/plain": [
       "<matplotlib.figure.Figure at 0x7fe7e026e400>"
      ]
     },
     "metadata": {},
     "output_type": "display_data"
    }
   ],
   "source": [
    "import importlib\n",
    "importlib.reload(learning_utils)\n",
    "\n",
    "clf = MultinomialNB(alpha=0.1)\n",
    "clf.fit(ab_X[train_index],y[train_index])\n",
    "\n",
    "fig, ax = plt.subplots(figsize=(8,5))\n",
    "learning_utils.plot_model_accuracy(clf,ab_X[test_index],y[test_index],ax,0.5)"
   ]
  },
  {
   "cell_type": "code",
   "execution_count": 15,
   "metadata": {
    "scrolled": true
   },
   "outputs": [],
   "source": [
    "from sklearn.model_selection import KFold\n",
    "\n",
    "model = {}\n",
    "model['p'] = []\n",
    "model['r'] = []\n",
    "model['e'] = []\n",
    "model['i'] = []\n",
    "\n",
    "kf = KFold(n_splits=5)\n",
    "\n",
    "for k_train, k_test in kf.split(seen_index):\n",
    "    k_train = seen_index[k_train]\n",
    "    k_test = seen_index[k_test]\n",
    "    clf = MultinomialNB(alpha=0.1)\n",
    "    clf.fit(ab_X[k_train],y[k_train])\n",
    "    predictions = clf.predict(ab_X[k_test])\n",
    "    model['e'].append(clf.score(ab_X[k_test],y[k_test]))\n",
    "    # Precision\n",
    "    model['p'].append(precision_score(predictions,y[k_test]))\n",
    "    # Recall\n",
    "    model['r'].append(recall_score(predictions,y[k_test]))\n",
    "    #print(k_train)\n",
    "    "
   ]
  },
  {
   "cell_type": "code",
   "execution_count": 16,
   "metadata": {},
   "outputs": [
    {
     "data": {
      "image/png": "[encoded data removed]",
      "text/plain": [
       "<matplotlib.figure.Figure at 0x7fe7c590e550>"
      ]
     },
     "metadata": {},
     "output_type": "display_data"
    }
   ],
   "source": [
    "fig, ax = plt.subplots()\n",
    "ax.plot(model['p'],label=\"Precision\")\n",
    "ax.plot(model['r'],label=\"Recall\")\n",
    "ax.plot(model['e'],label=\"Mean Accuracy\")\n",
    "\n",
    "plt.legend()\n",
    "\n",
    "plt.show()"
   ]
  },
  {
   "cell_type": "code",
   "execution_count": 17,
   "metadata": {},
   "outputs": [],
   "source": [
    "models = [\n",
    "    {\n",
    "        'title': 'SVM', \n",
    "        'model': SVC(kernel='linear',class_weight='balanced',probability=True)\n",
    "    },\n",
    "    {\n",
    "        'title':\"Neural Net\",\n",
    "        'model': MLPClassifier(\n",
    "            solver='lbfgs', \n",
    "            alpha=0.1,\n",
    "            hidden_layer_sizes=(10), \n",
    "            random_state=1\n",
    "        )\n",
    "    },\n",
    "    {\n",
    "        'title': 'Naive Bayes', \n",
    "        'model': MultinomialNB(alpha=0.1)     \n",
    "    }\n",
    "]\n",
    "\n",
    "for model in models:\n",
    "    model['p'] = []\n",
    "    model['r'] = []\n",
    "    model['e'] = []\n",
    "    model['i'] = []\n",
    "\n",
    "kf = KFold(n_splits=10)\n",
    "i=0\n",
    "for k_train, k_test in kf.split(seen_index):\n",
    "    k_train = seen_index[k_train]\n",
    "    k_test = seen_index[k_test]\n",
    "    for model in models:\n",
    "        clf = model['model']\n",
    "        i+=1\n",
    "        model['i'].append(i)\n",
    "        #clf = SVC(kernel='rbf',probability=True)\n",
    "        clf.fit(ab_X[k_train],y[k_train])\n",
    "        predictions = clf.predict(ab_X[k_test])\n",
    "        model['e'].append(clf.score(ab_X[k_test],y[k_test]))\n",
    "        # Precision\n",
    "        model['p'].append(precision_score(predictions,y[k_test]))\n",
    "        # Recall\n",
    "        model['r'].append(recall_score(predictions,y[k_test]))"
   ]
  },
  {
   "cell_type": "code",
   "execution_count": 18,
   "metadata": {},
   "outputs": [
    {
     "data": {
      "image/png": "[encoded data removed]",
      "text/plain": [
       "<matplotlib.figure.Figure at 0x7fe79b3df470>"
      ]
     },
     "metadata": {},
     "output_type": "display_data"
    }
   ],
   "source": [
    "plt.rcParams['grid.linestyle'] = \"--\"\n",
    "fig, axs = plt.subplots(1,3,dpi=125,figsize=double_figure,sharey=True)\n",
    "for i, model in enumerate(models):\n",
    "    ax = axs[i]\n",
    "    ax.plot(model['p'],label=\"Precision\")\n",
    "    ax.plot(model['r'],label=\"Recall\")\n",
    "    ax.plot(model['e'],label=\"Mean Accuracy\")\n",
    "    \n",
    "    ax.set_title(f'{model[\"title\"]} mean accuracy {np.mean(model[\"e\"]):.0%}')\n",
    "    ax.grid()\n",
    "    ax.legend()\n",
    "    \n",
    "plt.show()"
   ]
  },
  {
   "cell_type": "code",
   "execution_count": 19,
   "metadata": {},
   "outputs": [],
   "source": [
    "clf =  MLPClassifier(\n",
    "            solver='lbfgs', \n",
    "            alpha=0.1,\n",
    "            hidden_layer_sizes=(10), \n",
    "            random_state=1\n",
    "        )\n",
    "\n",
    "#clf = SVC(kernel='linear',class_weight='balanced',probability=True)\n",
    "\n",
    "\n",
    "clf.fit(ab_X[seen_index],y[seen_index])\n",
    "\n",
    "y_pred = clf.predict_proba(ab_X[unseen_index])"
   ]
  },
  {
   "cell_type": "code",
   "execution_count": 20,
   "metadata": {},
   "outputs": [],
   "source": [
    "df['prediction'] = None\n",
    "df.loc[unseen_index,'prediction'] = y_pred[:,1]"
   ]
  },
  {
   "cell_type": "code",
   "execution_count": 21,
   "metadata": {},
   "outputs": [
    {
     "name": "stdout",
     "output_type": "stream",
     "text": [
      "3862\n",
      "62396\n"
     ]
    },
    {
     "data": {
      "image/png": "[encoded data removed]",
      "text/plain": [
       "<matplotlib.figure.Figure at 0x7fe7c898f7b8>"
      ]
     },
     "metadata": {},
     "output_type": "display_data"
    }
   ],
   "source": [
    "plt.close()\n",
    "\n",
    "fig, ax = plt.subplots()\n",
    "\n",
    "pdf = df.sort_values('prediction').reset_index(drop=True)\n",
    "ax.plot(pdf.index,pdf['prediction'])\n",
    "ax.axhline(0.5,linestyle=\"--\",color=\"grey\")\n",
    "\n",
    "print(pdf[pdf['prediction']>0.5].shape[0])\n",
    "print(pdf.shape[0])\n",
    "\n",
    "plt.show()"
   ]
  },
  {
   "cell_type": "code",
   "execution_count": 22,
   "metadata": {},
   "outputs": [
    {
     "data": {
      "text/plain": [
       "<Query: published 2013+>"
      ]
     },
     "execution_count": 22,
     "metadata": {},
     "output_type": "execute_result"
    }
   ],
   "source": [
    "q = Query.objects.get(pk=qid)\n",
    "q"
   ]
  },
  {
   "cell_type": "code",
   "execution_count": 25,
   "metadata": {},
   "outputs": [],
   "source": [
    "import datetime\n",
    "now = datetime.datetime.now().strftime(\"%Y-%m-%d %H:%M\")\n",
    "\n",
    "t1 = Tag(\n",
    "    title=\"predicted relevant sample (comparison) {}\".format(now),\n",
    "    query=q\n",
    ")\n",
    "t1.save()\n",
    "\n",
    "t2 = Tag(\n",
    "    title=\"predicted relevant sample_2 {}\".format(now),\n",
    "    query=q\n",
    ")\n",
    "t2.save()\n",
    "\n",
    "tag = t1\n",
    "\n",
    "users = q.users.all()\n",
    "uc = len(users)\n",
    "max_docs = 1000\n",
    "docs_added = 0\n",
    "for i, row in df.sort_values('prediction',ascending=False).head(3500).reset_index(drop=True).iterrows():\n",
    "    d = Doc.objects.get(id=row['id'])\n",
    "    if d.docownership_set.filter(query=q).exists():\n",
    "        continue\n",
    "    else:\n",
    "        if docs_added < 100:\n",
    "            d.tag.add(t1)\n",
    "            docs_added+=1\n",
    "        elif docs_added < 1100:\n",
    "            d.tag.add(t2)\n",
    "            docs_added+=1\n",
    "        else:\n",
    "            break        \n",
    "\n",
    "    \n",
    "t1.update_tag()\n",
    "t2.update_tag()"
   ]
  },
  {
   "cell_type": "code",
   "execution_count": 47,
   "metadata": {},
   "outputs": [
    {
     "data": {
      "text/plain": [
       "1036"
      ]
     },
     "execution_count": 47,
     "metadata": {},
     "output_type": "execute_result"
    }
   ],
   "source": [
    "i"
   ]
  },
  {
   "cell_type": "code",
   "execution_count": 41,
   "metadata": {},
   "outputs": [],
   "source": [
    "df.to_csv(f'doctables/predictions_{now}.csv',index=False)"
   ]
  },
  {
   "cell_type": "code",
   "execution_count": null,
   "metadata": {},
   "outputs": [],
   "source": []
  }
 ],
 "metadata": {
  "kernelspec": {
   "display_name": "tmv",
   "language": "python",
   "name": "tmv"
  },
  "language_info": {
   "codemirror_mode": {
    "name": "ipython",
    "version": 3
   },
   "file_extension": ".py",
   "mimetype": "text/x-python",
   "name": "python",
   "nbconvert_exporter": "python",
   "pygments_lexer": "ipython3",
   "version": "3.6.7"
  },
  "varInspector": {
   "cols": {
    "lenName": 16,
    "lenType": 16,
    "lenVar": 40
   },
   "kernels_config": {
    "python": {
     "delete_cmd_postfix": "",
     "delete_cmd_prefix": "del ",
     "library": "var_list.py",
     "varRefreshCmd": "print(var_dic_list())"
    },
    "r": {
     "delete_cmd_postfix": ") ",
     "delete_cmd_prefix": "rm(",
     "library": "var_list.r",
     "varRefreshCmd": "cat(var_dic_list()) "
    }
   },
   "types_to_exclude": [
    "module",
    "function",
    "builtin_function_or_method",
    "instance",
    "_Feature"
   ],
   "window_display": false
  }
 },
 "nbformat": 4,
 "nbformat_minor": 2
}
