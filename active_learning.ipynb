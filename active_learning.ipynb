{
 "cells": [
  {
   "cell_type": "code",
   "execution_count": 1,
   "metadata": {},
   "outputs": [],
   "source": [
    "import matplotlib.pyplot as plt\n",
    "import numpy as np\n",
    "import pandas as pd\n",
    "import sys, os, django\n",
    "import math\n",
    "\n",
    "\n",
    "from sklearn.manifold import TSNE\n",
    "from sklearn.svm import SVC, OneClassSVM\n",
    "from sklearn.metrics import average_precision_score\n",
    "from sklearn.metrics import precision_recall_curve\n",
    "from sklearn.metrics import precision_score, recall_score\n",
    "\n",
    "from sklearn.decomposition import NMF\n",
    "from sklearn.naive_bayes import MultinomialNB\n",
    "from sklearn.linear_model import SGDClassifier\n",
    "\n",
    "from sklearn.feature_extraction.text import CountVectorizer, TfidfVectorizer\n",
    "from sklearn.model_selection import KFold\n",
    "from sklearn.neural_network import MLPClassifier\n",
    "from scipy.sparse import hstack\n",
    "\n",
    "sys.path.append('/home/galm/software/django/tmv/BasicBrowser/')\n",
    "os.environ.setdefault(\"DJANGO_SETTINGS_MODULE\", \"BasicBrowser.settings\")\n",
    "django.setup()\n",
    "\n",
    "from django.db.models import Q, F, Sum, Count, FloatField, Case, When, Value, Max\n",
    "from sklearn.manifold import TSNE\n",
    "from scoping.models import *\n",
    "from scoping.views import *\n",
    "\n",
    "import learning_utils\n",
    "import random\n",
    "\n",
    "\n",
    "double_figure = (7.2,7.2/8*5)\n",
    "plt.rc('font',size=7)\n",
    "plt.rc('axes',titlesize=7)\n",
    "plt.rc('axes',labelsize=7)\n",
    "plt.rc('xtick',labelsize=7)\n",
    "plt.rc('ytick',labelsize=7)\n",
    "plt.rc('legend',fontsize=7)\n",
    "plt.rc('figure',titlesize=7)"
   ]
  },
  {
   "cell_type": "code",
   "execution_count": 2,
   "metadata": {},
   "outputs": [
    {
     "data": {
      "text/plain": [
       "75079"
      ]
     },
     "execution_count": 2,
     "metadata": {},
     "output_type": "execute_result"
    }
   ],
   "source": [
    "pid = 193\n",
    "qid = 7638\n",
    "q = Query.objects.get(pk=qid)\n",
    "p = Project.objects.get(pk=pid)\n",
    "\n",
    "other_docs = Doc.objects.filter(docproject__project=p, PY__gt=2012).exclude(query=q)\n",
    "\n",
    "for d in other_docs:\n",
    "    d.query.add(q)\n",
    "\n",
    "q.r_count = q.doc_set.count()\n",
    "q.save()\n",
    "q.r_count"
   ]
  },
  {
   "cell_type": "code",
   "execution_count": 3,
   "metadata": {},
   "outputs": [
    {
     "data": {
      "text/plain": [
       "5"
      ]
     },
     "execution_count": 3,
     "metadata": {},
     "output_type": "execute_result"
    }
   ],
   "source": [
    "q.doc_set.filter(PY=2012).count()"
   ]
  },
  {
   "cell_type": "code",
   "execution_count": 4,
   "metadata": {},
   "outputs": [
    {
     "name": "stdout",
     "output_type": "stream",
     "text": [
      "62586\n"
     ]
    },
    {
     "data": {
      "text/plain": [
       "8630"
      ]
     },
     "execution_count": 4,
     "metadata": {},
     "output_type": "execute_result"
    }
   ],
   "source": [
    "docs = Doc.objects.filter(query=q, content__iregex='\\w').values_list('pk', flat=True)\n",
    "\n",
    "print(docs.count())\n",
    "\n",
    "seen = set(DocOwnership.objects.filter(\n",
    "    query=q, \n",
    "    relevant__gt=0\n",
    ").values_list('doc__pk', flat=True))\n",
    "\n",
    "\n",
    "seen = seen & set(docs)\n",
    "\n",
    "seen_docs = Doc.objects.filter(pk__in=seen)\n",
    "seen_docs.count()"
   ]
  },
  {
   "cell_type": "code",
   "execution_count": 5,
   "metadata": {},
   "outputs": [
    {
     "data": {
      "text/plain": [
       "<QuerySet [{'relevant': 0, 'n': 106655}, {'relevant': 1, 'n': 3043}, {'relevant': 2, 'n': 5298}, {'relevant': 3, 'n': 319}]>"
      ]
     },
     "execution_count": 5,
     "metadata": {},
     "output_type": "execute_result"
    }
   ],
   "source": [
    "DocProject.objects.filter(project=p).values('relevant').annotate(\n",
    "    n = Count('pk')\n",
    ")"
   ]
  },
  {
   "cell_type": "code",
   "execution_count": 6,
   "metadata": {},
   "outputs": [
    {
     "name": "stdout",
     "output_type": "stream",
     "text": [
      "(53956, 7)\n"
     ]
    },
    {
     "data": {
      "text/html": [
       "<div>\n",
       "<style scoped>\n",
       "    .dataframe tbody tr th:only-of-type {\n",
       "        vertical-align: middle;\n",
       "    }\n",
       "\n",
       "    .dataframe tbody tr th {\n",
       "        vertical-align: top;\n",
       "    }\n",
       "\n",
       "    .dataframe thead th {\n",
       "        text-align: right;\n",
       "    }\n",
       "</style>\n",
       "<table border=\"1\" class=\"dataframe\">\n",
       "  <thead>\n",
       "    <tr style=\"text-align: right;\">\n",
       "      <th></th>\n",
       "      <th>id</th>\n",
       "      <th>content</th>\n",
       "      <th>title</th>\n",
       "      <th>wosarticle__de</th>\n",
       "      <th>wosarticle__wc</th>\n",
       "      <th>relevant</th>\n",
       "      <th>seen</th>\n",
       "    </tr>\n",
       "  </thead>\n",
       "  <tbody>\n",
       "    <tr>\n",
       "      <th>0</th>\n",
       "      <td>46</td>\n",
       "      <td>Glaciers store water over a range of temporal ...</td>\n",
       "      <td>A review of methods for estimating the contrib...</td>\n",
       "      <td>climate change; glacier meltwater; hydrologica...</td>\n",
       "      <td>[Geography, Physical; Geosciences, Multidiscip...</td>\n",
       "      <td>0</td>\n",
       "      <td>0</td>\n",
       "    </tr>\n",
       "    <tr>\n",
       "      <th>1</th>\n",
       "      <td>111</td>\n",
       "      <td>1 .Gradients in elevation are increasingly use...</td>\n",
       "      <td>Changes in host-parasitoid food web structure ...</td>\n",
       "      <td>climate change; elevation; experimental manipu...</td>\n",
       "      <td>[Ecology; Zoology]</td>\n",
       "      <td>0</td>\n",
       "      <td>0</td>\n",
       "    </tr>\n",
       "    <tr>\n",
       "      <th>2</th>\n",
       "      <td>260</td>\n",
       "      <td>Phytosanitary risks are an increasing threat f...</td>\n",
       "      <td>An economic comparison of risk handling measur...</td>\n",
       "      <td>Phytosanitary risks; Cause-oriented measures; ...</td>\n",
       "      <td>[Forestry]</td>\n",
       "      <td>0</td>\n",
       "      <td>0</td>\n",
       "    </tr>\n",
       "    <tr>\n",
       "      <th>3</th>\n",
       "      <td>274</td>\n",
       "      <td>Regenerative sustainability is emerging as an ...</td>\n",
       "      <td>Regenerative sustainability for the built envi...</td>\n",
       "      <td>Regenerative sustainability; Theory; Framework...</td>\n",
       "      <td>[Green &amp; Sustainable Science &amp; Technology; Eng...</td>\n",
       "      <td>0</td>\n",
       "      <td>0</td>\n",
       "    </tr>\n",
       "    <tr>\n",
       "      <th>4</th>\n",
       "      <td>297</td>\n",
       "      <td>Grass silage is typically fed to dairy cows in...</td>\n",
       "      <td>Effects of nitrogen fertilisation rate and mat...</td>\n",
       "      <td>nitrogen fertilisation; grass maturity; ryegra...</td>\n",
       "      <td>[Agriculture, Dairy &amp; Animal Science; Veterina...</td>\n",
       "      <td>0</td>\n",
       "      <td>0</td>\n",
       "    </tr>\n",
       "  </tbody>\n",
       "</table>\n",
       "</div>"
      ],
      "text/plain": [
       "    id                                            content  \\\n",
       "0   46  Glaciers store water over a range of temporal ...   \n",
       "1  111  1 .Gradients in elevation are increasingly use...   \n",
       "2  260  Phytosanitary risks are an increasing threat f...   \n",
       "3  274  Regenerative sustainability is emerging as an ...   \n",
       "4  297  Grass silage is typically fed to dairy cows in...   \n",
       "\n",
       "                                               title  \\\n",
       "0  A review of methods for estimating the contrib...   \n",
       "1  Changes in host-parasitoid food web structure ...   \n",
       "2  An economic comparison of risk handling measur...   \n",
       "3  Regenerative sustainability for the built envi...   \n",
       "4  Effects of nitrogen fertilisation rate and mat...   \n",
       "\n",
       "                                      wosarticle__de  \\\n",
       "0  climate change; glacier meltwater; hydrologica...   \n",
       "1  climate change; elevation; experimental manipu...   \n",
       "2  Phytosanitary risks; Cause-oriented measures; ...   \n",
       "3  Regenerative sustainability; Theory; Framework...   \n",
       "4  nitrogen fertilisation; grass maturity; ryegra...   \n",
       "\n",
       "                                      wosarticle__wc  relevant  seen  \n",
       "0  [Geography, Physical; Geosciences, Multidiscip...         0     0  \n",
       "1                                 [Ecology; Zoology]         0     0  \n",
       "2                                         [Forestry]         0     0  \n",
       "3  [Green & Sustainable Science & Technology; Eng...         0     0  \n",
       "4  [Agriculture, Dairy & Animal Science; Veterina...         0     0  "
      ]
     },
     "execution_count": 6,
     "metadata": {},
     "output_type": "execute_result"
    }
   ],
   "source": [
    "unseen_docs = docs.exclude(pk__in=seen).distinct('id')\n",
    "\n",
    "unseen_docs.count()\n",
    "\n",
    "columns = [\n",
    "    'id',\n",
    "    'content',\n",
    "    'title',\n",
    "    'wosarticle__de',\n",
    "    'wosarticle__wc'\n",
    "]\n",
    "\n",
    "unseen_df = pd.DataFrame.from_dict(list(unseen_docs.values(*columns)))\n",
    "unseen_df = unseen_df[columns]\n",
    "unseen_df['relevant'] = 0\n",
    "unseen_df['seen'] = 0\n",
    "\n",
    "print(unseen_df.shape)\n",
    "unseen_df.head()"
   ]
  },
  {
   "cell_type": "code",
   "execution_count": 7,
   "metadata": {},
   "outputs": [
    {
     "name": "stdout",
     "output_type": "stream",
     "text": [
      "(8329, 7)\n"
     ]
    },
    {
     "data": {
      "text/html": [
       "<div>\n",
       "<style scoped>\n",
       "    .dataframe tbody tr th:only-of-type {\n",
       "        vertical-align: middle;\n",
       "    }\n",
       "\n",
       "    .dataframe tbody tr th {\n",
       "        vertical-align: top;\n",
       "    }\n",
       "\n",
       "    .dataframe thead th {\n",
       "        text-align: right;\n",
       "    }\n",
       "</style>\n",
       "<table border=\"1\" class=\"dataframe\">\n",
       "  <thead>\n",
       "    <tr style=\"text-align: right;\">\n",
       "      <th></th>\n",
       "      <th>id</th>\n",
       "      <th>content</th>\n",
       "      <th>title</th>\n",
       "      <th>wosarticle__de</th>\n",
       "      <th>wosarticle__wc</th>\n",
       "      <th>relevant</th>\n",
       "      <th>seen</th>\n",
       "    </tr>\n",
       "  </thead>\n",
       "  <tbody>\n",
       "    <tr>\n",
       "      <th>0</th>\n",
       "      <td>694</td>\n",
       "      <td>The effectiveness of various adaptation option...</td>\n",
       "      <td>Building adaptive capacity in South East Queen...</td>\n",
       "      <td>Adaptive capacity; Climate change; Adaptation;...</td>\n",
       "      <td>[Environmental Sciences; Environmental Studies]</td>\n",
       "      <td>0</td>\n",
       "      <td>1</td>\n",
       "    </tr>\n",
       "    <tr>\n",
       "      <th>1</th>\n",
       "      <td>1630</td>\n",
       "      <td>Cover crops have long been touted for their ab...</td>\n",
       "      <td>Using cover crops to mitigate and adapt to cli...</td>\n",
       "      <td>Adaptive management; Agriculture; Albedo; Cove...</td>\n",
       "      <td>[Agronomy; Green &amp; Sustainable Science &amp; Techn...</td>\n",
       "      <td>1</td>\n",
       "      <td>1</td>\n",
       "    </tr>\n",
       "    <tr>\n",
       "      <th>2</th>\n",
       "      <td>1731</td>\n",
       "      <td>Management of marine mega-fauna in a changing ...</td>\n",
       "      <td>Adaptive management of marine mega-fauna in a ...</td>\n",
       "      <td>Adaptive management; Climate change; Marine me...</td>\n",
       "      <td>[Environmental Sciences]</td>\n",
       "      <td>0</td>\n",
       "      <td>1</td>\n",
       "    </tr>\n",
       "    <tr>\n",
       "      <th>3</th>\n",
       "      <td>2382</td>\n",
       "      <td>According to dominant narratives about adaptat...</td>\n",
       "      <td>Migration Amidst Climate Rigidity Traps: Resou...</td>\n",
       "      <td>adaptation; climate change; migration; politic...</td>\n",
       "      <td>[Geography]</td>\n",
       "      <td>0</td>\n",
       "      <td>1</td>\n",
       "    </tr>\n",
       "    <tr>\n",
       "      <th>4</th>\n",
       "      <td>3095</td>\n",
       "      <td>Many coasts are eroding. In the Comoros, as in...</td>\n",
       "      <td>Seawalls as a response to coastal erosion and ...</td>\n",
       "      <td>Grande Comore; Comoros; Seawalls; Coastal eros...</td>\n",
       "      <td>[Environmental Sciences; Environmental Studies]</td>\n",
       "      <td>1</td>\n",
       "      <td>1</td>\n",
       "    </tr>\n",
       "  </tbody>\n",
       "</table>\n",
       "</div>"
      ],
      "text/plain": [
       "     id                                            content  \\\n",
       "0   694  The effectiveness of various adaptation option...   \n",
       "1  1630  Cover crops have long been touted for their ab...   \n",
       "2  1731  Management of marine mega-fauna in a changing ...   \n",
       "3  2382  According to dominant narratives about adaptat...   \n",
       "4  3095  Many coasts are eroding. In the Comoros, as in...   \n",
       "\n",
       "                                               title  \\\n",
       "0  Building adaptive capacity in South East Queen...   \n",
       "1  Using cover crops to mitigate and adapt to cli...   \n",
       "2  Adaptive management of marine mega-fauna in a ...   \n",
       "3  Migration Amidst Climate Rigidity Traps: Resou...   \n",
       "4  Seawalls as a response to coastal erosion and ...   \n",
       "\n",
       "                                      wosarticle__de  \\\n",
       "0  Adaptive capacity; Climate change; Adaptation;...   \n",
       "1  Adaptive management; Agriculture; Albedo; Cove...   \n",
       "2  Adaptive management; Climate change; Marine me...   \n",
       "3  adaptation; climate change; migration; politic...   \n",
       "4  Grande Comore; Comoros; Seawalls; Coastal eros...   \n",
       "\n",
       "                                      wosarticle__wc  relevant  seen  \n",
       "0    [Environmental Sciences; Environmental Studies]         0     1  \n",
       "1  [Agronomy; Green & Sustainable Science & Techn...         1     1  \n",
       "2                           [Environmental Sciences]         0     1  \n",
       "3                                        [Geography]         0     1  \n",
       "4    [Environmental Sciences; Environmental Studies]         1     1  "
      ]
     },
     "execution_count": 7,
     "metadata": {},
     "output_type": "execute_result"
    }
   ],
   "source": [
    "rated = list(seen_docs.values(*columns))\n",
    "r_docs = []\n",
    "for r in rated:\n",
    "    d = Doc.objects.get(pk=r['id'])\n",
    "\n",
    "    dos = DocOwnership.objects.filter(\n",
    "        query__project=p,doc=d,relevant__gt=0,\n",
    "    ).values_list('relevant',flat=True)\n",
    "    if not dos.exists():\n",
    "        dos = DocOwnership.objects.filter(\n",
    "            project=p,doc=d,relevant__gt=0,\n",
    "        ).values_list('relevant',flat=True)            \n",
    "    if len(set(dos))==1: # If there is only one value (all ratings agree)\n",
    "        if dos[0] == 1:\n",
    "            r['relevant'] = 1\n",
    "        elif dos[0] == 2 or dos[0] == 4:\n",
    "            r['relevant'] = 0\n",
    "        else:\n",
    "            continue\n",
    "        r_docs.append(r)\n",
    "    \n",
    "        \n",
    "seen_df = pd.DataFrame.from_dict(r_docs)\n",
    "seen_df = seen_df[columns + [\"relevant\"]]\n",
    "seen_df['seen'] = 1\n",
    "print(seen_df.shape)\n",
    "seen_df.head()"
   ]
  },
  {
   "cell_type": "code",
   "execution_count": 8,
   "metadata": {},
   "outputs": [
    {
     "data": {
      "text/html": [
       "<div>\n",
       "<style scoped>\n",
       "    .dataframe tbody tr th:only-of-type {\n",
       "        vertical-align: middle;\n",
       "    }\n",
       "\n",
       "    .dataframe tbody tr th {\n",
       "        vertical-align: top;\n",
       "    }\n",
       "\n",
       "    .dataframe thead th {\n",
       "        text-align: right;\n",
       "    }\n",
       "</style>\n",
       "<table border=\"1\" class=\"dataframe\">\n",
       "  <thead>\n",
       "    <tr style=\"text-align: right;\">\n",
       "      <th></th>\n",
       "      <th>id</th>\n",
       "      <th>content</th>\n",
       "      <th>title</th>\n",
       "      <th>wosarticle__de</th>\n",
       "      <th>wosarticle__wc</th>\n",
       "      <th>relevant</th>\n",
       "      <th>seen</th>\n",
       "    </tr>\n",
       "  </thead>\n",
       "  <tbody>\n",
       "    <tr>\n",
       "      <th>0</th>\n",
       "      <td>725396</td>\n",
       "      <td>To explore the effects of sea level rise (SLR)...</td>\n",
       "      <td>Future vegetation patterns and primary product...</td>\n",
       "      <td>coastal ecosystem; sea level rise; exotic gras...</td>\n",
       "      <td>[Environmental Sciences; Geosciences, Multidis...</td>\n",
       "      <td>0</td>\n",
       "      <td>0</td>\n",
       "    </tr>\n",
       "    <tr>\n",
       "      <th>1</th>\n",
       "      <td>1504777</td>\n",
       "      <td>AimPuzzling features of plants are sometimes e...</td>\n",
       "      <td>Climate predicts the proportion of divaricate ...</td>\n",
       "      <td>drought; frost; generalized additive model; me...</td>\n",
       "      <td>[Ecology; Geography, Physical]</td>\n",
       "      <td>0</td>\n",
       "      <td>0</td>\n",
       "    </tr>\n",
       "    <tr>\n",
       "      <th>2</th>\n",
       "      <td>760948</td>\n",
       "      <td>Existing studies on adaptation to climate chan...</td>\n",
       "      <td>Gender Differences in Climate Change Adaptatio...</td>\n",
       "      <td>Perceptions; Adaptation; Group-based approache...</td>\n",
       "      <td>[Ecology; Economics; Environmental Sciences; E...</td>\n",
       "      <td>1</td>\n",
       "      <td>1</td>\n",
       "    </tr>\n",
       "    <tr>\n",
       "      <th>3</th>\n",
       "      <td>788341</td>\n",
       "      <td>Mexico gained worldwide reputation for its eff...</td>\n",
       "      <td>The interplay between climate change and disas...</td>\n",
       "      <td>Disaster risk reduction; policy interplay; cli...</td>\n",
       "      <td>[Environmental Studies]</td>\n",
       "      <td>0</td>\n",
       "      <td>0</td>\n",
       "    </tr>\n",
       "    <tr>\n",
       "      <th>4</th>\n",
       "      <td>2463872</td>\n",
       "      <td>Ochratoxin A (OTA) is a nephrotoxic mycotoxin ...</td>\n",
       "      <td>Intraspecific variability of growth and ochrat...</td>\n",
       "      <td>Aspergillus carbonarius; Coffee; Ecophysiology...</td>\n",
       "      <td>[Food Science &amp; Technology; Microbiology]</td>\n",
       "      <td>0</td>\n",
       "      <td>0</td>\n",
       "    </tr>\n",
       "  </tbody>\n",
       "</table>\n",
       "</div>"
      ],
      "text/plain": [
       "        id                                            content  \\\n",
       "0   725396  To explore the effects of sea level rise (SLR)...   \n",
       "1  1504777  AimPuzzling features of plants are sometimes e...   \n",
       "2   760948  Existing studies on adaptation to climate chan...   \n",
       "3   788341  Mexico gained worldwide reputation for its eff...   \n",
       "4  2463872  Ochratoxin A (OTA) is a nephrotoxic mycotoxin ...   \n",
       "\n",
       "                                               title  \\\n",
       "0  Future vegetation patterns and primary product...   \n",
       "1  Climate predicts the proportion of divaricate ...   \n",
       "2  Gender Differences in Climate Change Adaptatio...   \n",
       "3  The interplay between climate change and disas...   \n",
       "4  Intraspecific variability of growth and ochrat...   \n",
       "\n",
       "                                      wosarticle__de  \\\n",
       "0  coastal ecosystem; sea level rise; exotic gras...   \n",
       "1  drought; frost; generalized additive model; me...   \n",
       "2  Perceptions; Adaptation; Group-based approache...   \n",
       "3  Disaster risk reduction; policy interplay; cli...   \n",
       "4  Aspergillus carbonarius; Coffee; Ecophysiology...   \n",
       "\n",
       "                                      wosarticle__wc  relevant  seen  \n",
       "0  [Environmental Sciences; Geosciences, Multidis...         0     0  \n",
       "1                     [Ecology; Geography, Physical]         0     0  \n",
       "2  [Ecology; Economics; Environmental Sciences; E...         1     1  \n",
       "3                            [Environmental Studies]         0     0  \n",
       "4          [Food Science & Technology; Microbiology]         0     0  "
      ]
     },
     "execution_count": 8,
     "metadata": {},
     "output_type": "execute_result"
    }
   ],
   "source": [
    "df = pd.concat([seen_df,unseen_df]).sample(frac=1).reset_index(drop=True)\n",
    "y = df['relevant']\n",
    "df.head()"
   ]
  },
  {
   "cell_type": "code",
   "execution_count": 9,
   "metadata": {},
   "outputs": [
    {
     "name": "stdout",
     "output_type": "stream",
     "text": [
      "(434, 7)\n"
     ]
    },
    {
     "data": {
      "text/html": [
       "<div>\n",
       "<style scoped>\n",
       "    .dataframe tbody tr th:only-of-type {\n",
       "        vertical-align: middle;\n",
       "    }\n",
       "\n",
       "    .dataframe tbody tr th {\n",
       "        vertical-align: top;\n",
       "    }\n",
       "\n",
       "    .dataframe thead th {\n",
       "        text-align: right;\n",
       "    }\n",
       "</style>\n",
       "<table border=\"1\" class=\"dataframe\">\n",
       "  <thead>\n",
       "    <tr style=\"text-align: right;\">\n",
       "      <th></th>\n",
       "      <th>id</th>\n",
       "      <th>content</th>\n",
       "      <th>title</th>\n",
       "      <th>wosarticle__de</th>\n",
       "      <th>wosarticle__wc</th>\n",
       "      <th>relevant</th>\n",
       "      <th>seen</th>\n",
       "    </tr>\n",
       "  </thead>\n",
       "  <tbody>\n",
       "    <tr>\n",
       "      <th>1400</th>\n",
       "      <td>2463943</td>\n",
       "      <td>Alpine plants occurring at high elevation are ...</td>\n",
       "      <td>Variation in growth and defence traits among p...</td>\n",
       "      <td>alpine; Arabis alpina; defence; elevation; env...</td>\n",
       "      <td>[Plant Sciences; Ecology]</td>\n",
       "      <td>0</td>\n",
       "      <td>0</td>\n",
       "    </tr>\n",
       "    <tr>\n",
       "      <th>1821</th>\n",
       "      <td>2058811</td>\n",
       "      <td>Coffee is one of the most important tropical c...</td>\n",
       "      <td>Ecosystem services by birds and bees to coffee...</td>\n",
       "      <td>Agroforestry; Bees; Biodiversity; Birds; Coffe...</td>\n",
       "      <td>None</td>\n",
       "      <td>1</td>\n",
       "      <td>1</td>\n",
       "    </tr>\n",
       "    <tr>\n",
       "      <th>2447</th>\n",
       "      <td>2457670</td>\n",
       "      <td>In many types of clouds, multiple hydrometeor ...</td>\n",
       "      <td>Development and validation of a supervised mac...</td>\n",
       "      <td>None</td>\n",
       "      <td>None</td>\n",
       "      <td>0</td>\n",
       "      <td>0</td>\n",
       "    </tr>\n",
       "    <tr>\n",
       "      <th>3861</th>\n",
       "      <td>2464027</td>\n",
       "      <td>Temperature in the progamic phase is critical ...</td>\n",
       "      <td>Influence of temperature on the progamic phase...</td>\n",
       "      <td>Pollen tube growth dynamics and kinetics; Stig...</td>\n",
       "      <td>[Plant Sciences; Environmental Sciences]</td>\n",
       "      <td>0</td>\n",
       "      <td>0</td>\n",
       "    </tr>\n",
       "    <tr>\n",
       "      <th>4013</th>\n",
       "      <td>2463848</td>\n",
       "      <td>Human activities have fundamentally changed Ea...</td>\n",
       "      <td>Remote sensing of forest die-off in the Anthro...</td>\n",
       "      <td>Discoloration; Drought stress; Image fusion; I...</td>\n",
       "      <td>[Environmental Sciences; Remote Sensing; Imagi...</td>\n",
       "      <td>0</td>\n",
       "      <td>0</td>\n",
       "    </tr>\n",
       "  </tbody>\n",
       "</table>\n",
       "</div>"
      ],
      "text/plain": [
       "           id                                            content  \\\n",
       "1400  2463943  Alpine plants occurring at high elevation are ...   \n",
       "1821  2058811  Coffee is one of the most important tropical c...   \n",
       "2447  2457670  In many types of clouds, multiple hydrometeor ...   \n",
       "3861  2464027  Temperature in the progamic phase is critical ...   \n",
       "4013  2463848  Human activities have fundamentally changed Ea...   \n",
       "\n",
       "                                                  title  \\\n",
       "1400  Variation in growth and defence traits among p...   \n",
       "1821  Ecosystem services by birds and bees to coffee...   \n",
       "2447  Development and validation of a supervised mac...   \n",
       "3861  Influence of temperature on the progamic phase...   \n",
       "4013  Remote sensing of forest die-off in the Anthro...   \n",
       "\n",
       "                                         wosarticle__de  \\\n",
       "1400  alpine; Arabis alpina; defence; elevation; env...   \n",
       "1821  Agroforestry; Bees; Biodiversity; Birds; Coffe...   \n",
       "2447                                               None   \n",
       "3861  Pollen tube growth dynamics and kinetics; Stig...   \n",
       "4013  Discoloration; Drought stress; Image fusion; I...   \n",
       "\n",
       "                                         wosarticle__wc  relevant  seen  \n",
       "1400                          [Plant Sciences; Ecology]         0     0  \n",
       "1821                                               None         1     1  \n",
       "2447                                               None         0     0  \n",
       "3861           [Plant Sciences; Environmental Sciences]         0     0  \n",
       "4013  [Environmental Sciences; Remote Sensing; Imagi...         0     0  "
      ]
     },
     "execution_count": 9,
     "metadata": {},
     "output_type": "execute_result"
    }
   ],
   "source": [
    "duplicateRowsDF = df[df.duplicated(['title'])]\n",
    "print(duplicateRowsDF.shape)\n",
    "\n",
    "duplicateRowsDF.head()\n",
    "\n"
   ]
  },
  {
   "cell_type": "code",
   "execution_count": 10,
   "metadata": {},
   "outputs": [
    {
     "name": "stdout",
     "output_type": "stream",
     "text": [
      "Sustainability\n",
      "Economics\n",
      "Economics\n",
      "Introduction\n",
      "<QuerySet [{'title': 'Optimization Weather Parameters Influencing Rainfall Prediction Using Adaptive Network-based Fuzzy Inference Systems (ANFIS) and Linier Regression', 'id': 2390488}, {'title': 'Optimization Weather Parameters Influencing Rainfall Prediction Using Adaptive Network-based Fuzzy Inference Systems (ANFIS) and Linier Regression', 'id': 2390490}]>\n",
      "Urban areas\n",
      "Economics\n",
      "<QuerySet [{'title': 'Some resilient aspects of urban areas to air pollution and climate change, case study: Tehran, Iran', 'id': 218323}, {'title': 'Some resilient aspects of urban areas to air pollution and climate change, case study: Tehran, Iran', 'id': 118712}]>\n",
      "<QuerySet [{'title': 'Genomics of Developmental Plasticity in Animals', 'id': 2389223}, {'title': 'Genomics of Developmental Plasticity in Animals', 'id': 2328760}]>\n",
      "Introduction\n",
      "Preface\n",
      "<QuerySet [{'title': 'Feasibility and performance study for a space-borne 1645 nm OPO for French-German satellite mission MERLIN', 'id': 1841768}, {'title': 'Feasibility and performance study for a space-borne 1645 nm OPO for French-German satellite mission MERLIN', 'id': 60859}, {'title': 'Feasibility and performance study for a space-borne 1645nm OPO for French-German satellite mission MERLIN', 'id': 449242}, {'title': 'Feasibility and performance study for a space-borne 1645 nm OPO for French-German satellite mission MERLIN', 'id': 1890765}]>\n",
      "Introduction\n",
      "<QuerySet [{'title': 'Life cycle engineering for roads (LCE4ROADS), the new sustainability certification system for roads from the LCE4ROADS FP7 project', 'id': 333032}, {'title': 'Life cycle engineering for roads (LCE4ROADS), the new sustainability certification system for roads from the LCE4ROADS FP7 project', 'id': 2333918}]>\n",
      "Conclusions\n",
      "Introduction\n",
      "Economics\n",
      "Cold tolerance\n",
      "<QuerySet [{'title': 'Climate Change and Rural Development in the Middle Atlas Mountains and Fringe Areas (Morocco)', 'id': 312498}, {'title': 'Climate Change and Rural Development in the Middle Atlas Mountains and Fringe Areas (Morocco)', 'id': 326700}]>\n",
      "Introduction\n",
      "<QuerySet [{'title': 'Feasibility and performance study for a space-borne 1645 nm OPO for French-German satellite mission MERLIN', 'id': 1841768}, {'title': 'Feasibility and performance study for a space-borne 1645 nm OPO for French-German satellite mission MERLIN', 'id': 60859}, {'title': 'Feasibility and performance study for a space-borne 1645nm OPO for French-German satellite mission MERLIN', 'id': 449242}, {'title': 'Feasibility and performance study for a space-borne 1645 nm OPO for French-German satellite mission MERLIN', 'id': 1890765}]>\n",
      "Insect resistance\n",
      "Conclusions\n",
      "<QuerySet [{'title': \"Global Climate Change and Children's Health\", 'id': 286449}, {'title': \"Global Climate Change and Children's Health\", 'id': 75711}]>\n",
      "Flowering time\n",
      "Procedia Engineering\n",
      "<QuerySet [{'title': 'Local host specialization, host-switching, and dispersal shape the regional distributions of avian haemosporidian parasites', 'id': 170230}, {'title': 'Local host specialization, host-switching, and dispersal shape the regional distributions of avian haemosporidian parasites', 'id': 462501}]>\n",
      "<QuerySet [{'title': 'Tall wood, strategies on sustainability for the cities of the future', 'id': 1813423}, {'title': 'Tall wood, strategies on sustainability for the cities of the future', 'id': 1813420}]>\n",
      "<QuerySet [{'title': 'An innovative drought early warning system for sub-Saharan Africa: integrating modern and indigenous approaches', 'id': 2364652}, {'title': 'An innovative drought early warning system for sub-Saharan Africa: integrating modern and indigenous approaches', 'id': 2313073}, {'title': 'An innovative drought early warning system for sub-saharan Africa: Integrating modern and indigenous approaches', 'id': 354052}]>\n",
      "Introduction\n",
      "Rice\n",
      "Introduction\n",
      "<QuerySet [{'title': 'MAIZE YIELD AND ITS STABILITY AS AFFECTED BY TILLAGE AND CROP RESIDUE MANAGEMENT IN THE EASTERN ROMANIAN DANUBE PLAIN', 'id': 2391090}, {'title': 'MAIZE YIELD AND ITS STABILITY AS AFFECTED BY TILLAGE AND CROP RESIDUE MANAGEMENT IN THE EASTERN ROMANIAN DANUBE PLAIN', 'id': 1446184}]>\n",
      "<QuerySet [{'title': 'The climate challenge for agriculture and the value of climate services: Application to coffee-farming in Peru', 'id': 761046}, {'title': 'The climate challenge for agriculture and the value of climate services: Application to coffee-farming in Peru', 'id': 1466577}]>\n",
      "<QuerySet [{'title': 'Building with Nature: in search of resilient storm surge protection strategies', 'id': 383943}, {'title': 'Building with Nature: in search of resilient storm surge protection strategies', 'id': 239612}]>\n",
      "Adaptation\n",
      "Introduction\n",
      "<QuerySet [{'title': 'CO2 EMISSIONS SAVINGS PRODUCED BY THE CONSTRUCTION OF AN UPGRADED FREIGHT RAIL CORRIDOR. APPLICATION TO EXTREMADURA', 'id': 1640690}, {'title': 'CO2 EMISSIONS SAVINGS PRODUCED BY THE CONSTRUCTION OF AN UPGRADED FREIGHT RAIL CORRIDOR. APPLICATION TO EXTREMADURA', 'id': 1640718}, {'title': 'CO2 Emissions Savings Produced by the Construction of an Upgraded Freight Rail Corridor. Application to Extremadura', 'id': 876739}]>\n",
      "<QuerySet [{'title': 'Life-history trade-offs and limitations associated with phenotypic adaptation under future ocean warming and elevated salinity', 'id': 2343891}, {'title': 'Life-history trade-offs and limitations associated with phenotypic adaptation under future ocean warming and elevated salinity', 'id': 2343888}]>\n",
      "Energy Procedia\n",
      "Procedia Engineering\n",
      "<QuerySet [{'title': '\"Climate Change\" Frames Detection and Categorization Based on Generalized Concepts', 'id': 1765358}, {'title': '\"Climate Change\" Frames Detection and Categorization Based on Generalized Concepts', 'id': 1682179}, {'title': 'Climate Change Frames Detection and Categorization Based on Generalized Concepts', 'id': 311973}]>\n",
      "Soil Formation\n",
      "Introduction\n",
      "Economics\n",
      "Economics\n",
      "Conclusion\n",
      "Wheat\n",
      "<QuerySet [{'title': 'The Ruka Mapuche: Clues for a sustainable architecture in southern Chile?', 'id': 2391430}, {'title': 'The Ruka Mapuche: Clues for a sustainable architecture in southern Chile?', 'id': 127683}]>\n",
      "<QuerySet [{'title': 'Modeling Groundwater Depletion at Regional and Global Scales: Present State and Future Prospects', 'id': 1890214}, {'title': 'Modeling Groundwater Depletion at Regional and Global Scales: Present State and Future Prospects', 'id': 149307}]>\n",
      "<QuerySet [{'title': 'Good governance and strong political will: Are they enough for transformation?', 'id': 141741}, {'title': 'Good governance and strong political will: Are they enough for transformation?', 'id': 146029}]>\n",
      "Introduction\n",
      "Conclusions\n",
      "Conclusion\n",
      "Root characters\n"
     ]
    }
   ],
   "source": [
    "for i, row in duplicateRowsDF.iterrows():\n",
    "    if len(row['title'].split()) < 3:\n",
    "        print(row['title'])\n",
    "        continue\n",
    "    d = Doc.objects.get(pk=row['id'])\n",
    "    ds = Doc.objects.filter(\n",
    "        tslug=Doc.make_tslug(d.title),\n",
    "        PY=d.PY\n",
    "    )\n",
    "    if ds.count() > 1:\n",
    "        print(ds.values('title','id'))\n",
    "        try:\n",
    "            wd = ds.get(UT__UT__icontains=\"WOS:\")\n",
    "            sd = ds.exclude(UT__UT__icontains=\"WOS:\")\n",
    "        except:\n",
    "            wd = ds.first()\n",
    "            sd = ds.exclude(pk=wd.pk)\n",
    "            #print(sd)\n",
    "            #continue\n",
    "        \n",
    "        for d in sd:\n",
    "            for do in d.docownership_set.filter(query__project=p):\n",
    "                if DocOwnership.objects.filter(user=do.user,doc=do.doc).exists():\n",
    "                    do.delete()\n",
    "                else:\n",
    "                    do.doc=wd\n",
    "                    do.save()\n",
    "            for q in d.query.filter(project=p):\n",
    "                d.query.remove(q)\n",
    "            try:\n",
    "                DocProject.objects.get(doc=d,project=p).delete()\n",
    "            except:\n",
    "                pass\n",
    "            \n",
    "            dut = d.UT\n",
    "            sid = dut.UT\n",
    "            dut.UT = dut.UT+\"dup\"\n",
    "            dut.save()\n",
    "        wut = wd.UT\n",
    "        wut.sid = sid\n",
    "        wut.save()\n",
    "            \n",
    "        "
   ]
  },
  {
   "cell_type": "code",
   "execution_count": null,
   "metadata": {},
   "outputs": [],
   "source": []
  },
  {
   "cell_type": "code",
   "execution_count": 11,
   "metadata": {},
   "outputs": [
    {
     "name": "stdout",
     "output_type": "stream",
     "text": [
      "Int64Index([    2,     7,    14,    27,    29,    32,    33,    39,    56,\n",
      "               61,\n",
      "            ...\n",
      "            62240, 62243, 62246, 62247, 62248, 62251, 62254, 62256, 62261,\n",
      "            62269],\n",
      "           dtype='int64', length=8329)\n",
      "Int64Index([50034, 20714, 45023, 11651, 16520, 58702, 22008, 33323,  5221,\n",
      "            35965,\n",
      "            ...\n",
      "            19199, 61076, 38827, 43586, 32013, 18228, 31247, 56097, 32342,\n",
      "            52471],\n",
      "           dtype='int64', length=6664)\n"
     ]
    }
   ],
   "source": [
    "seen_index = df[df['seen']==1].index\n",
    "unseen_index = df[df['seen']==0].index\n",
    "#pred_index = pd.Index(random.sample(list(unseen_index),5000))\n",
    "\n",
    "k = math.ceil(len(seen_index)*0.8)\n",
    "train_index = pd.Index(random.sample(list(seen_index),k))\n",
    "\n",
    "print(seen_index)\n",
    "print(train_index)\n",
    "\n",
    "#experiment_index = pd.Index(set(seen_index) | set(pred_index))\n",
    "\n",
    "test_index = pd.Index([x for x in seen_index if x not in train_index])\n"
   ]
  },
  {
   "cell_type": "code",
   "execution_count": 12,
   "metadata": {},
   "outputs": [
    {
     "data": {
      "image/png": "[encoded data removed]",
      "text/plain": [
       "<Figure size 432x288 with 1 Axes>"
      ]
     },
     "metadata": {},
     "output_type": "display_data"
    }
   ],
   "source": [
    "fig, ax = plt.subplots()\n",
    "n = seen_df.shape[0]\n",
    "for i, (name, group) in enumerate(seen_df.groupby('relevant')):\n",
    "    ax.bar(i, group.shape[0])\n",
    "    ax.text(i, group.shape[0]+n*0.02, f'{group.shape[0]/n:.0%}',ha=\"center\")"
   ]
  },
  {
   "cell_type": "code",
   "execution_count": 13,
   "metadata": {},
   "outputs": [
    {
     "name": "stderr",
     "output_type": "stream",
     "text": [
      "/home/galm/software/django/tmv/venv/lib/python3.6/site-packages/sklearn/feature_extraction/text.py:300: UserWarning: Your stop_words may be inconsistent with your preprocessing. Tokenizing the stop words generated tokens ['make'] not in stop_words.\n",
      "  'stop_words.' % sorted(inconsistent))\n"
     ]
    }
   ],
   "source": [
    "vec = TfidfVectorizer(\n",
    "    ngram_range=(1,2),\n",
    "    min_df=4, max_df=0.8, strip_accents='unicode', \n",
    "    max_features=10000,\n",
    "    use_idf=1,\n",
    "    smooth_idf=1, sublinear_tf=1,\n",
    "    stop_words=\"english\",tokenizer=learning_utils.tokenize\n",
    ")\n",
    "\n",
    "y = df['relevant']\n",
    "ab_X = vec.fit_transform(df['content'])"
   ]
  },
  {
   "cell_type": "code",
   "execution_count": 14,
   "metadata": {},
   "outputs": [
    {
     "data": {
      "image/png": "[encoded data removed]",
      "text/plain": [
       "<Figure size 576x360 with 1 Axes>"
      ]
     },
     "metadata": {},
     "output_type": "display_data"
    }
   ],
   "source": [
    "import importlib\n",
    "importlib.reload(learning_utils)\n",
    "\n",
    "clf = MultinomialNB(alpha=0.1)\n",
    "clf.fit(ab_X[train_index],y[train_index])\n",
    "\n",
    "fig, ax = plt.subplots(figsize=(8,5))\n",
    "learning_utils.plot_model_accuracy(clf,ab_X[test_index],y[test_index],ax,0.5)"
   ]
  },
  {
   "cell_type": "code",
   "execution_count": 15,
   "metadata": {
    "scrolled": true
   },
   "outputs": [],
   "source": [
    "from sklearn.model_selection import KFold\n",
    "\n",
    "model = {}\n",
    "model['p'] = []\n",
    "model['r'] = []\n",
    "model['e'] = []\n",
    "model['i'] = []\n",
    "\n",
    "kf = KFold(n_splits=5)\n",
    "\n",
    "for k_train, k_test in kf.split(seen_index):\n",
    "    k_train = seen_index[k_train]\n",
    "    k_test = seen_index[k_test]\n",
    "    clf = MultinomialNB(alpha=0.1)\n",
    "    clf.fit(ab_X[k_train],y[k_train])\n",
    "    predictions = clf.predict(ab_X[k_test])\n",
    "    model['e'].append(clf.score(ab_X[k_test],y[k_test]))\n",
    "    # Precision\n",
    "    model['p'].append(precision_score(predictions,y[k_test]))\n",
    "    # Recall\n",
    "    model['r'].append(recall_score(predictions,y[k_test]))\n",
    "    #print(k_train)\n",
    "    "
   ]
  },
  {
   "cell_type": "code",
   "execution_count": 16,
   "metadata": {},
   "outputs": [
    {
     "data": {
      "image/png": "[encoded data removed]",
      "text/plain": [
       "<Figure size 432x288 with 1 Axes>"
      ]
     },
     "metadata": {},
     "output_type": "display_data"
    }
   ],
   "source": [
    "fig, ax = plt.subplots()\n",
    "ax.plot(model['p'],label=\"Precision\")\n",
    "ax.plot(model['r'],label=\"Recall\")\n",
    "ax.plot(model['e'],label=\"Mean Accuracy\")\n",
    "\n",
    "plt.legend()\n",
    "\n",
    "plt.show()"
   ]
  },
  {
   "cell_type": "code",
   "execution_count": 17,
   "metadata": {},
   "outputs": [],
   "source": [
    "models = [\n",
    "    {\n",
    "        'title': 'SVM', \n",
    "        'model': SVC(kernel='linear',class_weight='balanced',probability=True)\n",
    "    },\n",
    "    {\n",
    "        'title':\"Neural Net\",\n",
    "        'model': MLPClassifier(\n",
    "            solver='lbfgs', \n",
    "            alpha=0.1,\n",
    "            hidden_layer_sizes=(10), \n",
    "            random_state=1\n",
    "        )\n",
    "    },\n",
    "    {\n",
    "        'title': 'Naive Bayes', \n",
    "        'model': MultinomialNB(alpha=0.1)     \n",
    "    }\n",
    "]\n",
    "\n",
    "for model in models:\n",
    "    model['p'] = []\n",
    "    model['r'] = []\n",
    "    model['e'] = []\n",
    "    model['i'] = []\n",
    "\n",
    "kf = KFold(n_splits=10)\n",
    "i=0\n",
    "for k_train, k_test in kf.split(seen_index):\n",
    "    k_train = seen_index[k_train]\n",
    "    k_test = seen_index[k_test]\n",
    "    i+=1\n",
    "    for model in models:\n",
    "        clf = model['model']\n",
    "        model['i'].append(i)\n",
    "        #clf = SVC(kernel='rbf',probability=True)\n",
    "        clf.fit(ab_X[k_train],y[k_train])\n",
    "        predictions = clf.predict(ab_X[k_test])\n",
    "        model['e'].append(clf.score(ab_X[k_test],y[k_test]))\n",
    "        # Precision\n",
    "        model['p'].append(precision_score(predictions,y[k_test]))\n",
    "        # Recall\n",
    "        model['r'].append(recall_score(predictions,y[k_test]))"
   ]
  },
  {
   "cell_type": "code",
   "execution_count": null,
   "metadata": {},
   "outputs": [],
   "source": []
  },
  {
   "cell_type": "code",
   "execution_count": 18,
   "metadata": {},
   "outputs": [
    {
     "name": "stderr",
     "output_type": "stream",
     "text": [
      "No handles with labels found to put in legend.\n",
      "No handles with labels found to put in legend.\n",
      "No handles with labels found to put in legend.\n"
     ]
    },
    {
     "data": {
      "image/png": "[encoded data removed]",
      "text/plain": [
       "<Figure size 900x562.5 with 3 Axes>"
      ]
     },
     "metadata": {},
     "output_type": "display_data"
    }
   ],
   "source": [
    "plt.rcParams['grid.linestyle'] = \"--\"\n",
    "fig, axs = plt.subplots(1,3,dpi=125,figsize=double_figure,sharey=True)\n",
    "for i, model in enumerate(models):\n",
    "    ax = axs[i]\n",
    "    ax.boxplot([model['p'],model['r'], model['e']])\n",
    "    \n",
    "    ax.set_xticklabels(['Precision', 'Recall','Accuracy'])\n",
    "    \n",
    "    ax.set_title(f'{model[\"title\"]} mean accuracy {np.mean(model[\"e\"]):.0%}')\n",
    "    ax.grid()\n",
    "    ax.legend()\n",
    "    \n",
    "plt.show()"
   ]
  },
  {
   "cell_type": "code",
   "execution_count": 19,
   "metadata": {},
   "outputs": [],
   "source": [
    "clf =  MLPClassifier(\n",
    "            solver='lbfgs', \n",
    "            alpha=0.1,\n",
    "            hidden_layer_sizes=(10), \n",
    "            random_state=1\n",
    "        )\n",
    "\n",
    "#clf = SVC(kernel='linear',class_weight='balanced',probability=True)\n",
    "\n",
    "\n",
    "clf.fit(ab_X[seen_index],y[seen_index])\n",
    "\n",
    "y_pred = clf.predict_proba(ab_X[unseen_index])"
   ]
  },
  {
   "cell_type": "code",
   "execution_count": 20,
   "metadata": {},
   "outputs": [],
   "source": [
    "df['prediction'] = None\n",
    "df.loc[unseen_index,'prediction'] = y_pred[:,1]"
   ]
  },
  {
   "cell_type": "code",
   "execution_count": 21,
   "metadata": {},
   "outputs": [
    {
     "name": "stdout",
     "output_type": "stream",
     "text": [
      "226\n",
      "53956\n"
     ]
    },
    {
     "data": {
      "image/png": "[encoded data removed]",
      "text/plain": [
       "<Figure size 432x288 with 1 Axes>"
      ]
     },
     "metadata": {},
     "output_type": "display_data"
    }
   ],
   "source": [
    "plt.close()\n",
    "\n",
    "fig, ax = plt.subplots()\n",
    "\n",
    "pdf = df.sort_values('prediction').reset_index(drop=True)\n",
    "ax.plot(pdf.index,pdf['prediction'])\n",
    "ax.axhline(0.5,linestyle=\"--\",color=\"grey\")\n",
    "\n",
    "print(pdf[pdf['prediction']>0.5].shape[0])\n",
    "print(pdf[pdf['prediction'].notna()].shape[0])\n",
    "\n",
    "plt.show()"
   ]
  },
  {
   "cell_type": "code",
   "execution_count": 25,
   "metadata": {},
   "outputs": [
    {
     "data": {
      "text/plain": [
       "<QuerySet []>"
      ]
     },
     "execution_count": 25,
     "metadata": {},
     "output_type": "execute_result"
    }
   ],
   "source": [
    "q = Query.objects.get(pk=qid)\n",
    "q.users.all()"
   ]
  },
  {
   "cell_type": "code",
   "execution_count": 26,
   "metadata": {},
   "outputs": [
    {
     "data": {
      "text/plain": [
       "<Query: published 2013+>"
      ]
     },
     "execution_count": 26,
     "metadata": {},
     "output_type": "execute_result"
    }
   ],
   "source": [
    "q"
   ]
  },
  {
   "cell_type": "code",
   "execution_count": 27,
   "metadata": {
    "scrolled": false
   },
   "outputs": [
    {
     "name": "stdout",
     "output_type": "stream",
     "text": [
      "173\n",
      "174\n",
      "175\n",
      "176\n",
      "177\n",
      "178\n",
      "179\n",
      "180\n",
      "181\n",
      "182\n",
      "183\n",
      "184\n",
      "185\n",
      "186\n",
      "187\n",
      "188\n",
      "189\n",
      "190\n",
      "191\n",
      "192\n",
      "193\n",
      "194\n",
      "195\n",
      "196\n",
      "197\n",
      "198\n",
      "199\n",
      "200\n",
      "201\n",
      "202\n",
      "203\n",
      "204\n",
      "205\n",
      "206\n",
      "207\n",
      "208\n",
      "209\n",
      "210\n",
      "211\n",
      "212\n",
      "213\n",
      "214\n",
      "215\n",
      "216\n",
      "217\n",
      "218\n",
      "219\n",
      "220\n",
      "221\n",
      "222\n",
      "223\n",
      "224\n",
      "225\n",
      "226\n",
      "227\n",
      "228\n",
      "229\n",
      "230\n",
      "231\n",
      "232\n",
      "233\n",
      "234\n",
      "235\n",
      "236\n",
      "237\n",
      "238\n",
      "239\n",
      "240\n",
      "241\n",
      "242\n",
      "243\n",
      "244\n",
      "245\n",
      "246\n",
      "247\n",
      "248\n",
      "249\n",
      "250\n",
      "251\n",
      "252\n",
      "253\n",
      "254\n",
      "255\n",
      "256\n",
      "257\n",
      "258\n",
      "259\n",
      "260\n",
      "261\n",
      "262\n",
      "263\n",
      "264\n",
      "265\n",
      "266\n",
      "267\n",
      "268\n",
      "269\n",
      "270\n",
      "271\n",
      "272\n",
      "273\n",
      "274\n",
      "275\n",
      "276\n",
      "277\n",
      "278\n",
      "279\n",
      "280\n",
      "281\n",
      "282\n",
      "283\n",
      "284\n",
      "285\n",
      "286\n",
      "287\n",
      "288\n",
      "289\n",
      "290\n",
      "291\n",
      "292\n",
      "293\n",
      "294\n",
      "295\n",
      "296\n",
      "297\n",
      "298\n",
      "299\n",
      "300\n"
     ]
    }
   ],
   "source": [
    "import datetime\n",
    "now = datetime.datetime.now().strftime(\"%Y-%m-%d %H:%M\")\n",
    "\n",
    "t1 = Tag(\n",
    "    title=\"predicted relevant sample {}\".format(now),\n",
    "    query=q\n",
    ")\n",
    "t1.save()\n",
    "\n",
    "t2 = Tag(\n",
    "    title=\"predicted relevant sample_2 {}\".format(now),\n",
    "    query=q\n",
    ")\n",
    "#t2.save()\n",
    "\n",
    "tag = t1\n",
    "\n",
    "users = q.users.all()\n",
    "uc = len(users)\n",
    "max_docs = 300\n",
    "docs_added = 0\n",
    "for i, row in df.sort_values('prediction',ascending=False).head(3500).reset_index(drop=True).iterrows():\n",
    "    d = Doc.objects.get(id=row['id'])\n",
    "    if d.docownership_set.filter(query=q).exists():\n",
    "        continue\n",
    "    else:\n",
    "        if docs_added < max_docs:\n",
    "            d.tag.add(t1)\n",
    "            docs_added+=1\n",
    "        else:\n",
    "            break  \n",
    "        if row['prediction'] < 0.5:\n",
    "            print(docs_added)\n",
    "\n",
    "    \n",
    "t1.update_tag()\n",
    "#t2.update_tag()"
   ]
  },
  {
   "cell_type": "code",
   "execution_count": null,
   "metadata": {},
   "outputs": [],
   "source": []
  },
  {
   "cell_type": "code",
   "execution_count": 28,
   "metadata": {},
   "outputs": [],
   "source": [
    "df.to_csv(f'doctables/predictions_{now}.csv',index=False)"
   ]
  },
  {
   "cell_type": "code",
   "execution_count": null,
   "metadata": {},
   "outputs": [],
   "source": []
  }
 ],
 "metadata": {
  "kernelspec": {
   "display_name": "tmv",
   "language": "python",
   "name": "tmv"
  },
  "language_info": {
   "codemirror_mode": {
    "name": "ipython",
    "version": 3
   },
   "file_extension": ".py",
   "mimetype": "text/x-python",
   "name": "python",
   "nbconvert_exporter": "python",
   "pygments_lexer": "ipython3",
   "version": "3.6.7"
  },
  "varInspector": {
   "cols": {
    "lenName": 16,
    "lenType": 16,
    "lenVar": 40
   },
   "kernels_config": {
    "python": {
     "delete_cmd_postfix": "",
     "delete_cmd_prefix": "del ",
     "library": "var_list.py",
     "varRefreshCmd": "print(var_dic_list())"
    },
    "r": {
     "delete_cmd_postfix": ") ",
     "delete_cmd_prefix": "rm(",
     "library": "var_list.r",
     "varRefreshCmd": "cat(var_dic_list()) "
    }
   },
   "types_to_exclude": [
    "module",
    "function",
    "builtin_function_or_method",
    "instance",
    "_Feature"
   ],
   "window_display": false
  }
 },
 "nbformat": 4,
 "nbformat_minor": 2
}
