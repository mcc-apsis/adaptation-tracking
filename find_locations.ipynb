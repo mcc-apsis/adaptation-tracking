{
 "cells": [
  {
   "cell_type": "code",
   "execution_count": 1,
   "metadata": {},
   "outputs": [],
   "source": [
    "import django, sys, os\n",
    "sys.path.append('/home/max/software/django-tmv/tmv_mcc-apsis/BasicBrowser')\n",
    "os.environ.setdefault(\"DJANGO_SETTINGS_MODULE\", \"BasicBrowser.settings\")\n",
    "django.setup()\n",
    "\n",
    "from scoping.models import *\n",
    "from sklearn.feature_extraction.text import CountVectorizer, TfidfVectorizer\n",
    "from itertools import product, combinations\n",
    "from utils.text import *\n",
    "from pycountry_convert import  country_alpha2_to_continent_code, country_alpha3_to_country_alpha2\n",
    "\n",
    "import pandas as pd"
   ]
  },
  {
   "cell_type": "code",
   "execution_count": 2,
   "metadata": {},
   "outputs": [],
   "source": [
    "p = Project.objects.get(pk=193)\n",
    "docs = Doc.objects.filter(query=7638, content__iregex=\"\\w\").order_by('id')\n",
    "q = Query.objects.get(pk=7638)"
   ]
  },
  {
   "cell_type": "code",
   "execution_count": 3,
   "metadata": {},
   "outputs": [],
   "source": [
    "\n",
    "docs = Doc.objects.filter(query=q,content__iregex=\"\\w\")\n",
    "doids = DocOwnership.objects.filter(query=q,relevant__gt=0).values_list('doc__id',flat=True)\n",
    "docs = docs.exclude(pk__in=doids)\n"
   ]
  },
  {
   "cell_type": "code",
   "execution_count": 5,
   "metadata": {},
   "outputs": [
    {
     "data": {
      "text/plain": [
       "[{'country_conf': 0.611725,\n",
       "  'country_predicted': 'GBR',\n",
       "  'geo': {'admin1': 'England',\n",
       "   'country_code3': 'GBR',\n",
       "   'feature_class': 'S',\n",
       "   'feature_code': 'BDG',\n",
       "   'geonameid': '6619889',\n",
       "   'lat': '51.50821',\n",
       "   'lon': '-0.08763',\n",
       "   'place_name': 'London Bridge'},\n",
       "  'spans': [{'end': 47, 'start': 34}],\n",
       "  'word': 'London Bridge'}]"
      ]
     },
     "execution_count": 5,
     "metadata": {},
     "output_type": "execute_result"
    }
   ],
   "source": [
    "from mordecai import Geoparser\n",
    "geo = Geoparser()\n",
    "\n",
    "geo.geoparse(\"I travelled from Oxford Circus to London Bridge, via Bank\")"
   ]
  },
  {
   "cell_type": "code",
   "execution_count": 7,
   "metadata": {},
   "outputs": [],
   "source": [
    "tag, created = Tag.objects.get_or_create(\n",
    "    query=q,\n",
    "    title=\"Probably Africa\",\n",
    "    text=\"Manually assigned\"\n",
    ")\n",
    "\n",
    "for d in docs:\n",
    "    continent = \"None\"\n",
    "    gp = geo.geoparse(d.content + \" \" d.title)\n",
    "    for p in gp:\n",
    "        if \"geo\" in p:\n",
    "            try:\n",
    "                a2 = country_alpha3_to_country_alpha2(p[\"geo\"][\"country_code3\"])\n",
    "                continent = country_alpha2_to_continent_code(a2)\n",
    "                if continent==\"AF\":\n",
    "                    d.tag.add(tag)\n",
    "            except:\n",
    "                pass\n",
    "    \n",
    "    #places = [e for e in doc.ents if e.label_ in [\"GPE\",\"LOC\"]]\n",
    "    #for p in places:\n",
    "        #print(p, p.label_)"
   ]
  },
  {
   "cell_type": "code",
   "execution_count": 8,
   "metadata": {},
   "outputs": [],
   "source": [
    "tag.update_tag()"
   ]
  }
 ],
 "metadata": {
  "kernelspec": {
   "display_name": "tmv",
   "language": "python",
   "name": "tmv"
  },
  "language_info": {
   "codemirror_mode": {
    "name": "ipython",
    "version": 3
   },
   "file_extension": ".py",
   "mimetype": "text/x-python",
   "name": "python",
   "nbconvert_exporter": "python",
   "pygments_lexer": "ipython3",
   "version": "3.6.6"
  }
 },
 "nbformat": 4,
 "nbformat_minor": 2
}
