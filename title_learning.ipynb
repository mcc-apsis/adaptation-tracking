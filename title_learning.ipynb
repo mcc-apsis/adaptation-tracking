{
 "cells": [
  {
   "cell_type": "code",
   "execution_count": 1,
   "metadata": {},
   "outputs": [],
   "source": [
    "import matplotlib.pyplot as plt\n",
    "import numpy as np\n",
    "import pandas as pd\n",
    "import sys, os, django\n",
    "import math\n",
    "\n",
    "\n",
    "from sklearn.manifold import TSNE\n",
    "from sklearn.svm import SVC, OneClassSVM\n",
    "from sklearn.metrics import average_precision_score\n",
    "from sklearn.metrics import precision_recall_curve\n",
    "from sklearn.metrics import precision_score, recall_score\n",
    "\n",
    "from sklearn.decomposition import NMF\n",
    "from sklearn.naive_bayes import MultinomialNB\n",
    "from sklearn.linear_model import SGDClassifier\n",
    "\n",
    "from sklearn.feature_extraction.text import CountVectorizer, TfidfVectorizer\n",
    "from sklearn.model_selection import KFold\n",
    "from sklearn.neural_network import MLPClassifier\n",
    "from scipy.sparse import hstack\n",
    "\n",
    "sys.path.append('/home/galm/software/django/tmv/BasicBrowser/')\n",
    "os.environ.setdefault(\"DJANGO_SETTINGS_MODULE\", \"BasicBrowser.settings\")\n",
    "django.setup()\n",
    "\n",
    "from django.db.models import Q, F, Sum, Count, FloatField, Case, When, Value, Max\n",
    "from sklearn.manifold import TSNE\n",
    "from scoping.models import *\n",
    "from scoping.views import *\n",
    "\n",
    "import learning_utils\n",
    "import random\n",
    "\n",
    "\n",
    "double_figure = (7.2,7.2/8*5)\n",
    "plt.rc('font',size=7)\n",
    "plt.rc('axes',titlesize=7)\n",
    "plt.rc('axes',labelsize=7)\n",
    "plt.rc('xtick',labelsize=7)\n",
    "plt.rc('ytick',labelsize=7)\n",
    "plt.rc('legend',fontsize=7)\n",
    "plt.rc('figure',titlesize=7)"
   ]
  },
  {
   "cell_type": "code",
   "execution_count": 2,
   "metadata": {},
   "outputs": [],
   "source": [
    "pid = 193\n",
    "qid = 7638\n",
    "q = Query.objects.get(pk=qid)\n",
    "p = Project.objects.get(pk=pid)"
   ]
  },
  {
   "cell_type": "code",
   "execution_count": 3,
   "metadata": {},
   "outputs": [
    {
     "name": "stdout",
     "output_type": "stream",
     "text": [
      "74968\n"
     ]
    },
    {
     "data": {
      "text/plain": [
       "9719"
      ]
     },
     "execution_count": 3,
     "metadata": {},
     "output_type": "execute_result"
    }
   ],
   "source": [
    "docs = Doc.objects.filter(query=q).values_list('pk', flat=True)\n",
    "\n",
    "print(docs.count())\n",
    "\n",
    "seen = set(DocOwnership.objects.filter(\n",
    "    query=q, \n",
    "    relevant__gt=0\n",
    ").values_list('doc__pk', flat=True))\n",
    "\n",
    "\n",
    "seen = seen & set(docs)\n",
    "\n",
    "seen_docs = Doc.objects.filter(pk__in=seen)\n",
    "seen_docs.count()"
   ]
  },
  {
   "cell_type": "code",
   "execution_count": 4,
   "metadata": {},
   "outputs": [
    {
     "name": "stdout",
     "output_type": "stream",
     "text": [
      "(12444, 7)\n"
     ]
    },
    {
     "data": {
      "text/html": [
       "<div>\n",
       "<style scoped>\n",
       "    .dataframe tbody tr th:only-of-type {\n",
       "        vertical-align: middle;\n",
       "    }\n",
       "\n",
       "    .dataframe tbody tr th {\n",
       "        vertical-align: top;\n",
       "    }\n",
       "\n",
       "    .dataframe thead th {\n",
       "        text-align: right;\n",
       "    }\n",
       "</style>\n",
       "<table border=\"1\" class=\"dataframe\">\n",
       "  <thead>\n",
       "    <tr style=\"text-align: right;\">\n",
       "      <th></th>\n",
       "      <th>id</th>\n",
       "      <th>content</th>\n",
       "      <th>title</th>\n",
       "      <th>wosarticle__de</th>\n",
       "      <th>wosarticle__wc</th>\n",
       "      <th>relevant</th>\n",
       "      <th>seen</th>\n",
       "    </tr>\n",
       "  </thead>\n",
       "  <tbody>\n",
       "    <tr>\n",
       "      <th>0</th>\n",
       "      <td>393</td>\n",
       "      <td>None</td>\n",
       "      <td>Moving forward with species distributions</td>\n",
       "      <td>None</td>\n",
       "      <td>[Plant Sciences]</td>\n",
       "      <td>0</td>\n",
       "      <td>0</td>\n",
       "    </tr>\n",
       "    <tr>\n",
       "      <th>1</th>\n",
       "      <td>501</td>\n",
       "      <td>None</td>\n",
       "      <td>Competitive optimization models, attempting to...</td>\n",
       "      <td>adaptive dynamics; plant competition; resource...</td>\n",
       "      <td>[Plant Sciences]</td>\n",
       "      <td>0</td>\n",
       "      <td>0</td>\n",
       "    </tr>\n",
       "    <tr>\n",
       "      <th>2</th>\n",
       "      <td>1259</td>\n",
       "      <td>None</td>\n",
       "      <td>TOURISM AND CLIMATE CHANGE: IMPACTS, ADAPTATIO...</td>\n",
       "      <td>None</td>\n",
       "      <td>[Hospitality, Leisure, Sport &amp; Tourism; Sociol...</td>\n",
       "      <td>0</td>\n",
       "      <td>0</td>\n",
       "    </tr>\n",
       "    <tr>\n",
       "      <th>3</th>\n",
       "      <td>1843</td>\n",
       "      <td>None</td>\n",
       "      <td>Addressing the challenges of adaptation to cli...</td>\n",
       "      <td>None</td>\n",
       "      <td>None</td>\n",
       "      <td>0</td>\n",
       "      <td>0</td>\n",
       "    </tr>\n",
       "    <tr>\n",
       "      <th>4</th>\n",
       "      <td>1866</td>\n",
       "      <td>None</td>\n",
       "      <td>BETWEEN EXTREMES HEALTH EFFECTS of HEAT and COLD</td>\n",
       "      <td>None</td>\n",
       "      <td>[Environmental Sciences; Public, Environmental...</td>\n",
       "      <td>0</td>\n",
       "      <td>0</td>\n",
       "    </tr>\n",
       "  </tbody>\n",
       "</table>\n",
       "</div>"
      ],
      "text/plain": [
       "     id content                                              title  \\\n",
       "0   393    None          Moving forward with species distributions   \n",
       "1   501    None  Competitive optimization models, attempting to...   \n",
       "2  1259    None  TOURISM AND CLIMATE CHANGE: IMPACTS, ADAPTATIO...   \n",
       "3  1843    None  Addressing the challenges of adaptation to cli...   \n",
       "4  1866    None   BETWEEN EXTREMES HEALTH EFFECTS of HEAT and COLD   \n",
       "\n",
       "                                      wosarticle__de  \\\n",
       "0                                               None   \n",
       "1  adaptive dynamics; plant competition; resource...   \n",
       "2                                               None   \n",
       "3                                               None   \n",
       "4                                               None   \n",
       "\n",
       "                                      wosarticle__wc  relevant  seen  \n",
       "0                                   [Plant Sciences]         0     0  \n",
       "1                                   [Plant Sciences]         0     0  \n",
       "2  [Hospitality, Leisure, Sport & Tourism; Sociol...         0     0  \n",
       "3                                               None         0     0  \n",
       "4  [Environmental Sciences; Public, Environmental...         0     0  "
      ]
     },
     "execution_count": 4,
     "metadata": {},
     "output_type": "execute_result"
    }
   ],
   "source": [
    "unseen_docs = docs.exclude(pk__in=seen).exclude(content__iregex='\\w').distinct('id')\n",
    "\n",
    "unseen_docs.count()\n",
    "\n",
    "columns = [\n",
    "    'id',\n",
    "    'content',\n",
    "    'title',\n",
    "    'wosarticle__de',\n",
    "    'wosarticle__wc'\n",
    "]\n",
    "\n",
    "unseen_df = pd.DataFrame.from_dict(list(unseen_docs.values(*columns)))\n",
    "unseen_df = unseen_df[columns]\n",
    "unseen_df['relevant'] = 0\n",
    "unseen_df['seen'] = 0\n",
    "\n",
    "print(unseen_df.shape)\n",
    "unseen_df.head()"
   ]
  },
  {
   "cell_type": "code",
   "execution_count": null,
   "metadata": {},
   "outputs": [],
   "source": []
  },
  {
   "cell_type": "code",
   "execution_count": 7,
   "metadata": {},
   "outputs": [
    {
     "name": "stdout",
     "output_type": "stream",
     "text": [
      "No abstract False\n",
      "12466\n"
     ]
    }
   ],
   "source": [
    "tag, created = Tag.objects.get_or_create(\n",
    "    query=q,\n",
    "    title=\"No abstract\"\n",
    ")\n",
    "print(tag, created)\n",
    "\n",
    "if created:\n",
    "    Through = Doc.tag.through\n",
    "    dqs = [Through(doc_id=d,tag=tag) for d in unseen_docs.values_list('pk',flat=True)]\n",
    "    Through.objects.bulk_create(dqs)\n",
    "\n",
    "    tag.update_tag()\n",
    "    \n",
    "print(tag.doc_set.count())"
   ]
  },
  {
   "cell_type": "code",
   "execution_count": 14,
   "metadata": {},
   "outputs": [
    {
     "data": {
      "text/plain": [
       "[{'n': 46977, 'wosarticle__dt': 'Article'},\n",
       " {'n': 4002, 'wosarticle__dt': 'Review'},\n",
       " {'n': 3223, 'wosarticle__dt': 'Book Chapter'},\n",
       " {'n': 2772, 'wosarticle__dt': 'Proceedings Paper'},\n",
       " {'n': 2527, 'wosarticle__dt': 'Conference Paper'},\n",
       " {'n': 614, 'wosarticle__dt': 'Article; Proceedings Paper'},\n",
       " {'n': 484, 'wosarticle__dt': 'Book'},\n",
       " {'n': 427, 'wosarticle__dt': None},\n",
       " {'n': 391, 'wosarticle__dt': 'Editorial Material'},\n",
       " {'n': 214, 'wosarticle__dt': 'Journal Article'},\n",
       " {'n': 160, 'wosarticle__dt': 'Article in Press'},\n",
       " {'n': 153, 'wosarticle__dt': 'Conference Review'},\n",
       " {'n': 125, 'wosarticle__dt': 'Review; Book Chapter'},\n",
       " {'n': 77,\n",
       "  'wosarticle__dt': \"Journal Article; Research Support, Non-U.S. Gov't\"},\n",
       " {'n': 66, 'wosarticle__dt': 'Journal Article; Review'},\n",
       " {'n': 45, 'wosarticle__dt': 'Article; Book Chapter'},\n",
       " {'n': 34, 'wosarticle__dt': 'Article; Data Paper'},\n",
       " {'n': 33, 'wosarticle__dt': 'Editorial'},\n",
       " {'n': 29, 'wosarticle__dt': 'Note'},\n",
       " {'n': 24, 'wosarticle__dt': 'Erratum'},\n",
       " {'n': 22, 'wosarticle__dt': 'Short Survey'},\n",
       " {'n': 20, 'wosarticle__dt': 'English Abstract; Journal Article'},\n",
       " {'n': 18, 'wosarticle__dt': 'Letter'},\n",
       " {'n': 8, 'wosarticle__dt': 'JOUR'},\n",
       " {'n': 7, 'wosarticle__dt': 'Correction'},\n",
       " {'n': 7, 'wosarticle__dt': 'Comparative Study; Journal Article'},\n",
       " {'n': 5, 'wosarticle__dt': 'Journal Article; Validation Studies'},\n",
       " {'n': 4, 'wosarticle__dt': 'Historical Article; Journal Article'},\n",
       " {'n': 4, 'wosarticle__dt': 'English Abstract; Journal Article; Review'},\n",
       " {'n': 3, 'wosarticle__dt': 'Article; Retracted Publication'},\n",
       " {'n': 3, 'wosarticle__dt': 'News Item'},\n",
       " {'n': 3, 'wosarticle__dt': 'Reprint'},\n",
       " {'n': 2, 'wosarticle__dt': 'Business Article'},\n",
       " {'n': 2, 'wosarticle__dt': 'Journal Article; Retracted Publication'},\n",
       " {'n': 2, 'wosarticle__dt': 'Journal Article; Comment'},\n",
       " {'n': 2, 'wosarticle__dt': 'Journal Article; Randomized Controlled Trial'},\n",
       " {'n': 1, 'wosarticle__dt': 'News'},\n",
       " {'n': 1, 'wosarticle__dt': 'Book Review'},\n",
       " {'n': 1, 'wosarticle__dt': 'Journal Article; Meta-Analysis'},\n",
       " {'n': 1, 'wosarticle__dt': 'Editorial Material; Book Chapter'},\n",
       " {'n': 1, 'wosarticle__dt': 'Addresses; Historical Article; Journal Article'},\n",
       " {'n': 1, 'wosarticle__dt': 'Retracted'},\n",
       " {'n': 1, 'wosarticle__dt': 'Data Paper'},\n",
       " {'n': 1, 'wosarticle__dt': 'Review; Retracted Publication'},\n",
       " {'n': 1, 'wosarticle__dt': 'Journal Article; Observational Study'},\n",
       " {'n': 1, 'wosarticle__dt': 'Evaluation Studies; Journal Article'},\n",
       " {'n': 1, 'wosarticle__dt': 'Introductory Journal Article'},\n",
       " {'n': 1, 'wosarticle__dt': 'Historical Article; Journal Article; Review'},\n",
       " {'n': 1, 'wosarticle__dt': \"Letter; Research Support, Non-U.S. Gov't\"}]"
      ]
     },
     "execution_count": 14,
     "metadata": {},
     "output_type": "execute_result"
    }
   ],
   "source": [
    "\n",
    "types = [\n",
    "    \"Article\",\"Review\",\"Journal Article\",\"Journal Article; Review\",\n",
    "    'English Abstract; Journal Article','Article; Data Paper'\n",
    "]\n",
    "\n",
    "list(q.doc_set.exclude(tag=tag).values('wosarticle__dt').annotate(n=Count('pk')).order_by('-n'))"
   ]
  },
  {
   "cell_type": "code",
   "execution_count": 21,
   "metadata": {},
   "outputs": [
    {
     "name": "stdout",
     "output_type": "stream",
     "text": [
      "Wrong document type True\n",
      "12415\n"
     ]
    }
   ],
   "source": [
    "wrongtype_docs = q.doc_set.exclude(wosarticle__dt__isnull=True).exclude(wosarticle__dt__in=types)\n",
    "\n",
    "tag, created = Tag.objects.get_or_create(\n",
    "    query=q,\n",
    "    title=\"Wrong document type\"\n",
    ")\n",
    "print(tag, created)\n",
    "\n",
    "if created:\n",
    "    Through = Doc.tag.through\n",
    "    dqs = [Through(doc_id=d,tag=tag) for d in wrongtype_docs.values_list('pk',flat=True)]\n",
    "    Through.objects.bulk_create(dqs)\n",
    "\n",
    "    tag.update_tag()\n",
    "    \n",
    "print(tag.doc_set.count())\n"
   ]
  },
  {
   "cell_type": "code",
   "execution_count": null,
   "metadata": {},
   "outputs": [],
   "source": []
  },
  {
   "cell_type": "code",
   "execution_count": 7,
   "metadata": {},
   "outputs": [
    {
     "name": "stdout",
     "output_type": "stream",
     "text": [
      "(8776, 7)\n"
     ]
    }
   ],
   "source": [
    "rated = list(seen_docs.values(*columns))\n",
    "r_docs = []\n",
    "for r in rated:\n",
    "    d = Doc.objects.get(pk=r['id'])\n",
    "\n",
    "    dos = DocOwnership.objects.filter(\n",
    "        query__project=p,doc=d,relevant__gt=0,\n",
    "    ).values_list('relevant',flat=True)\n",
    "    if not dos.exists():\n",
    "        dos = DocOwnership.objects.filter(\n",
    "            project=p,doc=d,relevant__gt=0,\n",
    "        ).values_list('relevant',flat=True)            \n",
    "    if len(set(dos))==1: # If there is only one value (all ratings agree)\n",
    "        if dos[0] == 1:\n",
    "            r['relevant'] = 1\n",
    "        elif dos[0] == 2 or dos[0] == 4:\n",
    "            r['relevant'] = 0\n",
    "        else:\n",
    "            continue\n",
    "        r_docs.append(r)\n",
    "    \n",
    "        \n",
    "seen_df = pd.DataFrame.from_dict(r_docs)\n",
    "seen_df = seen_df[columns + [\"relevant\"]]\n",
    "seen_df['seen'] = 1\n",
    "print(seen_df.shape)"
   ]
  },
  {
   "cell_type": "code",
   "execution_count": 8,
   "metadata": {},
   "outputs": [
    {
     "data": {
      "text/html": [
       "<div>\n",
       "<style scoped>\n",
       "    .dataframe tbody tr th:only-of-type {\n",
       "        vertical-align: middle;\n",
       "    }\n",
       "\n",
       "    .dataframe tbody tr th {\n",
       "        vertical-align: top;\n",
       "    }\n",
       "\n",
       "    .dataframe thead th {\n",
       "        text-align: right;\n",
       "    }\n",
       "</style>\n",
       "<table border=\"1\" class=\"dataframe\">\n",
       "  <thead>\n",
       "    <tr style=\"text-align: right;\">\n",
       "      <th></th>\n",
       "      <th>id</th>\n",
       "      <th>content</th>\n",
       "      <th>title</th>\n",
       "      <th>wosarticle__de</th>\n",
       "      <th>wosarticle__wc</th>\n",
       "      <th>relevant</th>\n",
       "      <th>seen</th>\n",
       "    </tr>\n",
       "  </thead>\n",
       "  <tbody>\n",
       "    <tr>\n",
       "      <th>0</th>\n",
       "      <td>2469619</td>\n",
       "      <td>None</td>\n",
       "      <td>Changes resulting from a land consolidation pr...</td>\n",
       "      <td>None</td>\n",
       "      <td>None</td>\n",
       "      <td>0</td>\n",
       "      <td>0</td>\n",
       "    </tr>\n",
       "    <tr>\n",
       "      <th>1</th>\n",
       "      <td>760697</td>\n",
       "      <td>Context Terrestrial ecosystems, including trop...</td>\n",
       "      <td>Fire regimes and forest resilience: alternativ...</td>\n",
       "      <td>Regime shift; Tipping point; Tropical forest e...</td>\n",
       "      <td>[Ecology; Geography, Physical; Geosciences, Mu...</td>\n",
       "      <td>0</td>\n",
       "      <td>1</td>\n",
       "    </tr>\n",
       "    <tr>\n",
       "      <th>2</th>\n",
       "      <td>731304</td>\n",
       "      <td>Comparing agricultural management practices ac...</td>\n",
       "      <td>Land-users' perceptions and adaptations to cli...</td>\n",
       "      <td>Coping and adaptation strategies; Risk percept...</td>\n",
       "      <td>[Environmental Sciences; Environmental Studies]</td>\n",
       "      <td>1</td>\n",
       "      <td>1</td>\n",
       "    </tr>\n",
       "    <tr>\n",
       "      <th>3</th>\n",
       "      <td>2469877</td>\n",
       "      <td>None</td>\n",
       "      <td>Studies on development of climate resilient ma...</td>\n",
       "      <td>None</td>\n",
       "      <td>None</td>\n",
       "      <td>0</td>\n",
       "      <td>0</td>\n",
       "    </tr>\n",
       "    <tr>\n",
       "      <th>4</th>\n",
       "      <td>1894570</td>\n",
       "      <td>To identify factors associated with farm-level...</td>\n",
       "      <td>Factors associated with farm-level variation, ...</td>\n",
       "      <td>farm-level variability; smallholder mixed-farm...</td>\n",
       "      <td>[Environmental Studies]</td>\n",
       "      <td>1</td>\n",
       "      <td>1</td>\n",
       "    </tr>\n",
       "  </tbody>\n",
       "</table>\n",
       "</div>"
      ],
      "text/plain": [
       "        id                                            content  \\\n",
       "0  2469619                                               None   \n",
       "1   760697  Context Terrestrial ecosystems, including trop...   \n",
       "2   731304  Comparing agricultural management practices ac...   \n",
       "3  2469877                                               None   \n",
       "4  1894570  To identify factors associated with farm-level...   \n",
       "\n",
       "                                               title  \\\n",
       "0  Changes resulting from a land consolidation pr...   \n",
       "1  Fire regimes and forest resilience: alternativ...   \n",
       "2  Land-users' perceptions and adaptations to cli...   \n",
       "3  Studies on development of climate resilient ma...   \n",
       "4  Factors associated with farm-level variation, ...   \n",
       "\n",
       "                                      wosarticle__de  \\\n",
       "0                                               None   \n",
       "1  Regime shift; Tipping point; Tropical forest e...   \n",
       "2  Coping and adaptation strategies; Risk percept...   \n",
       "3                                               None   \n",
       "4  farm-level variability; smallholder mixed-farm...   \n",
       "\n",
       "                                      wosarticle__wc  relevant  seen  \n",
       "0                                               None         0     0  \n",
       "1  [Ecology; Geography, Physical; Geosciences, Mu...         0     1  \n",
       "2    [Environmental Sciences; Environmental Studies]         1     1  \n",
       "3                                               None         0     0  \n",
       "4                            [Environmental Studies]         1     1  "
      ]
     },
     "execution_count": 8,
     "metadata": {},
     "output_type": "execute_result"
    }
   ],
   "source": [
    "df = pd.concat([seen_df,unseen_df]).sample(frac=1).reset_index(drop=True)\n",
    "y = df['relevant']\n",
    "df.head()"
   ]
  },
  {
   "cell_type": "code",
   "execution_count": 14,
   "metadata": {},
   "outputs": [],
   "source": [
    "seen_index = df[df['seen']==1].index\n",
    "unseen_index = df[df['seen']==0].index"
   ]
  },
  {
   "cell_type": "code",
   "execution_count": 9,
   "metadata": {},
   "outputs": [
    {
     "data": {
      "image/png": "[encoded data removed]",
      "text/plain": [
       "<Figure size 432x288 with 1 Axes>"
      ]
     },
     "metadata": {},
     "output_type": "display_data"
    }
   ],
   "source": [
    "fig, ax = plt.subplots()\n",
    "n = seen_df.shape[0]\n",
    "for i, (name, group) in enumerate(seen_df.groupby('relevant')):\n",
    "    ax.bar(i, group.shape[0])\n",
    "    ax.text(i, group.shape[0]+n*0.02, f'{group.shape[0]/n:.0%}',ha=\"center\")"
   ]
  },
  {
   "cell_type": "code",
   "execution_count": 10,
   "metadata": {},
   "outputs": [
    {
     "name": "stderr",
     "output_type": "stream",
     "text": [
      "/home/galm/software/django/tmv/venv/lib/python3.6/site-packages/sklearn/feature_extraction/text.py:300: UserWarning: Your stop_words may be inconsistent with your preprocessing. Tokenizing the stop words generated tokens ['make'] not in stop_words.\n",
      "  'stop_words.' % sorted(inconsistent))\n"
     ]
    }
   ],
   "source": [
    "vec = TfidfVectorizer(\n",
    "    ngram_range=(1,2),\n",
    "    min_df=4, max_df=0.8, strip_accents='unicode', \n",
    "    max_features=10000,\n",
    "    use_idf=1,\n",
    "    smooth_idf=1, sublinear_tf=1,\n",
    "    stop_words=\"english\",tokenizer=learning_utils.tokenize\n",
    ")\n",
    "\n",
    "y = df['relevant']\n",
    "X = vec.fit_transform(df['title'])"
   ]
  },
  {
   "cell_type": "code",
   "execution_count": 16,
   "metadata": {},
   "outputs": [],
   "source": [
    "from sklearn.model_selection import KFold\n",
    "models = [\n",
    "    {\n",
    "        'title': 'SVM', \n",
    "        'model': SVC(kernel='linear',class_weight='balanced',probability=True)\n",
    "    },\n",
    "    {\n",
    "        'title':\"Neural Net\",\n",
    "        'model': MLPClassifier(\n",
    "            solver='lbfgs', \n",
    "            alpha=0.1,\n",
    "            hidden_layer_sizes=(10), \n",
    "            random_state=1\n",
    "        )\n",
    "    },\n",
    "    {\n",
    "        'title': 'Naive Bayes', \n",
    "        'model': MultinomialNB(alpha=0.1)     \n",
    "    }\n",
    "]\n",
    "\n",
    "for model in models:\n",
    "    model['p'] = []\n",
    "    model['r'] = []\n",
    "    model['e'] = []\n",
    "    model['i'] = []\n",
    "\n",
    "kf = KFold(n_splits=10)\n",
    "i=0\n",
    "for k_train, k_test in kf.split(seen_index):\n",
    "    k_train = seen_index[k_train]\n",
    "    k_test = seen_index[k_test]\n",
    "    i+=1\n",
    "    print(i)\n",
    "    for model in models:\n",
    "        clf = model['model']\n",
    "        model['i'].append(i)\n",
    "        #clf = SVC(kernel='rbf',probability=True)\n",
    "        clf.fit(X[k_train],y[k_train])\n",
    "        predictions = clf.predict(X[k_test])\n",
    "        model['e'].append(clf.score(X[k_test],y[k_test]))\n",
    "        # Precision\n",
    "        model['p'].append(precision_score(predictions,y[k_test]))\n",
    "        # Recall\n",
    "        model['r'].append(recall_score(predictions,y[k_test]))"
   ]
  },
  {
   "cell_type": "code",
   "execution_count": 17,
   "metadata": {},
   "outputs": [
    {
     "name": "stderr",
     "output_type": "stream",
     "text": [
      "No handles with labels found to put in legend.\n",
      "No handles with labels found to put in legend.\n",
      "No handles with labels found to put in legend.\n"
     ]
    },
    {
     "data": {
      "image/png": "[encoded data removed]",
      "text/plain": [
       "<Figure size 900x562.5 with 3 Axes>"
      ]
     },
     "metadata": {},
     "output_type": "display_data"
    }
   ],
   "source": [
    "plt.rcParams['grid.linestyle'] = \"--\"\n",
    "fig, axs = plt.subplots(1,3,dpi=125,figsize=double_figure,sharey=True)\n",
    "for i, model in enumerate(models):\n",
    "    ax = axs[i]\n",
    "    ax.boxplot([model['p'],model['r'], model['e']])\n",
    "    \n",
    "    ax.set_xticklabels(['Precision', 'Recall','Accuracy'])\n",
    "    \n",
    "    ax.set_title(f'{model[\"title\"]} mean accuracy {np.mean(model[\"e\"]):.0%}')\n",
    "    ax.grid()\n",
    "    ax.legend()\n",
    "    \n",
    "plt.show()"
   ]
  },
  {
   "cell_type": "code",
   "execution_count": 19,
   "metadata": {},
   "outputs": [],
   "source": [
    "clf = SVC(kernel='linear',class_weight='balanced',probability=True)\n",
    "\n",
    "clf.fit(X[seen_index],y[seen_index])\n",
    "\n",
    "y_pred = clf.predict_proba(X[unseen_index])"
   ]
  },
  {
   "cell_type": "code",
   "execution_count": 20,
   "metadata": {},
   "outputs": [
    {
     "name": "stdout",
     "output_type": "stream",
     "text": [
      "3705\n",
      "12479\n"
     ]
    },
    {
     "data": {
      "image/png": "[encoded data removed]",
      "text/plain": [
       "<Figure size 432x288 with 1 Axes>"
      ]
     },
     "metadata": {},
     "output_type": "display_data"
    }
   ],
   "source": [
    "df['prediction'] = None\n",
    "df.loc[unseen_index,'prediction'] = y_pred[:,1]\n",
    "\n",
    "plt.close()\n",
    "\n",
    "fig, ax = plt.subplots()\n",
    "\n",
    "pdf = df.sort_values('prediction').reset_index(drop=True)\n",
    "ax.plot(pdf.index,pdf['prediction'])\n",
    "ax.axhline(0.5,linestyle=\"--\",color=\"grey\")\n",
    "\n",
    "print(pdf[pdf['prediction']>0.5].shape[0])\n",
    "print(pdf[pdf['prediction'].notna()].shape[0])\n"
   ]
  },
  {
   "cell_type": "code",
   "execution_count": 22,
   "metadata": {},
   "outputs": [],
   "source": [
    "import datetime\n",
    "now = datetime.datetime.now().strftime(\"%Y-%m-%d %H:%M\")\n",
    "\n",
    "tag = Tag(\n",
    "    title=\"predicted title sample {}\".format(now),\n",
    "    query=q\n",
    ")\n",
    "tag.save()\n",
    "\n",
    "max_docs = 500\n",
    "docs_added = 0\n",
    "for i, row in df.sort_values('prediction',ascending=False).head(3500).reset_index(drop=True).iterrows():\n",
    "    d = Doc.objects.get(id=row['id'])\n",
    "    if d.docownership_set.filter(query=q).exists():\n",
    "        continue\n",
    "    else:\n",
    "        if docs_added < max_docs:\n",
    "            d.tag.add(tag)\n",
    "            docs_added+=1\n",
    "        else:\n",
    "            break  \n",
    "\n",
    "    \n",
    "tag.update_tag()\n"
   ]
  },
  {
   "cell_type": "code",
   "execution_count": null,
   "metadata": {},
   "outputs": [],
   "source": []
  }
 ],
 "metadata": {
  "kernelspec": {
   "display_name": "tmv",
   "language": "python",
   "name": "tmv"
  },
  "language_info": {
   "codemirror_mode": {
    "name": "ipython",
    "version": 3
   },
   "file_extension": ".py",
   "mimetype": "text/x-python",
   "name": "python",
   "nbconvert_exporter": "python",
   "pygments_lexer": "ipython3",
   "version": "3.6.7"
  },
  "varInspector": {
   "cols": {
    "lenName": 16,
    "lenType": 16,
    "lenVar": 40
   },
   "kernels_config": {
    "python": {
     "delete_cmd_postfix": "",
     "delete_cmd_prefix": "del ",
     "library": "var_list.py",
     "varRefreshCmd": "print(var_dic_list())"
    },
    "r": {
     "delete_cmd_postfix": ") ",
     "delete_cmd_prefix": "rm(",
     "library": "var_list.r",
     "varRefreshCmd": "cat(var_dic_list()) "
    }
   },
   "types_to_exclude": [
    "module",
    "function",
    "builtin_function_or_method",
    "instance",
    "_Feature"
   ],
   "window_display": false
  }
 },
 "nbformat": 4,
 "nbformat_minor": 2
}
