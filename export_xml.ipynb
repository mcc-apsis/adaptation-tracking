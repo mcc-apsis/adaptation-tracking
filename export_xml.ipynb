{
 "cells": [
  {
   "cell_type": "code",
   "execution_count": 2,
   "metadata": {},
   "outputs": [],
   "source": [
    "import sys, os, django\n",
    "import pandas as pd\n",
    "\n",
    "sys.path.append('/home/galm/software/django/tmv/BasicBrowser/')\n",
    "os.environ.setdefault(\"DJANGO_SETTINGS_MODULE\", \"BasicBrowser.settings\")\n",
    "django.setup()\n",
    "\n",
    "from scoping.models import *\n",
    "\n",
    "from pyparsing import *\n",
    "\n",
    "q = Query.objects.get(pk=7638)\n",
    "import lxml.etree as ET\n",
    "import datetime\n",
    "import matplotlib.pyplot as plot\n",
    "import random\n"
   ]
  },
  {
   "cell_type": "code",
   "execution_count": 3,
   "metadata": {},
   "outputs": [],
   "source": [
    "def write_d_record(records, d):\n",
    "    \n",
    "    record = ET.SubElement(records, 'record')\n",
    "    \n",
    "    \n",
    "    db = ET.SubElement(record,'database')\n",
    "    db.set('name',\"APSIS\")\n",
    "    db.set('path','')\n",
    "    db.text = \"APSIS\"\n",
    "\n",
    "    source_app = ET.SubElement(record, 'source-app')\n",
    "    source_app.text=\"EndNote\"\n",
    "    source_app.set('name','EndNote')\n",
    "    source_app.set('version', '17.7')\n",
    "\n",
    "    r_c= ET.SubElement(record,'rec-number')\n",
    "    r_c.text=str(d.id)\n",
    "\n",
    "    rt = [x for x in ref_type_dict if d.wosarticle.pt in x[\"db\"]][0]\n",
    "\n",
    "    r_t = ET.SubElement(record,'ref-type')\n",
    "    r_t.text = rt[\"EN_n\"]\n",
    "    r_t.set(\"name\", rt[\"EN_s\"])\n",
    "\n",
    "    contrib = ET.SubElement(record, 'contributors')\n",
    "    authors = ET.SubElement(contrib, 'authors')\n",
    "\n",
    "    author_list = []\n",
    "    for dai in d.docauthinst_set.order_by('position'):\n",
    "        if dai.AU not in author_list:\n",
    "            au = ET.SubElement(authors, 'author')\n",
    "            s = ET.SubElement(au,'style')\n",
    "            s.text = dai.AU\n",
    "            author_list.append(dai.AU)\n",
    "\n",
    "    titles = ET.SubElement(record, 'titles')\n",
    "    title = ET.SubElement(titles, 'title')\n",
    "    s = ET.SubElement(title, 'style')\n",
    "    s.text = d.title\n",
    "    stitle = ET.SubElement(titles, 'secondary-title')\n",
    "    s = ET.SubElement(stitle, 'style')\n",
    "    s.text = d.wosarticle.so\n",
    "\n",
    "    periodical = ET.SubElement(record, 'periodical')\n",
    "    ft = ET.SubElement(periodical, 'full-title')\n",
    "    s = ET.SubElement(ft, 'style')\n",
    "    s.text = d.wosarticle.so\n",
    "    s.set(\"size\", \"100%\")\n",
    "    s.set(\"font\", \"default\")\n",
    "    s.set(\"face\", \"normal\")\n",
    "\n",
    "    pages = ET.SubElement(record, 'pages')\n",
    "    s = ET.SubElement(pages, 'style')\n",
    "    s.text=f\"{d.wosarticle.bp}-{d.wosarticle.ep}\"\n",
    "\n",
    "    vol = ET.SubElement(record,'volume')\n",
    "    s = ET.SubElement(vol, 'style')\n",
    "    s.text=d.wosarticle.vl\n",
    "\n",
    "    if d.wosarticle.ar:\n",
    "        ar = ET.SubElement(record,'number')\n",
    "        s = ET.SubElement(ar, 'style')\n",
    "        s.text=d.wosarticle.ar\n",
    "\n",
    "    if d.wosarticle.iss:\n",
    "        iss = ET.SubElement(record,'issue')\n",
    "        s = ET.SubElement(iss, 'style')\n",
    "        s.text=d.wosarticle.iss\n",
    "\n",
    "    if d.wosarticle.de:\n",
    "        kws = ET.SubElement(record,'keywords')\n",
    "        for de in d.wosarticle.de.split('; '):\n",
    "            kw = ET.SubElement(kws, 'keyword')\n",
    "            s = ET.SubElement(kw, 'style')\n",
    "            s.text=de\n",
    "\n",
    "    dates = ET.SubElement(record, 'dates')\n",
    "    py = ET.SubElement(dates, 'year')\n",
    "    s = ET.SubElement(py, 'style')\n",
    "    s.text=str(d.PY) \n",
    "\n",
    "    if d.wosarticle.pu:\n",
    "        pu = ET.SubElement(record, 'publisher')\n",
    "        s = ET.SubElement(pu, 'style')\n",
    "        s.text = d.wosarticle.pu\n",
    "\n",
    "    if d.wosarticle.pa:\n",
    "        pa = ET.SubElement(record, 'pub-location')\n",
    "        s = ET.SubElement(pa, 'style')\n",
    "        s.text = d.wosarticle.pa\n",
    "\n",
    "    if d.wosarticle.di:\n",
    "        doi = ET.SubElement(record, 'doi')\n",
    "        s = ET.SubElement(doi, 'style')\n",
    "        s.text = d.wosarticle.di\n",
    "\n",
    "    ab = ET.SubElement(record, 'abstract')\n",
    "    s = ET.SubElement(ab, 'style')\n",
    "    s.text = d.content   \n",
    "    \n",
    "    pdcs = d.category.filter(project=q.project, level__in=[3,4],doccat__top_cat=True).order_by('id')\n",
    "    \n",
    "    c1 = ET.SubElement(record, 'custom1')\n",
    "    s = ET.SubElement(c1, 'style')\n",
    "    s.text = pdcs[0].name\n",
    "\n",
    "    c2 = ET.SubElement(record, 'custom2')\n",
    "    s = ET.SubElement(c1, 'style')\n",
    "    s.text = pdcs[1].name\n",
    "    "
   ]
  },
  {
   "cell_type": "code",
   "execution_count": 43,
   "metadata": {},
   "outputs": [],
   "source": [
    "ref_type_dict = [\n",
    "    {\"db\": [\"J\",\"JOUR\"], \"EN_n\": \"17\", \"EN_s\": \"Journal Article\"},\n",
    "    {\"db\": [\"S\",\"SER\"], \"EN_n\": \"31\", \"EN_s\": \"Serial\"},\n",
    "    {\"db\": [\"B\",\"BOOK\"], \"EN_n\": \"7\", \"EN_s\": \"Book\"},\n",
    "    {\"db\": [\"CHAP\"], \"EN_n\": \"6\", \"EN_s\": \"Book Section\"},\n",
    "    {\"db\": [\"CONF\", \"INPR\"], \"EN_n\": \"11\", \"EN_s\": \"Conference Proceedings\"},\n",
    "    {\"db\": [\"PDF\", None], \"EN_n\": \"1\", \"EN_s\": \"GENERIC\"},\n",
    "    {\"db\": [\"RPRT\"], \"EN_n\": \"30\", \"EN_s\": \"Report\"},\n",
    "    {\"db\": [\"CASE\"], \"EN_n\": \"8\", \"EN_s\": \"Case\"},\n",
    "]\n",
    "\n",
    "\n",
    "def export_en_xml(docs, fname):\n",
    "\n",
    "    # create the file structure\n",
    "    xml = ET.Element('xml')\n",
    "    records = ET.SubElement(xml, 'records')\n",
    "\n",
    "    db_name = \"APSIS - \"\n",
    "\n",
    "    for d in docs:\n",
    "        record = ET.SubElement(records, 'record')\n",
    "\n",
    "        db = ET.SubElement(record,'database')\n",
    "        db.set('name',db_name)\n",
    "        db.set('path','')\n",
    "        db.text = db_name\n",
    "\n",
    "        source_app = ET.SubElement(record, 'source-app')\n",
    "        source_app.text=\"EndNote\"\n",
    "        source_app.set('name','EndNote')\n",
    "        source_app.set('version', '17.7')\n",
    "\n",
    "        r_c= ET.SubElement(record,'rec-number')\n",
    "        r_c.text=str(d.id)\n",
    "\n",
    "        rt = [x for x in ref_type_dict if d.wosarticle.pt in x[\"db\"]][0]\n",
    "\n",
    "        r_t = ET.SubElement(record,'ref-type')\n",
    "        r_t.text = rt[\"EN_n\"]\n",
    "        r_t.set(\"name\", rt[\"EN_s\"])\n",
    "\n",
    "        contrib = ET.SubElement(record, 'contributors')\n",
    "        authors = ET.SubElement(contrib, 'authors')\n",
    "\n",
    "        author_list = []\n",
    "        for dai in d.docauthinst_set.order_by('position'):\n",
    "            if dai.AU not in author_list:\n",
    "                au = ET.SubElement(authors, 'author')\n",
    "                s = ET.SubElement(au,'style')\n",
    "                s.text = dai.AU\n",
    "                author_list.append(dai.AU)\n",
    "\n",
    "        titles = ET.SubElement(record, 'titles')\n",
    "        title = ET.SubElement(titles, 'title')\n",
    "        s = ET.SubElement(title, 'style')\n",
    "        s.text = d.title\n",
    "        stitle = ET.SubElement(titles, 'secondary-title')\n",
    "        s = ET.SubElement(stitle, 'style')\n",
    "        s.text = d.wosarticle.so\n",
    "\n",
    "        periodical = ET.SubElement(record, 'periodical')\n",
    "        ft = ET.SubElement(periodical, 'full-title')\n",
    "        s = ET.SubElement(ft, 'style')\n",
    "        s.text = d.wosarticle.so\n",
    "        s.set(\"size\", \"100%\")\n",
    "        s.set(\"font\", \"default\")\n",
    "        s.set(\"face\", \"normal\")\n",
    "\n",
    "        pages = ET.SubElement(record, 'pages')\n",
    "        s = ET.SubElement(pages, 'style')\n",
    "        s.text=f\"{d.wosarticle.bp}-{d.wosarticle.ep}\"\n",
    "\n",
    "        vol = ET.SubElement(record,'volume')\n",
    "        s = ET.SubElement(vol, 'style')\n",
    "        s.text=d.wosarticle.vl\n",
    "\n",
    "        if d.wosarticle.ar:\n",
    "            ar = ET.SubElement(record,'number')\n",
    "            s = ET.SubElement(ar, 'style')\n",
    "            s.text=d.wosarticle.ar\n",
    "\n",
    "        if d.wosarticle.iss:\n",
    "            iss = ET.SubElement(record,'issue')\n",
    "            s = ET.SubElement(iss, 'style')\n",
    "            s.text=d.wosarticle.iss\n",
    "\n",
    "        if d.wosarticle.de:\n",
    "            kws = ET.SubElement(record,'keywords')\n",
    "            for de in d.wosarticle.de.split('; '):\n",
    "                kw = ET.SubElement(kws, 'keyword')\n",
    "                s = ET.SubElement(kw, 'style')\n",
    "                s.text=de\n",
    "\n",
    "        dates = ET.SubElement(record, 'dates')\n",
    "        py = ET.SubElement(dates, 'year')\n",
    "        s = ET.SubElement(py, 'style')\n",
    "        s.text=str(d.PY) \n",
    "\n",
    "        if d.wosarticle.pu:\n",
    "            pu = ET.SubElement(record, 'publisher')\n",
    "            s = ET.SubElement(pu, 'style')\n",
    "            s.text = d.wosarticle.pu\n",
    "\n",
    "        if d.wosarticle.pa:\n",
    "            pa = ET.SubElement(record, 'pub-location')\n",
    "            s = ET.SubElement(pa, 'style')\n",
    "            s.text = d.wosarticle.pa\n",
    "\n",
    "        if d.wosarticle.di:\n",
    "            doi = ET.SubElement(record, 'doi')\n",
    "            s = ET.SubElement(doi, 'style')\n",
    "            s.text = d.wosarticle.di\n",
    "\n",
    "        ab = ET.SubElement(record, 'abstract')\n",
    "        s = ET.SubElement(ab, 'style')\n",
    "        s.text = d.content\n",
    "            \n",
    "    with open(fname,\"w\") as f:\n",
    "        f.write(ET.tostring(xml).decode(\"utf-8\"))"
   ]
  },
  {
   "cell_type": "code",
   "execution_count": 4,
   "metadata": {},
   "outputs": [],
   "source": [
    "now = datetime.datetime.now().strftime(\"%Y-%m-%d %H:%M:%S\")\n"
   ]
  },
  {
   "cell_type": "markdown",
   "metadata": {},
   "source": [
    "# Get all docs, that is, all docs not yet exported and not having a primary category\n",
    "\n",
    "- First read what was exported"
   ]
  },
  {
   "cell_type": "code",
   "execution_count": 38,
   "metadata": {},
   "outputs": [],
   "source": [
    "already_exported = []\n",
    "with open(\"/home/galm/ownCloud/adaptation-tracking/APSIS - all - 2019-10-17 12:47:29.xml\",\"r\") as f:\n",
    "    tree = ET.parse(f)\n",
    "    root = tree.getroot()\n",
    "    for rs in root.iter('records'):\n",
    "        for r in rs.iter('record'):\n",
    "            for rn in r.iter('rec-number'):\n",
    "                already_exported.append(int(rn.text))"
   ]
  },
  {
   "cell_type": "code",
   "execution_count": 41,
   "metadata": {},
   "outputs": [
    {
     "data": {
      "text/plain": [
       "169"
      ]
     },
     "execution_count": 41,
     "metadata": {},
     "output_type": "execute_result"
    }
   ],
   "source": [
    "# All exportable docs\n",
    "doc_ids = set(Doc.objects.filter(query=q, category__name__in=[\"Yes\",\"Maybe\"]).values_list('id',flat=True))\n",
    "# Docs with a pc\n",
    "pc_ids = set(Doc.objects.filter(query=q, category__level=9).values_list('id',flat=True))\n",
    "ex_ids = doc_ids - pc_ids - set(already_exported)\n",
    "\n",
    "len(ex_ids)\n",
    "\n"
   ]
  },
  {
   "cell_type": "code",
   "execution_count": 44,
   "metadata": {},
   "outputs": [],
   "source": [
    "now = datetime.datetime.now().strftime(\"%Y-%m-%d %H:%M:%S\")\n",
    "\n",
    "docs = Doc.objects.filter(pk__in=ex_ids)\n",
    "\n",
    "export_en_xml(docs, f\"/home/galm/ownCloud/adaptation-tracking/All - APSIS export - [{len(docs)}] - {now}.xml\")"
   ]
  },
  {
   "cell_type": "markdown",
   "metadata": {},
   "source": [
    "### Go through each category, exporting docs which have not been exported"
   ]
  },
  {
   "cell_type": "code",
   "execution_count": 48,
   "metadata": {},
   "outputs": [
    {
     "name": "stdout",
     "output_type": "stream",
     "text": [
      "0\n",
      "0\n",
      "0\n",
      "0\n",
      "0\n",
      "0\n",
      "0\n",
      "0\n",
      "0\n",
      "0\n",
      "0\n",
      "0\n",
      "0\n"
     ]
    }
   ],
   "source": [
    "docs = Doc.objects.filter(pk__in=doc_ids)\n",
    "for c in Category.objects.filter(project=193,level=9):\n",
    "    cdocs = c.doc_set.filter(\n",
    "        \n",
    "    )"
   ]
  },
  {
   "cell_type": "code",
   "execution_count": null,
   "metadata": {},
   "outputs": [],
   "source": []
  },
  {
   "cell_type": "code",
   "execution_count": null,
   "metadata": {},
   "outputs": [],
   "source": []
  },
  {
   "cell_type": "code",
   "execution_count": null,
   "metadata": {},
   "outputs": [],
   "source": []
  },
  {
   "cell_type": "code",
   "execution_count": null,
   "metadata": {},
   "outputs": [],
   "source": []
  },
  {
   "cell_type": "code",
   "execution_count": null,
   "metadata": {},
   "outputs": [],
   "source": []
  },
  {
   "cell_type": "code",
   "execution_count": 6,
   "metadata": {},
   "outputs": [],
   "source": [
    "now = datetime.datetime.now().strftime(\"%Y-%m-%d %H:%M:%S\")\n",
    "cat = Category.objects.get(name=\"Africa\", project=q.project)\n",
    "doc_ids = set(Doc.objects.filter(\n",
    "    query=q, category__name=\"Yes\"\n",
    ").values_list('pk',flat=True))\n",
    "\n",
    "af_ids = set(Doc.objects.filter(\n",
    "    query=q, category=cat\n",
    ").values_list('pk',flat=True))\n",
    "\n",
    "docs = Doc.objects.filter(pk__in=doc_ids & af_ids)\n",
    "\n",
    "#export_en_xml(docs, f\"{cat.name} - APSIS export - {now}.xml\")\n",
    "\n",
    "#print(mydata.decode(\"utf-8\"))"
   ]
  },
  {
   "cell_type": "code",
   "execution_count": 7,
   "metadata": {},
   "outputs": [
    {
     "data": {
      "text/html": [
       "<div>\n",
       "<style scoped>\n",
       "    .dataframe tbody tr th:only-of-type {\n",
       "        vertical-align: middle;\n",
       "    }\n",
       "\n",
       "    .dataframe tbody tr th {\n",
       "        vertical-align: top;\n",
       "    }\n",
       "\n",
       "    .dataframe thead th {\n",
       "        text-align: right;\n",
       "    }\n",
       "</style>\n",
       "<table border=\"1\" class=\"dataframe\">\n",
       "  <thead>\n",
       "    <tr style=\"text-align: right;\">\n",
       "      <th></th>\n",
       "      <th>category__name</th>\n",
       "      <th>id</th>\n",
       "    </tr>\n",
       "  </thead>\n",
       "  <tbody>\n",
       "    <tr>\n",
       "      <th>0</th>\n",
       "      <td>Africa</td>\n",
       "      <td>19448</td>\n",
       "    </tr>\n",
       "    <tr>\n",
       "      <th>1</th>\n",
       "      <td>Food, fibre, and other ecosystem products</td>\n",
       "      <td>19448</td>\n",
       "    </tr>\n",
       "    <tr>\n",
       "      <th>2</th>\n",
       "      <td>Poverty, livelihoods, and sustainable development</td>\n",
       "      <td>37942</td>\n",
       "    </tr>\n",
       "    <tr>\n",
       "      <th>3</th>\n",
       "      <td>Terrestrial &amp; freshwater ecosystems</td>\n",
       "      <td>37942</td>\n",
       "    </tr>\n",
       "    <tr>\n",
       "      <th>4</th>\n",
       "      <td>Food, fibre, and other ecosystem products</td>\n",
       "      <td>37942</td>\n",
       "    </tr>\n",
       "  </tbody>\n",
       "</table>\n",
       "</div>"
      ],
      "text/plain": [
       "                                      category__name     id\n",
       "0                                             Africa  19448\n",
       "1          Food, fibre, and other ecosystem products  19448\n",
       "2  Poverty, livelihoods, and sustainable development  37942\n",
       "3                Terrestrial & freshwater ecosystems  37942\n",
       "4          Food, fibre, and other ecosystem products  37942"
      ]
     },
     "execution_count": 7,
     "metadata": {},
     "output_type": "execute_result"
    }
   ],
   "source": [
    "doc_ids = set(Doc.objects.filter(\n",
    "    query=q, category__name=\"Yes\"\n",
    ").values_list('pk',flat=True))\n",
    "\n",
    "docs = Doc.objects.filter(\n",
    "    pk__in=doc_ids\n",
    ")\n",
    "\n",
    "cdocs = Doc.objects.filter(\n",
    "    pk__in=doc_ids,\n",
    "    category__level__in=[3,4]\n",
    ")\n",
    "cat_table = cdocs.values('id','category__name')\n",
    "\n",
    "cat_df = pd.DataFrame.from_dict(cat_table)\n",
    "\n",
    "cat_df.head()"
   ]
  },
  {
   "cell_type": "code",
   "execution_count": 8,
   "metadata": {},
   "outputs": [
    {
     "data": {
      "text/plain": [
       "array([[<matplotlib.axes._subplots.AxesSubplot object at 0x7f1f5dbeb240>]],\n",
       "      dtype=object)"
      ]
     },
     "execution_count": 8,
     "metadata": {},
     "output_type": "execute_result"
    },
    {
     "data": {
      "image/png": "[encoded data removed]",
      "text/plain": [
       "<matplotlib.figure.Figure at 0x7f1f5dcb6d30>"
      ]
     },
     "metadata": {},
     "output_type": "display_data"
    }
   ],
   "source": [
    "cat_df.groupby('id').count().hist()"
   ]
  },
  {
   "cell_type": "code",
   "execution_count": 50,
   "metadata": {},
   "outputs": [
    {
     "data": {
      "text/plain": [
       "0"
      ]
     },
     "execution_count": 50,
     "metadata": {},
     "output_type": "execute_result"
    }
   ],
   "source": [
    "DocCat.objects.filter(top_cat=True).update(top_cat=False)"
   ]
  },
  {
   "cell_type": "code",
   "execution_count": 23,
   "metadata": {},
   "outputs": [
    {
     "name": "stdout",
     "output_type": "stream",
     "text": [
      "not enough cats\n",
      "Evidence and perceptions of rainfall change in Malawi: Do maize cultivar choices enhance climate change adaptation in sub-Saharan Africa?\n",
      "not enough cats\n",
      "Adaptation to climate change impacts: coping strategies of an indigenous community in Ghana to declining water supply\n",
      "not enough cats\n",
      "Effects of sowing time on agronomic characteristics and yield of quinoa\n",
      "not enough cats\n",
      "Effects of climate change on burn probability of forests in Daxing'anling\n"
     ]
    }
   ],
   "source": [
    "cats = Category.objects.filter(project=q.project, level__in=[3,4])\n",
    "doc_list = []\n",
    "pcats = cats.filter(name__in=[\"Africa\"])\n",
    "\n",
    "def add_cat_list(c,d,doc_list):\n",
    "    dc = DocCat.objects.get(doc=d,category=c)\n",
    "    dc.top_cat=True\n",
    "    dc.save()\n",
    "    if d not in doc_list:\n",
    "        doc_list.append(d)\n",
    "    return 1\n",
    "\n",
    "\n",
    "for d in docs:\n",
    "    pdc = d.category.filter(project=q.project, level__in=[3,4],doccat__top_cat=True).count()\n",
    "    if pdc==1:\n",
    "        continue\n",
    "    elif pdc==0:\n",
    "        dc = d.category.filter(project=q.project, level__in=[3,4])\n",
    "        if dc.count() < 1- pdc:\n",
    "            print(\"not enough cats\")\n",
    "            print(d.title)\n",
    "            continue\n",
    "        for c in pcats:\n",
    "            if c in dc:\n",
    "                if pdc < 2:\n",
    "                    pdc += add_cat_list(c,d,doc_list)\n",
    "        dc = dc.exclude(pk__in=pcats)\n",
    "        ccs = dc.filter(id__in=random.sample(set(dc.values_list('pk',flat=True)),2-pdc))\n",
    "        for c in ccs:\n",
    "            if pdc < 2:\n",
    "                pdc += add_cat_list(c, d, doc_list)\n",
    "    else:\n",
    "        print(\"problems!\")\n",
    "        print(pdc)"
   ]
  },
  {
   "cell_type": "code",
   "execution_count": null,
   "metadata": {},
   "outputs": [],
   "source": [
    "now = datetime.datetime.now().strftime(\"%Y-%m-%d %H:%M:%S\")\n",
    "\n",
    "# create the file structure\n",
    "xml = ET.Element('xml')\n",
    "records = ET.SubElement(xml, 'records')\n",
    "\n",
    "db_name = \"APSIS - \"\n",
    "\n",
    "for d in doc_list:\n",
    "    write_d_record(records, d)\n",
    "    \n",
    "fname = f\"APSIS - all - {now}.xml\"\n",
    "with open(fname,\"w\") as f:\n",
    "    f.write(ET.tostring(xml).decode(\"utf-8\"))"
   ]
  },
  {
   "cell_type": "code",
   "execution_count": 139,
   "metadata": {},
   "outputs": [
    {
     "name": "stdout",
     "output_type": "stream",
     "text": [
      "not enough cats\n",
      "Evidence and perceptions of rainfall change in Malawi: Do maize cultivar choices enhance climate change adaptation in sub-Saharan Africa?\n",
      "not enough cats\n",
      "Adaptation to climate change impacts: coping strategies of an indigenous community in Ghana to declining water supply\n",
      "not enough cats\n",
      "Effects of sowing time on agronomic characteristics and yield of quinoa\n",
      "not enough cats\n",
      "Effects of climate change on burn probability of forests in Daxing'anling\n"
     ]
    },
    {
     "data": {
      "text/plain": [
       "[{'doclist': [652369, 899901], 'name': 'North America'},\n",
       " {'doclist': [47207, 746124, 778629, 799776, 1277970], 'name': 'Europe'},\n",
       " {'doclist': [40076, 1277970, 2374012],\n",
       "  'name': 'Terrestrial & freshwater ecosystems'},\n",
       " {'doclist': [44683, 83426, 446695, 450276, 509759, 649460, 778629],\n",
       "  'name': 'General'},\n",
       " {'doclist': [19448,\n",
       "   116717,\n",
       "   151419,\n",
       "   151600,\n",
       "   165057,\n",
       "   172233,\n",
       "   231841,\n",
       "   251828,\n",
       "   268986,\n",
       "   273466,\n",
       "   278918,\n",
       "   296193,\n",
       "   308673,\n",
       "   313033,\n",
       "   411658,\n",
       "   446695,\n",
       "   448266,\n",
       "   450276,\n",
       "   504549,\n",
       "   509759,\n",
       "   520487,\n",
       "   559201,\n",
       "   807809,\n",
       "   1547893,\n",
       "   1646564],\n",
       "  'name': 'Africa'},\n",
       " {'doclist': [319250, 898298, 1298820, 1547893, 1646564],\n",
       "  'name': 'Health, well-being, and communities'},\n",
       " {'doclist': [40076, 100910, 165057], 'name': 'Central & South America'},\n",
       " {'doclist': [], 'name': 'Small Island States'},\n",
       " {'doclist': [386580], 'name': 'Ocean & coastal ecosystems'},\n",
       " {'doclist': [19448,\n",
       "   100910,\n",
       "   116717,\n",
       "   151419,\n",
       "   151600,\n",
       "   231841,\n",
       "   251828,\n",
       "   273466,\n",
       "   278918,\n",
       "   296193,\n",
       "   308673,\n",
       "   313033,\n",
       "   411658,\n",
       "   448266,\n",
       "   495201,\n",
       "   504549,\n",
       "   520487,\n",
       "   559201,\n",
       "   652369,\n",
       "   807809,\n",
       "   899901,\n",
       "   1486801,\n",
       "   2374012],\n",
       "  'name': 'Food, fibre, and other ecosystem products'},\n",
       " {'doclist': [1486801], 'name': 'Australasia'},\n",
       " {'doclist': [], 'name': 'Water quality & sanitation'},\n",
       " {'doclist': [44683, 47207, 746124, 799776],\n",
       "  'name': 'Cities, settlements & key infrastructure'},\n",
       " {'doclist': [172233, 268986, 319250, 777529],\n",
       "  'name': 'Poverty, livelihoods, and sustainable development'},\n",
       " {'doclist': [83426, 386580, 495201, 777529, 898298, 1298820], 'name': 'Asia'},\n",
       " {'doclist': [649460], 'name': 'Global or NA'}]"
      ]
     },
     "execution_count": 139,
     "metadata": {},
     "output_type": "execute_result"
    }
   ],
   "source": [
    "cats = Category.objects.filter(project=q.project, level__in=[3,4])\n",
    "cat_dict = list(cats.values('name'))\n",
    "pcats = cats.filter(name__in=[\"Africa\"])\n",
    "\n",
    "for c in cat_dict:\n",
    "    c['doclist'] = []\n",
    "\n",
    "def add_cat_list(c,d,cat_dict):\n",
    "    dc = DocCat.objects.get(doc=d,category=c)\n",
    "    dc.top_cat=True\n",
    "    dc.save()\n",
    "    for cat in cat_dict:\n",
    "        if cat['name']==c.name:\n",
    "            cat['doclist'].append(d.id)\n",
    "    return 1\n",
    "\n",
    "\n",
    "for d in docs:\n",
    "    pdc = d.category.filter(project=q.project, level__in=[3,4],doccat__top_cat=True).count()\n",
    "    if pdc==2:\n",
    "        continue\n",
    "    elif pdc==0:\n",
    "        dc = d.category.filter(project=q.project, level__in=[3,4])\n",
    "        if dc.count() < 2- pdc:\n",
    "            print(\"not enough cats\")\n",
    "            print(d.title)\n",
    "            continue\n",
    "        for c in pcats:\n",
    "            if c in dc:\n",
    "                if pdc < 2:\n",
    "                    pdc += add_cat_list(c,d,cat_dict)\n",
    "        dc = dc.exclude(pk__in=pcats)\n",
    "        ccs = dc.filter(id__in=random.sample(set(dc.values_list('pk',flat=True)),2-pdc))\n",
    "        for c in ccs:\n",
    "            if pdc < 2:\n",
    "                pdc += add_cat_list(c, d, cat_dict)\n",
    "    else:\n",
    "        print(\"problems!\")\n",
    "        print(pdc)\n",
    "\n",
    "cat_dict"
   ]
  },
  {
   "cell_type": "code",
   "execution_count": 140,
   "metadata": {},
   "outputs": [],
   "source": [
    "now = datetime.datetime.now().strftime(\"%Y-%m-%d %H:%M:%S\")\n",
    "\n",
    "for c in cat_dict:\n",
    "    nd = len(c['doclist'])\n",
    "    docs = Doc.objects.filter(pk__in=c['doclist'])\n",
    "    export_en_xml(docs, f\"_{c['name']}_ [{nd}] ({now}).xml\")"
   ]
  },
  {
   "cell_type": "code",
   "execution_count": 132,
   "metadata": {},
   "outputs": [
    {
     "name": "stdout",
     "output_type": "stream",
     "text": [
      "_North America_ [0] (2019-10-15 ).xml\n",
      "_Europe_ [0] (2019-10-15 ).xml\n",
      "_Terrestrial & freshwater ecosystems_ [0] (2019-10-15 ).xml\n",
      "_General_ [9] (2019-10-15 ).xml\n",
      "_Africa_ [75] (2019-10-15 ).xml\n",
      "_Health, well-being, and communities_ [3] (2019-10-15 ).xml\n",
      "_Central & South America_ [0] (2019-10-15 ).xml\n",
      "_Small Island States_ [0] (2019-10-15 ).xml\n",
      "_Ocean & coastal ecosystems_ [0] (2019-10-15 ).xml\n",
      "_Food, fibre, and other ecosystem products_ [54] (2019-10-15 ).xml\n",
      "_Australasia_ [3] (2019-10-15 ).xml\n",
      "_Water quality & sanitation_ [0] (2019-10-15 ).xml\n",
      "_Cities, settlements & key infrastructure_ [3] (2019-10-15 ).xml\n",
      "_Poverty, livelihoods, and sustainable development_ [3] (2019-10-15 ).xml\n",
      "_Asia_ [0] (2019-10-15 ).xml\n",
      "_Global or NA_ [0] (2019-10-15 ).xml\n"
     ]
    }
   ],
   "source": [
    "for c in cat_dict:\n",
    "    rpat = '_'+c[\"name\"]+'_'\n",
    "    files = [f for f in os.listdir('.') if re.match(rpat, f)]\n",
    "\n",
    "    xml = ET.Element('xml')\n",
    "    records = ET.SubElement(xml, 'records')\n",
    "\n",
    "    days = []\n",
    "    ndocs = 0\n",
    "    for fname in files:\n",
    "        for d in re.match('.*\\((\\S*)',fname).group(1).split(','):\n",
    "            days.append(d)\n",
    "\n",
    "        with open(fname,\"r\") as f:\n",
    "            d = ET.parse(f).getroot()\n",
    "            for rr in d.iter('records'):\n",
    "                for r in rr.iter('record'):\n",
    "                    rec = records.append(r)   \n",
    "                    ndocs += 1\n",
    "        os.remove(fname)\n",
    "\n",
    "    new_fname = f'_{c[\"name\"]}_ [{ndocs}] ({\",\".join(set(days))} ).xml'  \n",
    "    print(new_fname)\n",
    "\n",
    "    with open(new_fname,\"w\") as f:\n",
    "        f.write(ET.tostring(xml).decode(\"utf-8\"))"
   ]
  },
  {
   "cell_type": "code",
   "execution_count": 113,
   "metadata": {},
   "outputs": [
    {
     "data": {
      "text/plain": [
       "'2019-10-15'"
      ]
     },
     "execution_count": 113,
     "metadata": {},
     "output_type": "execute_result"
    }
   ],
   "source": [
    "\",\".join(set(days))"
   ]
  }
 ],
 "metadata": {
  "kernelspec": {
   "display_name": "tmv",
   "language": "python",
   "name": "tmv"
  },
  "language_info": {
   "codemirror_mode": {
    "name": "ipython",
    "version": 3
   },
   "file_extension": ".py",
   "mimetype": "text/x-python",
   "name": "python",
   "nbconvert_exporter": "python",
   "pygments_lexer": "ipython3",
   "version": "3.6.7"
  },
  "varInspector": {
   "cols": {
    "lenName": 16,
    "lenType": 16,
    "lenVar": 40
   },
   "kernels_config": {
    "python": {
     "delete_cmd_postfix": "",
     "delete_cmd_prefix": "del ",
     "library": "var_list.py",
     "varRefreshCmd": "print(var_dic_list())"
    },
    "r": {
     "delete_cmd_postfix": ") ",
     "delete_cmd_prefix": "rm(",
     "library": "var_list.r",
     "varRefreshCmd": "cat(var_dic_list()) "
    }
   },
   "types_to_exclude": [
    "module",
    "function",
    "builtin_function_or_method",
    "instance",
    "_Feature"
   ],
   "window_display": false
  }
 },
 "nbformat": 4,
 "nbformat_minor": 2
}
