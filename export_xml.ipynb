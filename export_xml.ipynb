{
 "cells": [
  {
   "cell_type": "code",
   "execution_count": 2,
   "metadata": {},
   "outputs": [],
   "source": [
    "import sys, os, django\n",
    "import pandas as pd\n",
    "\n",
    "sys.path.append('/home/galm/software/django/tmv/BasicBrowser/')\n",
    "os.environ.setdefault(\"DJANGO_SETTINGS_MODULE\", \"BasicBrowser.settings\")\n",
    "django.setup()\n",
    "\n",
    "from scoping.models import *\n",
    "\n",
    "from pyparsing import *\n",
    "\n",
    "q = Query.objects.get(pk=7638)\n",
    "import lxml.etree as ET\n",
    "import datetime\n",
    "import matplotlib.pyplot as plot\n",
    "import random\n"
   ]
  },
  {
   "cell_type": "code",
   "execution_count": null,
   "metadata": {},
   "outputs": [],
   "source": []
  },
  {
   "cell_type": "code",
   "execution_count": 8,
   "metadata": {},
   "outputs": [],
   "source": [
    "def write_d_record(records, d):\n",
    "    \n",
    "    record = ET.SubElement(records, 'record')\n",
    "    \n",
    "    \n",
    "    db = ET.SubElement(record,'database')\n",
    "    db.set('name',\"APSIS\")\n",
    "    db.set('path','')\n",
    "    db.text = \"APSIS\"\n",
    "\n",
    "    source_app = ET.SubElement(record, 'source-app')\n",
    "    source_app.text=\"EndNote\"\n",
    "    source_app.set('name','EndNote')\n",
    "    source_app.set('version', '17.7')\n",
    "\n",
    "    r_c= ET.SubElement(record,'rec-number')\n",
    "    r_c.text=str(d.id)\n",
    "\n",
    "    rt = [x for x in ref_type_dict if d.wosarticle.pt in x[\"db\"]][0]\n",
    "\n",
    "    r_t = ET.SubElement(record,'ref-type')\n",
    "    r_t.text = rt[\"EN_n\"]\n",
    "    r_t.set(\"name\", rt[\"EN_s\"])\n",
    "\n",
    "    contrib = ET.SubElement(record, 'contributors')\n",
    "    authors = ET.SubElement(contrib, 'authors')\n",
    "\n",
    "    author_list = []\n",
    "    for dai in d.docauthinst_set.order_by('position'):\n",
    "        if dai.AU not in author_list:\n",
    "            au = ET.SubElement(authors, 'author')\n",
    "            s = ET.SubElement(au,'style')\n",
    "            s.text = dai.AU\n",
    "            author_list.append(dai.AU)\n",
    "\n",
    "    titles = ET.SubElement(record, 'titles')\n",
    "    title = ET.SubElement(titles, 'title')\n",
    "    s = ET.SubElement(title, 'style')\n",
    "    s.text = d.title\n",
    "    stitle = ET.SubElement(titles, 'secondary-title')\n",
    "    s = ET.SubElement(stitle, 'style')\n",
    "    s.text = d.wosarticle.so\n",
    "\n",
    "    periodical = ET.SubElement(record, 'periodical')\n",
    "    ft = ET.SubElement(periodical, 'full-title')\n",
    "    s = ET.SubElement(ft, 'style')\n",
    "    s.text = d.wosarticle.so\n",
    "    s.set(\"size\", \"100%\")\n",
    "    s.set(\"font\", \"default\")\n",
    "    s.set(\"face\", \"normal\")\n",
    "\n",
    "    pages = ET.SubElement(record, 'pages')\n",
    "    s = ET.SubElement(pages, 'style')\n",
    "    s.text=f\"{d.wosarticle.bp}-{d.wosarticle.ep}\"\n",
    "\n",
    "    vol = ET.SubElement(record,'volume')\n",
    "    s = ET.SubElement(vol, 'style')\n",
    "    s.text=d.wosarticle.vl\n",
    "\n",
    "    if d.wosarticle.ar:\n",
    "        ar = ET.SubElement(record,'number')\n",
    "        s = ET.SubElement(ar, 'style')\n",
    "        s.text=d.wosarticle.ar\n",
    "\n",
    "    if d.wosarticle.iss:\n",
    "        iss = ET.SubElement(record,'issue')\n",
    "        s = ET.SubElement(iss, 'style')\n",
    "        s.text=d.wosarticle.iss\n",
    "\n",
    "    if d.wosarticle.de:\n",
    "        kws = ET.SubElement(record,'keywords')\n",
    "        for de in d.wosarticle.de.split('; '):\n",
    "            kw = ET.SubElement(kws, 'keyword')\n",
    "            s = ET.SubElement(kw, 'style')\n",
    "            s.text=de\n",
    "\n",
    "    dates = ET.SubElement(record, 'dates')\n",
    "    py = ET.SubElement(dates, 'year')\n",
    "    s = ET.SubElement(py, 'style')\n",
    "    s.text=str(d.PY) \n",
    "\n",
    "    if d.wosarticle.pu:\n",
    "        pu = ET.SubElement(record, 'publisher')\n",
    "        s = ET.SubElement(pu, 'style')\n",
    "        s.text = d.wosarticle.pu\n",
    "\n",
    "    if d.wosarticle.pa:\n",
    "        pa = ET.SubElement(record, 'pub-location')\n",
    "        s = ET.SubElement(pa, 'style')\n",
    "        s.text = d.wosarticle.pa\n",
    "\n",
    "    if d.wosarticle.di:\n",
    "        doi = ET.SubElement(record, 'doi')\n",
    "        s = ET.SubElement(doi, 'style')\n",
    "        s.text = d.wosarticle.di\n",
    "\n",
    "    ab = ET.SubElement(record, 'abstract')\n",
    "    s = ET.SubElement(ab, 'style')\n",
    "    s.text = d.content   \n",
    "    \n",
    "    pdcs = d.category.filter(project=q.project, level__in=[3,4],doccat__top_cat=True).order_by('id')\n",
    "    \n",
    "    c1 = ET.SubElement(record, 'custom1')\n",
    "    s = ET.SubElement(c1, 'style')\n",
    "    s.text = pdcs[0].name\n",
    "\n",
    "    c2 = ET.SubElement(record, 'custom2')\n",
    "    s = ET.SubElement(c1, 'style')\n",
    "    s.text = pdcs[1].name\n",
    "    "
   ]
  },
  {
   "cell_type": "code",
   "execution_count": 9,
   "metadata": {},
   "outputs": [],
   "source": [
    "ref_type_dict = [\n",
    "    {\"db\": [\"J\",\"JOUR\"], \"EN_n\": \"17\", \"EN_s\": \"Journal Article\"},\n",
    "    {\"db\": [\"S\",\"SER\"], \"EN_n\": \"31\", \"EN_s\": \"Serial\"},\n",
    "    {\"db\": [\"B\",\"BOOK\"], \"EN_n\": \"7\", \"EN_s\": \"Book\"},\n",
    "    {\"db\": [\"CHAP\"], \"EN_n\": \"6\", \"EN_s\": \"Book Section\"},\n",
    "    {\"db\": [\"CONF\", \"INPR\"], \"EN_n\": \"11\", \"EN_s\": \"Conference Proceedings\"},\n",
    "    {\"db\": [\"PDF\", None], \"EN_n\": \"1\", \"EN_s\": \"GENERIC\"},\n",
    "    {\"db\": [\"RPRT\"], \"EN_n\": \"30\", \"EN_s\": \"Report\"},\n",
    "    {\"db\": [\"CASE\"], \"EN_n\": \"8\", \"EN_s\": \"Case\"},\n",
    "]\n",
    "\n",
    "\n",
    "def export_en_xml(docs, fname):\n",
    "\n",
    "    # create the file structure\n",
    "    xml = ET.Element('xml')\n",
    "    records = ET.SubElement(xml, 'records')\n",
    "\n",
    "    db_name = \"APSIS - \"\n",
    "\n",
    "    for d in docs:\n",
    "        record = ET.SubElement(records, 'record')\n",
    "\n",
    "        db = ET.SubElement(record,'database')\n",
    "        db.set('name',db_name)\n",
    "        db.set('path','')\n",
    "        db.text = db_name\n",
    "\n",
    "        source_app = ET.SubElement(record, 'source-app')\n",
    "        source_app.text=\"EndNote\"\n",
    "        source_app.set('name','EndNote')\n",
    "        source_app.set('version', '17.7')\n",
    "\n",
    "        r_c= ET.SubElement(record,'rec-number')\n",
    "        r_c.text=str(d.id)\n",
    "\n",
    "        rt = [x for x in ref_type_dict if d.wosarticle.pt in x[\"db\"]][0]\n",
    "\n",
    "        r_t = ET.SubElement(record,'ref-type')\n",
    "        r_t.text = rt[\"EN_n\"]\n",
    "        r_t.set(\"name\", rt[\"EN_s\"])\n",
    "\n",
    "        contrib = ET.SubElement(record, 'contributors')\n",
    "        authors = ET.SubElement(contrib, 'authors')\n",
    "\n",
    "        author_list = []\n",
    "        for dai in d.docauthinst_set.order_by('position'):\n",
    "            if dai.AU not in author_list:\n",
    "                au = ET.SubElement(authors, 'author')\n",
    "                s = ET.SubElement(au,'style')\n",
    "                s.text = dai.AU\n",
    "                author_list.append(dai.AU)\n",
    "\n",
    "        titles = ET.SubElement(record, 'titles')\n",
    "        title = ET.SubElement(titles, 'title')\n",
    "        s = ET.SubElement(title, 'style')\n",
    "        s.text = d.title\n",
    "        stitle = ET.SubElement(titles, 'secondary-title')\n",
    "        s = ET.SubElement(stitle, 'style')\n",
    "        s.text = d.wosarticle.so\n",
    "\n",
    "        periodical = ET.SubElement(record, 'periodical')\n",
    "        ft = ET.SubElement(periodical, 'full-title')\n",
    "        s = ET.SubElement(ft, 'style')\n",
    "        s.text = d.wosarticle.so\n",
    "        s.set(\"size\", \"100%\")\n",
    "        s.set(\"font\", \"default\")\n",
    "        s.set(\"face\", \"normal\")\n",
    "\n",
    "        pages = ET.SubElement(record, 'pages')\n",
    "        s = ET.SubElement(pages, 'style')\n",
    "        s.text=f\"{d.wosarticle.bp}-{d.wosarticle.ep}\"\n",
    "\n",
    "        vol = ET.SubElement(record,'volume')\n",
    "        s = ET.SubElement(vol, 'style')\n",
    "        s.text=d.wosarticle.vl\n",
    "\n",
    "        if d.wosarticle.ar:\n",
    "            ar = ET.SubElement(record,'number')\n",
    "            s = ET.SubElement(ar, 'style')\n",
    "            s.text=d.wosarticle.ar\n",
    "\n",
    "        if d.wosarticle.iss:\n",
    "            iss = ET.SubElement(record,'issue')\n",
    "            s = ET.SubElement(iss, 'style')\n",
    "            s.text=d.wosarticle.iss\n",
    "\n",
    "        if d.wosarticle.de:\n",
    "            kws = ET.SubElement(record,'keywords')\n",
    "            for de in d.wosarticle.de.split('; '):\n",
    "                kw = ET.SubElement(kws, 'keyword')\n",
    "                s = ET.SubElement(kw, 'style')\n",
    "                s.text=de\n",
    "\n",
    "        dates = ET.SubElement(record, 'dates')\n",
    "        py = ET.SubElement(dates, 'year')\n",
    "        s = ET.SubElement(py, 'style')\n",
    "        s.text=str(d.PY) \n",
    "\n",
    "        if d.wosarticle.pu:\n",
    "            pu = ET.SubElement(record, 'publisher')\n",
    "            s = ET.SubElement(pu, 'style')\n",
    "            s.text = d.wosarticle.pu\n",
    "\n",
    "        if d.wosarticle.pa:\n",
    "            pa = ET.SubElement(record, 'pub-location')\n",
    "            s = ET.SubElement(pa, 'style')\n",
    "            s.text = d.wosarticle.pa\n",
    "\n",
    "        if d.wosarticle.di:\n",
    "            doi = ET.SubElement(record, 'doi')\n",
    "            s = ET.SubElement(doi, 'style')\n",
    "            s.text = d.wosarticle.di\n",
    "\n",
    "        ab = ET.SubElement(record, 'abstract')\n",
    "        s = ET.SubElement(ab, 'style')\n",
    "        s.text = d.content\n",
    "            \n",
    "    with open(fname,\"w\") as f:\n",
    "        f.write(ET.tostring(xml).decode(\"utf-8\"))"
   ]
  },
  {
   "cell_type": "code",
   "execution_count": 10,
   "metadata": {},
   "outputs": [],
   "source": [
    "now = datetime.datetime.now().strftime(\"%Y-%m-%d %H:%M:%S\")\n"
   ]
  },
  {
   "cell_type": "code",
   "execution_count": 11,
   "metadata": {},
   "outputs": [],
   "source": [
    "folder = '/home/galm/ownCloud/adaptation-tracking/'\n",
    "files = os.listdir(folder) + os.listdir(f'{folder}/imported')\n",
    "    \n"
   ]
  },
  {
   "cell_type": "markdown",
   "metadata": {},
   "source": [
    "# Get all docs, that is, all docs not yet exported and not having a primary category\n",
    "\n",
    "- First read what was exported"
   ]
  },
  {
   "cell_type": "code",
   "execution_count": 12,
   "metadata": {},
   "outputs": [
    {
     "name": "stdout",
     "output_type": "stream",
     "text": [
      "6\n",
      "20\n",
      "79\n",
      "174\n",
      "177\n",
      "220\n",
      "236\n",
      "327\n",
      "333\n",
      "403\n",
      "442\n",
      "469\n",
      "652\n",
      "728\n",
      "799\n",
      "802\n",
      "869\n",
      "912\n",
      "923\n",
      "950\n",
      "1026\n",
      "1048\n",
      "1056\n",
      "1086\n",
      "1095\n",
      "1731\n",
      "1740\n",
      "1851\n",
      "1884\n",
      "1913\n",
      "1917\n",
      "1961\n",
      "2130\n",
      "2182\n",
      "2256\n",
      "2278\n",
      "2295\n",
      "2363\n",
      "2367\n",
      "2385\n",
      "2658\n",
      "2685\n",
      "2721\n",
      "2731\n",
      "2744\n"
     ]
    }
   ],
   "source": [
    "already_exported = []\n",
    "for file in files:\n",
    "    if \".xml\" not in file:\n",
    "        continue\n",
    "    with open(f'{folder}/{file}') as f:\n",
    "        tree = ET.parse(f)\n",
    "        root = tree.getroot()\n",
    "        for rs in root.iter('records'):\n",
    "            for r in rs.iter('record'):\n",
    "                for rn in r.iter('rec-number'):\n",
    "                    already_exported.append(int(rn.text))\n",
    "    print(len(already_exported))"
   ]
  },
  {
   "cell_type": "code",
   "execution_count": 13,
   "metadata": {},
   "outputs": [
    {
     "data": {
      "text/plain": [
       "2233"
      ]
     },
     "execution_count": 13,
     "metadata": {},
     "output_type": "execute_result"
    }
   ],
   "source": [
    "len(set(already_exported))"
   ]
  },
  {
   "cell_type": "code",
   "execution_count": 14,
   "metadata": {},
   "outputs": [
    {
     "data": {
      "text/html": [
       "<div>\n",
       "<style scoped>\n",
       "    .dataframe tbody tr th:only-of-type {\n",
       "        vertical-align: middle;\n",
       "    }\n",
       "\n",
       "    .dataframe tbody tr th {\n",
       "        vertical-align: top;\n",
       "    }\n",
       "\n",
       "    .dataframe thead th {\n",
       "        text-align: right;\n",
       "    }\n",
       "</style>\n",
       "<table border=\"1\" class=\"dataframe\">\n",
       "  <thead>\n",
       "    <tr style=\"text-align: right;\">\n",
       "      <th></th>\n",
       "      <th>PY</th>\n",
       "      <th>title</th>\n",
       "    </tr>\n",
       "  </thead>\n",
       "  <tbody>\n",
       "    <tr>\n",
       "      <th>0</th>\n",
       "      <td>2013</td>\n",
       "      <td>Drowning the suburb: settlement planning and c...</td>\n",
       "    </tr>\n",
       "    <tr>\n",
       "      <th>1</th>\n",
       "      <td>2014</td>\n",
       "      <td>Variable adaptations: Micro-politics of enviro...</td>\n",
       "    </tr>\n",
       "    <tr>\n",
       "      <th>2</th>\n",
       "      <td>2017</td>\n",
       "      <td>How do people's perceptions and climatic disas...</td>\n",
       "    </tr>\n",
       "    <tr>\n",
       "      <th>3</th>\n",
       "      <td>2016</td>\n",
       "      <td>Integrated environmental assessment to explore...</td>\n",
       "    </tr>\n",
       "    <tr>\n",
       "      <th>4</th>\n",
       "      <td>1999</td>\n",
       "      <td>Weathering climate change: some simple rules t...</td>\n",
       "    </tr>\n",
       "  </tbody>\n",
       "</table>\n",
       "</div>"
      ],
      "text/plain": [
       "     PY                                              title\n",
       "0  2013  Drowning the suburb: settlement planning and c...\n",
       "1  2014  Variable adaptations: Micro-politics of enviro...\n",
       "2  2017  How do people's perceptions and climatic disas...\n",
       "3  2016  Integrated environmental assessment to explore...\n",
       "4  1999  Weathering climate change: some simple rules t..."
      ]
     },
     "execution_count": 14,
     "metadata": {},
     "output_type": "execute_result"
    }
   ],
   "source": [
    "docs = Doc.objects.filter(pk__in=already_exported)\n",
    "docs.count()\n",
    "df = pd.DataFrame.from_dict(docs.values('title','PY'))\n",
    "df.head()"
   ]
  },
  {
   "cell_type": "code",
   "execution_count": 15,
   "metadata": {},
   "outputs": [
    {
     "name": "stdout",
     "output_type": "stream",
     "text": [
      "(2229, 2)\n"
     ]
    },
    {
     "data": {
      "text/plain": [
       "(6, 2)"
      ]
     },
     "execution_count": 15,
     "metadata": {},
     "output_type": "execute_result"
    }
   ],
   "source": [
    "print(df.shape)\n",
    "df[df.duplicated()].shape"
   ]
  },
  {
   "cell_type": "code",
   "execution_count": 16,
   "metadata": {},
   "outputs": [
    {
     "data": {
      "text/html": [
       "<div>\n",
       "<style scoped>\n",
       "    .dataframe tbody tr th:only-of-type {\n",
       "        vertical-align: middle;\n",
       "    }\n",
       "\n",
       "    .dataframe tbody tr th {\n",
       "        vertical-align: top;\n",
       "    }\n",
       "\n",
       "    .dataframe thead th {\n",
       "        text-align: right;\n",
       "    }\n",
       "</style>\n",
       "<table border=\"1\" class=\"dataframe\">\n",
       "  <thead>\n",
       "    <tr style=\"text-align: right;\">\n",
       "      <th></th>\n",
       "      <th>PY</th>\n",
       "      <th>title</th>\n",
       "    </tr>\n",
       "  </thead>\n",
       "  <tbody>\n",
       "    <tr>\n",
       "      <th>2020</th>\n",
       "      <td>2019</td>\n",
       "      <td>In-Situ Adaptation and Coastal Vulnerabilities...</td>\n",
       "    </tr>\n",
       "    <tr>\n",
       "      <th>2033</th>\n",
       "      <td>2019</td>\n",
       "      <td>Climate proofing social housing in the Netherl...</td>\n",
       "    </tr>\n",
       "    <tr>\n",
       "      <th>2180</th>\n",
       "      <td>2019</td>\n",
       "      <td>Residential buyouts as environmental mobility:...</td>\n",
       "    </tr>\n",
       "    <tr>\n",
       "      <th>2184</th>\n",
       "      <td>2019</td>\n",
       "      <td>Climate smart agricultural practices and gende...</td>\n",
       "    </tr>\n",
       "    <tr>\n",
       "      <th>2185</th>\n",
       "      <td>2019</td>\n",
       "      <td>Is there any chance for the poor to cope with ...</td>\n",
       "    </tr>\n",
       "    <tr>\n",
       "      <th>2194</th>\n",
       "      <td>2019</td>\n",
       "      <td>Adoption of climate change adaptation strategi...</td>\n",
       "    </tr>\n",
       "  </tbody>\n",
       "</table>\n",
       "</div>"
      ],
      "text/plain": [
       "        PY                                              title\n",
       "2020  2019  In-Situ Adaptation and Coastal Vulnerabilities...\n",
       "2033  2019  Climate proofing social housing in the Netherl...\n",
       "2180  2019  Residential buyouts as environmental mobility:...\n",
       "2184  2019  Climate smart agricultural practices and gende...\n",
       "2185  2019  Is there any chance for the poor to cope with ...\n",
       "2194  2019  Adoption of climate change adaptation strategi..."
      ]
     },
     "execution_count": 16,
     "metadata": {},
     "output_type": "execute_result"
    }
   ],
   "source": [
    "df[df.duplicated()]"
   ]
  },
  {
   "cell_type": "code",
   "execution_count": 18,
   "metadata": {},
   "outputs": [
    {
     "name": "stdout",
     "output_type": "stream",
     "text": [
      "0\n",
      "2014 Perceptions of forest experts on climate change and fire management in European Mediterranean forests\n",
      "2013 Perceptions of forest experts on climate change and fire management in European Mediterranean forests\n",
      "2013 Fruit vegetable farmers' perception of climate change and adaptation strategies in Gombe state, Nigeria\n",
      "2013 Fruit Vegetable Farmers' Perception of Climate Change and Adaptation Strategies in Gombe State, Nigeria\n",
      "2013 Sustainability principles put into practice: case studies of network analysis in Swiss climate change adaptation\n",
      "2015 Sustainability principles put into practice: case studies of network analysis in Swiss climate change adaptation\n",
      "50\n",
      "2015 Climate change impacts on Siberia’s evenki: A study of traditional land use and adaptation in southern Yakutia\n",
      "2015 CLIMATE CHANGE IMPACTS ON SIBERIA'S EVENKI: A STUDY OF TRADITIONAL LAND USE AND ADAPTATION IN SOUTHERN YAKUTIA\n",
      "100\n",
      "2017 Comparing smallholder farmers’ perception of climate change with meteorological data: A case study from southwestern Nigeria\n",
      "2017 Comparing smallholder farmers' perception of climate change with meteorological data: A case study from southwestern Nigeria\n",
      "150\n",
      "2015 Farmers' responses to climate change impact on water availability: insights from the Indrawati Basin in Nepal\n",
      "2015 Farmers’ responses to climate change impact on water availability: insights from the Indrawati Basin in Nepal\n",
      "200\n",
      "2015 Coping with coastal risk and vulnerabilities in Bangladesh\n",
      "2014 Coping with coastal risk and vulnerabilities in Bangladesh\n",
      "250\n",
      "2013 How are we adapting to climate change? A global assessment\n",
      "2015 How are we adapting to climate change? A global assessment\n",
      "300\n",
      "350\n",
      "2016 A peopleaEurocentred perspective on climate change, environmental stress, and livelihood resilience in Bangladesh\n",
      "2016 A people-centred perspective on climate change, environmental stress, and livelihood resilience in Bangladesh.\n",
      "2014 Farmers’ perception of climate change, impact and adaptation strategies: a case study of four villages in the semi-arid regions of India\n",
      "2015 Farmers' perception of climate change, impact and adaptation strategies: a case study of four villages in the semi-arid regions of India\n",
      "400\n",
      "2015 Measurement of the cooling efficiency of pavement-watering as an urban heat island mitigation technique\n",
      "2015 Measurement of the Cooling Efficiency of Pavement-watering as an Urban Heat Island Mitigation Technique\n",
      "2016 Women’s solidarity economy initiatives to strengthen food security in response to disasters: Insights from two Philippine case studies\n",
      "2016 Women's solidarity economy initiatives to strengthen food security in response to disasters Insights from two Philippine case studies\n",
      "2016 Fishers' perceptions of climate change, impacts on their livelihoods and adaptation strategies in environmental change hotspots: a case of Lake Wamala, Uganda\n",
      "2016 Fishers’ perceptions of climate change, impacts on their livelihoods and adaptation strategies in environmental change hotspots: a case of Lake Wamala, Uganda\n",
      "450\n",
      "500\n",
      "550\n",
      "2013 The Biosphere Reserve Andean Belt, Colombia. Any region model of adaptation strategies to climate change and sustainable regional development?\n",
      "2013 The Biosphere Reserve Cinturon Andino, Colombia. A regional model of adaptation strategies to climate change and sustainable regional development?\n",
      "600\n",
      "2013 Adaptive capacity contributing to improved agricultural productivity at the household level: Empirical findings highlighting the importance of crop insurance\n",
      "2017 Adaptive capacity contributing to improved agricultural productivity at the household level: Empirical findings highlighting the importance of crop insurance\n",
      "650\n",
      "700\n",
      "2014 Farming adaptations to the impacts of climate change and extreme events in Pacific Island countries: Case study of bellona atoll, Solomon Islands\n",
      "2016 Farming adaptations to the impacts of climate change and extreme events in Pacific Island countries: Case study of Bellona Atoll, Solomon Islands\n",
      "750\n",
      "2014 [Review on farmer's climate change perception and adaptation].\n",
      "2014 Review on farmer's climate change perception and adaptation\n",
      "800\n",
      "850\n",
      "2015 Resilience of Human Mobility under the Influence of Typhoons\n",
      "2015 Resilience of human mobility under the influence of typhoons\n",
      "900\n",
      "2017 Integrating Health into Local Climate Response: Lessons from the US CDC Climate-Ready States and Cities Initiative\n",
      "2017 Integrating Health into Local Climate Response: Lessons from the U.S. CDC Climate-Ready States and Cities Initiative.\n",
      "950\n",
      "1000\n",
      "1050\n",
      "2017 THE PHENOMENON OF CLIMATIC CHANGE IN THE PERCEPTION OF THE PUREPED INDIGENOUS COMMUNITY OF THE MUNICIPALITY OF CHILCHOTA, MICHOACAN, MEXICO\n",
      "2017 The phenomenon of climate change on the perception of Purépecha indigenous community of the municipality of Chilchota, Michoacan, Mexico\n",
      "2017 Analysis of farmers’ adaptation to weather extremes in West African Sudan Savanna\n",
      "2017 Analysis of farmers' adaptation to weather extremes in West African Sudan Savanna\n",
      "1100\n",
      "2017 SOUTH-EAST ASIAN FARMER PERCEPTIONS of CLIMATE CHANGE\n",
      "2017 SOUTH-EAST ASIAN FARMER PERCEPTIONS OF CLIMATE CHANGE\n",
      "2017 Development interventions, adaptation decisions and farmers’ well-being: evidence from drought-prone households in rural India\n",
      "2019 Development interventions, adaptation decisions and farmers' well-being: evidence from drought-prone households in rural India\n",
      "2017 Business engagement in adaptation to climate change in developing countries: A case study based on behavioral perspective\n",
      "2017 BUSINESS ENGAGEMENT IN ADAPTATION TO CLIMATE CHANGE IN DEVELOPING COUNTRIES: A CASE STUDY BASED ON BEHAVIORAL PERSPECTIVE\n",
      "2016 Farming transitions under Socio-economic and climatic constraints in the southern part of Sétif, Algeria\n",
      "2016 Farming transitions under Socio-economic and climatic constraints in the southern part of Setif, Algeria\n",
      "1150\n",
      "1200\n",
      "1250\n",
      "1300\n",
      "1350\n",
      "1400\n",
      "1450\n",
      "2016 Evaluation of adaptation practices in the agriculture sector of Bangladesh: An ecosystem based assessment\n",
      "2016 Evaluation of Adaptation Practices in the Agriculture Sector of Bangladesh: An Ecosystem Based Assessment\n",
      "1500\n",
      "1550\n",
      "1600\n",
      "1650\n",
      "1700\n",
      "2019 Climate proofing social housing in the Netherlands: toward mainstreaming?\n",
      "2019 Climate proofing social housing in the Netherlands: toward mainstreaming?\n",
      "2019 The effect of climate change adaptation strategy on farm households welfare in the Nile basin of Ethiopia: Is there synergy or trade-offs?\n",
      "2019 The effect of climate change adaptation strategy on farm households welfare in the Nile basin of Ethiopia Is there synergy or trade-offs?\n",
      "1750\n",
      "2019 Influence of livelihood assets, experienced shocks and perceived risks on smallholder coffee farming practices in Peru.\n",
      "2019 Influence of livelihood assets, experienced shocks and perceived risks on smallholder coffee farming practices in Peru<bold> </bold>\n",
      "2019 Use and perceptions of alternative economic activities among smallholder coffee farmers in Huehuetenango and El Quiché departments in Guatemala\n",
      "2019 Use and perceptions of alternative economic activities among smallholder coffee farmers in Huehuetenango and El Quiche departments in Guatemala\n",
      "2019 In-Situ Adaptation and Coastal Vulnerabilities in Ghana and Tanzania\n",
      "2019 In-Situ Adaptation and Coastal Vulnerabilities in Ghana and Tanzania\n",
      "2019 Climate change impacts on health and wellbeing in rural and remote regions across Canada: a synthesis of the literature\n",
      "2019 At-a-glance - Climate change impacts on health and wellbeing in rural and remote regions across Canada: a synthesis of the literature.\n",
      "1800\n",
      "1850\n",
      "1900\n",
      "1950\n",
      "2019 The Climate Change and Health Adaptation Program: Indigenous climate leaders' championing adaptation efforts\n",
      "2019 Commentary - The Climate Change and Health Adaptation Program: Indigenous Climate Leaders' Championing Adaptation Effort.\n",
      "2000\n",
      "2050\n",
      "2019 Adoption of climate change adaptation strategies by maize-dependent smallholders in Ethiopia\n",
      "2019 Adoption of climate change adaptation strategies by maize-dependent smallholders in Ethiopia\n",
      "2019 Is there any chance for the poor to cope with extreme environmental events? Two case studies in the Solomon Islands\n",
      "2019 Is there any chance for the poor to cope with extreme environmental events? Two case studies in the Solomon Islands\n"
     ]
    },
    {
     "name": "stdout",
     "output_type": "stream",
     "text": [
      "2019 Climate smart agricultural practices and gender differentiated nutrition outcome: An empirical evidence from Ethiopia\n",
      "2019 Climate smart agricultural practices and gender differentiated nutrition outcome: An empirical evidence from Ethiopia\n",
      "2100\n",
      "2019 Establishing the nexus between climate change adaptation strategy and smallholder farmers’ food security status in South Africa: A bi-casual effect using instrumental variable approach\n",
      "2019 Establishing the nexus between climate change adaptation strategy and smallholder farmers' food security status in South Africa: A bi-casual effect using instrumental variable approach\n",
      "2019 Residential buyouts as environmental mobility: examining where homeowners move to illuminate social inequities in climate adaptation\n",
      "2019 Residential buyouts as environmental mobility: examining where homeowners move to illuminate social inequities in climate adaptation\n",
      "2150\n",
      "2200\n",
      "2019 Climate change resiliency choices of small-scale farmers in Cameroon: determinants and policy implications\n",
      "2019 Climate change resiliency choices of small-scale farmers in Cameroon: determinants and policy implications.\n",
      "2019 Understanding smallholder farmers’ adaptation behaviors through climate change beliefs, risk perception, trust, and psychological distance: Evidence from wheat growers in Iran\n",
      "2019 Understanding smallholder farmers' adaptation behaviors through climate change beliefs, risk perception, trust, and psychological distance: Evidence from wheat growers in Iran.\n"
     ]
    }
   ],
   "source": [
    "from django.core.exceptions import FieldDoesNotExist, ObjectDoesNotExist, MultipleObjectsReturned\n",
    "\n",
    "from django.db import connection\n",
    "with connection.cursor() as cursor:\n",
    "    cursor.execute('SELECT set_limit(0.8);')\n",
    "    row = cursor.fetchone()\n",
    "\n",
    "dup_dict = []\n",
    "dups = 0\n",
    "for i,d in enumerate(docs.order_by('id')):\n",
    "    if i % 50==0:\n",
    "        print(i)\n",
    "    try:\n",
    "        doc = docs.filter(pk__gt=d.pk).get(title__trigram_similar=d.title)\n",
    "        print(d.PY, d.title)\n",
    "        print(doc.PY, doc.title)\n",
    "        dup_dict.append({\n",
    "            \"d1_id\":d.pk, \"d1_title\":d.title,\"d1_PY\": d.PY, \n",
    "            \"d2_id\": doc.pk, \"d2_title\":doc.title, \"d2_PY\": doc.PY\n",
    "        })\n",
    "        dups+=1\n",
    "    except ObjectDoesNotExist:\n",
    "        pass\n",
    "    except MultipleObjectsReturned:\n",
    "        print(f\"found multiple similar objects for {get(r,'ti')}\")        "
   ]
  },
  {
   "cell_type": "code",
   "execution_count": 19,
   "metadata": {},
   "outputs": [
    {
     "name": "stdout",
     "output_type": "stream",
     "text": [
      "(40, 6)\n"
     ]
    },
    {
     "data": {
      "text/html": [
       "<div>\n",
       "<style scoped>\n",
       "    .dataframe tbody tr th:only-of-type {\n",
       "        vertical-align: middle;\n",
       "    }\n",
       "\n",
       "    .dataframe tbody tr th {\n",
       "        vertical-align: top;\n",
       "    }\n",
       "\n",
       "    .dataframe thead th {\n",
       "        text-align: right;\n",
       "    }\n",
       "</style>\n",
       "<table border=\"1\" class=\"dataframe\">\n",
       "  <thead>\n",
       "    <tr style=\"text-align: right;\">\n",
       "      <th></th>\n",
       "      <th>d1_PY</th>\n",
       "      <th>d1_id</th>\n",
       "      <th>d1_title</th>\n",
       "      <th>d2_PY</th>\n",
       "      <th>d2_id</th>\n",
       "      <th>d2_title</th>\n",
       "    </tr>\n",
       "  </thead>\n",
       "  <tbody>\n",
       "    <tr>\n",
       "      <th>0</th>\n",
       "      <td>2014</td>\n",
       "      <td>16478</td>\n",
       "      <td>Perceptions of forest experts on climate chang...</td>\n",
       "      <td>2013</td>\n",
       "      <td>323648</td>\n",
       "      <td>Perceptions of forest experts on climate chang...</td>\n",
       "    </tr>\n",
       "    <tr>\n",
       "      <th>1</th>\n",
       "      <td>2013</td>\n",
       "      <td>19448</td>\n",
       "      <td>Fruit vegetable farmers' perception of climate...</td>\n",
       "      <td>2013</td>\n",
       "      <td>1830634</td>\n",
       "      <td>Fruit Vegetable Farmers' Perception of Climate...</td>\n",
       "    </tr>\n",
       "    <tr>\n",
       "      <th>2</th>\n",
       "      <td>2013</td>\n",
       "      <td>33247</td>\n",
       "      <td>Sustainability principles put into practice: c...</td>\n",
       "      <td>2015</td>\n",
       "      <td>315673</td>\n",
       "      <td>Sustainability principles put into practice: c...</td>\n",
       "    </tr>\n",
       "    <tr>\n",
       "      <th>3</th>\n",
       "      <td>2015</td>\n",
       "      <td>86075</td>\n",
       "      <td>Climate change impacts on Siberia’s evenki: A ...</td>\n",
       "      <td>2015</td>\n",
       "      <td>1878774</td>\n",
       "      <td>CLIMATE CHANGE IMPACTS ON SIBERIA'S EVENKI: A ...</td>\n",
       "    </tr>\n",
       "    <tr>\n",
       "      <th>4</th>\n",
       "      <td>2017</td>\n",
       "      <td>99668</td>\n",
       "      <td>Comparing smallholder farmers’ perception of c...</td>\n",
       "      <td>2017</td>\n",
       "      <td>1854128</td>\n",
       "      <td>Comparing smallholder farmers' perception of c...</td>\n",
       "    </tr>\n",
       "  </tbody>\n",
       "</table>\n",
       "</div>"
      ],
      "text/plain": [
       "   d1_PY  d1_id                                           d1_title  d2_PY  \\\n",
       "0   2014  16478  Perceptions of forest experts on climate chang...   2013   \n",
       "1   2013  19448  Fruit vegetable farmers' perception of climate...   2013   \n",
       "2   2013  33247  Sustainability principles put into practice: c...   2015   \n",
       "3   2015  86075  Climate change impacts on Siberia’s evenki: A ...   2015   \n",
       "4   2017  99668  Comparing smallholder farmers’ perception of c...   2017   \n",
       "\n",
       "     d2_id                                           d2_title  \n",
       "0   323648  Perceptions of forest experts on climate chang...  \n",
       "1  1830634  Fruit Vegetable Farmers' Perception of Climate...  \n",
       "2   315673  Sustainability principles put into practice: c...  \n",
       "3  1878774  CLIMATE CHANGE IMPACTS ON SIBERIA'S EVENKI: A ...  \n",
       "4  1854128  Comparing smallholder farmers' perception of c...  "
      ]
     },
     "execution_count": 19,
     "metadata": {},
     "output_type": "execute_result"
    }
   ],
   "source": [
    "dup_df = pd.DataFrame.from_dict(dup_dict)\n",
    "print(dup_df.shape)\n",
    "dup_df.head()\n",
    "dup_df.to_csv('exported_duplicates.csv',)"
   ]
  },
  {
   "cell_type": "code",
   "execution_count": null,
   "metadata": {},
   "outputs": [],
   "source": []
  },
  {
   "cell_type": "code",
   "execution_count": 9,
   "metadata": {},
   "outputs": [
    {
     "name": "stdout",
     "output_type": "stream",
     "text": [
      "178\n"
     ]
    },
    {
     "data": {
      "text/plain": [
       "3"
      ]
     },
     "execution_count": 9,
     "metadata": {},
     "output_type": "execute_result"
    }
   ],
   "source": [
    "# All exportable docs\n",
    "doc_ids = set(Doc.objects.filter(query=q, category__name__in=[\"Yes\",\"Maybe\"]).values_list('id',flat=True))\n",
    "# Docs with a pc\n",
    "pc_ids = set(Doc.objects.filter(query=q, category__level=9).values_list('id',flat=True))\n",
    "print(len(doc_ids - set(already_exported)))\n",
    "ex_ids = doc_ids - pc_ids - set(already_exported)\n",
    "\n",
    "len(ex_ids)\n",
    "\n"
   ]
  },
  {
   "cell_type": "code",
   "execution_count": 8,
   "metadata": {},
   "outputs": [
    {
     "name": "stdout",
     "output_type": "stream",
     "text": [
      "exported docs\n"
     ]
    }
   ],
   "source": [
    "now = datetime.datetime.now().strftime(\"%Y-%m-%d %H:%M:%S\")\n",
    "\n",
    "docs = Doc.objects.filter(pk__in=ex_ids)\n",
    "\n",
    "if docs.exists():\n",
    "    export_en_xml(docs, f\"/home/galm/ownCloud/adaptation-tracking/Batch6_All - APSIS export - [{len(docs)}] - {now}.xml\")\n",
    "    print(\"exported docs\")"
   ]
  },
  {
   "cell_type": "code",
   "execution_count": null,
   "metadata": {},
   "outputs": [],
   "source": []
  },
  {
   "cell_type": "markdown",
   "metadata": {},
   "source": [
    "### Go through each category, exporting docs which have not been exported"
   ]
  },
  {
   "cell_type": "code",
   "execution_count": 10,
   "metadata": {},
   "outputs": [
    {
     "name": "stdout",
     "output_type": "stream",
     "text": [
      "Batch6_Poverty, livelihoods, and sustainable development - APSIS export - [6] - 2020-04-08 16:28:17.xml\n",
      "Batch6_Terrestrial & freshwater ecosystems - APSIS export - [4] - 2020-04-08 16:28:17.xml\n",
      "Batch6_Asia & Australasia - APSIS export - [27] - 2020-04-08 16:28:17.xml\n",
      "Batch6_North America - APSIS export - [18] - 2020-04-08 16:28:17.xml\n",
      "Batch6_Europe - APSIS export - [13] - 2020-04-08 16:28:17.xml\n",
      "Batch6_Africa - APSIS export - [14] - 2020-04-08 16:28:17.xml\n",
      "Batch6_Health, well-being, and communities - APSIS export - [27] - 2020-04-08 16:28:17.xml\n",
      "Batch6_Central & South America - APSIS export - [3] - 2020-04-08 16:28:17.xml\n",
      "Batch6_Small Island States - APSIS export - [4] - 2020-04-08 16:28:17.xml\n",
      "Batch6_Ocean & coastal ecosystems - APSIS export - [6] - 2020-04-08 16:28:17.xml\n",
      "Batch6_Food, fibre, and other ecosystem products - APSIS export - [30] - 2020-04-08 16:28:17.xml\n",
      "Batch6_Water quality & sanitation - APSIS export - [16] - 2020-04-08 16:28:17.xml\n",
      "Batch6_Cities, settlements & key infrastructure - APSIS export - [9] - 2020-04-08 16:28:17.xml\n"
     ]
    }
   ],
   "source": [
    "docs = Doc.objects.filter(pk__in=doc_ids)\n",
    "exported_docs = set(already_exported) \n",
    "for c in Category.objects.filter(project=193,level=9):\n",
    "    cdocs = c.doc_set.exclude(\n",
    "        pk__in=already_exported,\n",
    "        #doccat__top_cat=True\n",
    "    )\n",
    "    fname = f\"Batch6_{c.name} - APSIS export - [{cdocs.count()}] - {now}.xml\"\n",
    "    export_en_xml(cdocs, f\"{folder}/{fname}\")\n",
    "    for d in cdocs:\n",
    "        if d.doccat_set.filter(category=c).count()>1:\n",
    "            d.doccat_set.filter(category=c).first().delete()\n",
    "        dc = d.doccat_set.get(category=c)\n",
    "        dc.top_cat=True\n",
    "        dc.save()\n",
    "    print(fname)\n",
    "\n",
    "    "
   ]
  },
  {
   "cell_type": "code",
   "execution_count": 18,
   "metadata": {},
   "outputs": [
    {
     "name": "stdout",
     "output_type": "stream",
     "text": [
      "Batch4_Poverty, livelihoods, and sustainable development - APSIS export - [117] - 2019-11-28 12:04:57.xml\n",
      "Batch4_Terrestrial & freshwater ecosystems - APSIS export - [12] - 2019-11-28 12:04:57.xml\n",
      "Batch4_Asia & Australasia - APSIS export - [289] - 2019-11-28 12:04:57.xml\n",
      "Batch4_North America - APSIS export - [74] - 2019-11-28 12:04:57.xml\n",
      "Batch4_Europe - APSIS export - [86] - 2019-11-28 12:04:57.xml\n",
      "Batch4_Africa - APSIS export - [191] - 2019-11-28 12:04:57.xml\n",
      "Batch4_Health, well-being, and communities - APSIS export - [81] - 2019-11-28 12:04:57.xml\n",
      "Batch4_Central & South America - APSIS export - [63] - 2019-11-28 12:04:57.xml\n",
      "Batch4_Small Island States - APSIS export - [31] - 2019-11-28 12:04:57.xml\n",
      "Batch4_Ocean & coastal ecosystems - APSIS export - [27] - 2019-11-28 12:04:57.xml\n",
      "Batch4_Food, fibre, and other ecosystem products - APSIS export - [655] - 2019-11-28 12:04:57.xml\n",
      "Batch4_Water quality & sanitation - APSIS export - [71] - 2019-11-28 12:04:57.xml\n",
      "Batch4_Cities, settlements & key infrastructure - APSIS export - [88] - 2019-11-28 12:04:57.xml\n"
     ]
    }
   ],
   "source": [
    "docs = Doc.objects.filter(pk__in=doc_ids)\n",
    "exported_docs = set(already_exported)\n",
    "for c in Category.objects.filter(project=193,level=9):\n",
    "    cdocs = c.doc_set.exclude(\n",
    "        pk__in=already_exported,\n",
    "        #doccat__top_cat=True\n",
    "    )\n",
    "    fname = f\"Batch4_{c.name} - APSIS export - [{cdocs.count()}] - {now}.xml\"\n",
    "    for d in cdocs:\n",
    "        pass\n",
    "        \n",
    "    print(fname)\n"
   ]
  },
  {
   "cell_type": "code",
   "execution_count": 24,
   "metadata": {},
   "outputs": [
    {
     "name": "stdout",
     "output_type": "stream",
     "text": [
      "Batch4_Poverty, livelihoods, and sustainable development - APSIS export - [117] - 2019-11-28 12:04:57.xml\n",
      "Batch4_Terrestrial & freshwater ecosystems - APSIS export - [12] - 2019-11-28 12:04:57.xml\n",
      "Batch4_Asia & Australasia - APSIS export - [289] - 2019-11-28 12:04:57.xml\n",
      "Batch4_North America - APSIS export - [74] - 2019-11-28 12:04:57.xml\n",
      "Batch4_Europe - APSIS export - [86] - 2019-11-28 12:04:57.xml\n",
      "Batch4_Africa - APSIS export - [191] - 2019-11-28 12:04:57.xml\n",
      "Batch4_Health, well-being, and communities - APSIS export - [81] - 2019-11-28 12:04:57.xml\n",
      "Batch4_Central & South America - APSIS export - [63] - 2019-11-28 12:04:57.xml\n",
      "Batch4_Small Island States - APSIS export - [31] - 2019-11-28 12:04:57.xml\n",
      "Batch4_Ocean & coastal ecosystems - APSIS export - [27] - 2019-11-28 12:04:57.xml\n",
      "Batch4_Food, fibre, and other ecosystem products - APSIS export - [657] - 2019-11-28 12:04:57.xml\n",
      "Batch4_Water quality & sanitation - APSIS export - [71] - 2019-11-28 12:04:57.xml\n",
      "Batch4_Cities, settlements & key infrastructure - APSIS export - [88] - 2019-11-28 12:04:57.xml\n"
     ]
    }
   ],
   "source": [
    "docs = Doc.objects.filter(pk__in=doc_ids)\n",
    "exported_docs = set(already_exported) | ex_ids\n",
    "for c in Category.objects.filter(project=193,level=9):\n",
    "    cdocs = c.doc_set.exclude(\n",
    "        pk__in=already_exported,\n",
    "        #doccat__top_cat=True\n",
    "    )\n",
    "    fname = f\"Batch4_{c.name} - APSIS export - [{cdocs.count()}] - {now}.xml\"\n",
    "    for d in cdocs:\n",
    "        exported_docs.add(d.id)\n",
    "        pass\n",
    "        \n",
    "    print(fname)"
   ]
  },
  {
   "cell_type": "code",
   "execution_count": 25,
   "metadata": {},
   "outputs": [
    {
     "data": {
      "text/plain": [
       "1725"
      ]
     },
     "execution_count": 25,
     "metadata": {},
     "output_type": "execute_result"
    }
   ],
   "source": [
    "len(exported_docs)"
   ]
  },
  {
   "cell_type": "code",
   "execution_count": null,
   "metadata": {},
   "outputs": [],
   "source": []
  },
  {
   "cell_type": "code",
   "execution_count": null,
   "metadata": {},
   "outputs": [],
   "source": []
  },
  {
   "cell_type": "code",
   "execution_count": 6,
   "metadata": {},
   "outputs": [],
   "source": [
    "now = datetime.datetime.now().strftime(\"%Y-%m-%d %H:%M:%S\")\n",
    "cat = Category.objects.get(name=\"Africa\", project=q.project)\n",
    "doc_ids = set(Doc.objects.filter(\n",
    "    query=q, category__name=\"Yes\"\n",
    ").values_list('pk',flat=True))\n",
    "\n",
    "af_ids = set(Doc.objects.filter(\n",
    "    query=q, category=cat\n",
    ").values_list('pk',flat=True))\n",
    "\n",
    "docs = Doc.objects.filter(pk__in=doc_ids & af_ids)\n",
    "\n",
    "#export_en_xml(docs, f\"{cat.name} - APSIS export - {now}.xml\")\n",
    "\n",
    "#print(mydata.decode(\"utf-8\"))"
   ]
  },
  {
   "cell_type": "code",
   "execution_count": 7,
   "metadata": {},
   "outputs": [
    {
     "data": {
      "text/html": [
       "<div>\n",
       "<style scoped>\n",
       "    .dataframe tbody tr th:only-of-type {\n",
       "        vertical-align: middle;\n",
       "    }\n",
       "\n",
       "    .dataframe tbody tr th {\n",
       "        vertical-align: top;\n",
       "    }\n",
       "\n",
       "    .dataframe thead th {\n",
       "        text-align: right;\n",
       "    }\n",
       "</style>\n",
       "<table border=\"1\" class=\"dataframe\">\n",
       "  <thead>\n",
       "    <tr style=\"text-align: right;\">\n",
       "      <th></th>\n",
       "      <th>category__name</th>\n",
       "      <th>id</th>\n",
       "    </tr>\n",
       "  </thead>\n",
       "  <tbody>\n",
       "    <tr>\n",
       "      <th>0</th>\n",
       "      <td>Africa</td>\n",
       "      <td>19448</td>\n",
       "    </tr>\n",
       "    <tr>\n",
       "      <th>1</th>\n",
       "      <td>Food, fibre, and other ecosystem products</td>\n",
       "      <td>19448</td>\n",
       "    </tr>\n",
       "    <tr>\n",
       "      <th>2</th>\n",
       "      <td>Poverty, livelihoods, and sustainable development</td>\n",
       "      <td>37942</td>\n",
       "    </tr>\n",
       "    <tr>\n",
       "      <th>3</th>\n",
       "      <td>Terrestrial &amp; freshwater ecosystems</td>\n",
       "      <td>37942</td>\n",
       "    </tr>\n",
       "    <tr>\n",
       "      <th>4</th>\n",
       "      <td>Food, fibre, and other ecosystem products</td>\n",
       "      <td>37942</td>\n",
       "    </tr>\n",
       "  </tbody>\n",
       "</table>\n",
       "</div>"
      ],
      "text/plain": [
       "                                      category__name     id\n",
       "0                                             Africa  19448\n",
       "1          Food, fibre, and other ecosystem products  19448\n",
       "2  Poverty, livelihoods, and sustainable development  37942\n",
       "3                Terrestrial & freshwater ecosystems  37942\n",
       "4          Food, fibre, and other ecosystem products  37942"
      ]
     },
     "execution_count": 7,
     "metadata": {},
     "output_type": "execute_result"
    }
   ],
   "source": [
    "doc_ids = set(Doc.objects.filter(\n",
    "    query=q, category__name=\"Yes\"\n",
    ").values_list('pk',flat=True))\n",
    "\n",
    "docs = Doc.objects.filter(\n",
    "    pk__in=doc_ids\n",
    ")\n",
    "\n",
    "cdocs = Doc.objects.filter(\n",
    "    pk__in=doc_ids,\n",
    "    category__level__in=[3,4]\n",
    ")\n",
    "cat_table = cdocs.values('id','category__name')\n",
    "\n",
    "cat_df = pd.DataFrame.from_dict(cat_table)\n",
    "\n",
    "cat_df.head()"
   ]
  },
  {
   "cell_type": "code",
   "execution_count": 8,
   "metadata": {},
   "outputs": [
    {
     "data": {
      "text/plain": [
       "array([[<matplotlib.axes._subplots.AxesSubplot object at 0x7f1f5dbeb240>]],\n",
       "      dtype=object)"
      ]
     },
     "execution_count": 8,
     "metadata": {},
     "output_type": "execute_result"
    },
    {
     "data": {
      "image/png": "[encoded data removed]",
      "text/plain": [
       "<matplotlib.figure.Figure at 0x7f1f5dcb6d30>"
      ]
     },
     "metadata": {},
     "output_type": "display_data"
    }
   ],
   "source": [
    "cat_df.groupby('id').count().hist()"
   ]
  },
  {
   "cell_type": "code",
   "execution_count": 50,
   "metadata": {},
   "outputs": [
    {
     "data": {
      "text/plain": [
       "0"
      ]
     },
     "execution_count": 50,
     "metadata": {},
     "output_type": "execute_result"
    }
   ],
   "source": [
    "DocCat.objects.filter(top_cat=True).update(top_cat=False)"
   ]
  },
  {
   "cell_type": "code",
   "execution_count": 23,
   "metadata": {},
   "outputs": [
    {
     "name": "stdout",
     "output_type": "stream",
     "text": [
      "not enough cats\n",
      "Evidence and perceptions of rainfall change in Malawi: Do maize cultivar choices enhance climate change adaptation in sub-Saharan Africa?\n",
      "not enough cats\n",
      "Adaptation to climate change impacts: coping strategies of an indigenous community in Ghana to declining water supply\n",
      "not enough cats\n",
      "Effects of sowing time on agronomic characteristics and yield of quinoa\n",
      "not enough cats\n",
      "Effects of climate change on burn probability of forests in Daxing'anling\n"
     ]
    }
   ],
   "source": [
    "cats = Category.objects.filter(project=q.project, level__in=[3,4])\n",
    "doc_list = []\n",
    "pcats = cats.filter(name__in=[\"Africa\"])\n",
    "\n",
    "def add_cat_list(c,d,doc_list):\n",
    "    dc = DocCat.objects.get(doc=d,category=c)\n",
    "    dc.top_cat=True\n",
    "    dc.save()\n",
    "    if d not in doc_list:\n",
    "        doc_list.append(d)\n",
    "    return 1\n",
    "\n",
    "\n",
    "for d in docs:\n",
    "    pdc = d.category.filter(project=q.project, level__in=[3,4],doccat__top_cat=True).count()\n",
    "    if pdc==1:\n",
    "        continue\n",
    "    elif pdc==0:\n",
    "        dc = d.category.filter(project=q.project, level__in=[3,4])\n",
    "        if dc.count() < 1- pdc:\n",
    "            print(\"not enough cats\")\n",
    "            print(d.title)\n",
    "            continue\n",
    "        for c in pcats:\n",
    "            if c in dc:\n",
    "                if pdc < 2:\n",
    "                    pdc += add_cat_list(c,d,doc_list)\n",
    "        dc = dc.exclude(pk__in=pcats)\n",
    "        ccs = dc.filter(id__in=random.sample(set(dc.values_list('pk',flat=True)),2-pdc))\n",
    "        for c in ccs:\n",
    "            if pdc < 2:\n",
    "                pdc += add_cat_list(c, d, doc_list)\n",
    "    else:\n",
    "        print(\"problems!\")\n",
    "        print(pdc)"
   ]
  },
  {
   "cell_type": "code",
   "execution_count": null,
   "metadata": {},
   "outputs": [],
   "source": [
    "now = datetime.datetime.now().strftime(\"%Y-%m-%d %H:%M:%S\")\n",
    "\n",
    "# create the file structure\n",
    "xml = ET.Element('xml')\n",
    "records = ET.SubElement(xml, 'records')\n",
    "\n",
    "db_name = \"APSIS - \"\n",
    "\n",
    "for d in doc_list:\n",
    "    write_d_record(records, d)\n",
    "    \n",
    "fname = f\"APSIS - all - {now}.xml\"\n",
    "with open(fname,\"w\") as f:\n",
    "    f.write(ET.tostring(xml).decode(\"utf-8\"))"
   ]
  },
  {
   "cell_type": "code",
   "execution_count": 139,
   "metadata": {},
   "outputs": [
    {
     "name": "stdout",
     "output_type": "stream",
     "text": [
      "not enough cats\n",
      "Evidence and perceptions of rainfall change in Malawi: Do maize cultivar choices enhance climate change adaptation in sub-Saharan Africa?\n",
      "not enough cats\n",
      "Adaptation to climate change impacts: coping strategies of an indigenous community in Ghana to declining water supply\n",
      "not enough cats\n",
      "Effects of sowing time on agronomic characteristics and yield of quinoa\n",
      "not enough cats\n",
      "Effects of climate change on burn probability of forests in Daxing'anling\n"
     ]
    },
    {
     "data": {
      "text/plain": [
       "[{'doclist': [652369, 899901], 'name': 'North America'},\n",
       " {'doclist': [47207, 746124, 778629, 799776, 1277970], 'name': 'Europe'},\n",
       " {'doclist': [40076, 1277970, 2374012],\n",
       "  'name': 'Terrestrial & freshwater ecosystems'},\n",
       " {'doclist': [44683, 83426, 446695, 450276, 509759, 649460, 778629],\n",
       "  'name': 'General'},\n",
       " {'doclist': [19448,\n",
       "   116717,\n",
       "   151419,\n",
       "   151600,\n",
       "   165057,\n",
       "   172233,\n",
       "   231841,\n",
       "   251828,\n",
       "   268986,\n",
       "   273466,\n",
       "   278918,\n",
       "   296193,\n",
       "   308673,\n",
       "   313033,\n",
       "   411658,\n",
       "   446695,\n",
       "   448266,\n",
       "   450276,\n",
       "   504549,\n",
       "   509759,\n",
       "   520487,\n",
       "   559201,\n",
       "   807809,\n",
       "   1547893,\n",
       "   1646564],\n",
       "  'name': 'Africa'},\n",
       " {'doclist': [319250, 898298, 1298820, 1547893, 1646564],\n",
       "  'name': 'Health, well-being, and communities'},\n",
       " {'doclist': [40076, 100910, 165057], 'name': 'Central & South America'},\n",
       " {'doclist': [], 'name': 'Small Island States'},\n",
       " {'doclist': [386580], 'name': 'Ocean & coastal ecosystems'},\n",
       " {'doclist': [19448,\n",
       "   100910,\n",
       "   116717,\n",
       "   151419,\n",
       "   151600,\n",
       "   231841,\n",
       "   251828,\n",
       "   273466,\n",
       "   278918,\n",
       "   296193,\n",
       "   308673,\n",
       "   313033,\n",
       "   411658,\n",
       "   448266,\n",
       "   495201,\n",
       "   504549,\n",
       "   520487,\n",
       "   559201,\n",
       "   652369,\n",
       "   807809,\n",
       "   899901,\n",
       "   1486801,\n",
       "   2374012],\n",
       "  'name': 'Food, fibre, and other ecosystem products'},\n",
       " {'doclist': [1486801], 'name': 'Australasia'},\n",
       " {'doclist': [], 'name': 'Water quality & sanitation'},\n",
       " {'doclist': [44683, 47207, 746124, 799776],\n",
       "  'name': 'Cities, settlements & key infrastructure'},\n",
       " {'doclist': [172233, 268986, 319250, 777529],\n",
       "  'name': 'Poverty, livelihoods, and sustainable development'},\n",
       " {'doclist': [83426, 386580, 495201, 777529, 898298, 1298820], 'name': 'Asia'},\n",
       " {'doclist': [649460], 'name': 'Global or NA'}]"
      ]
     },
     "execution_count": 139,
     "metadata": {},
     "output_type": "execute_result"
    }
   ],
   "source": [
    "cats = Category.objects.filter(project=q.project, level__in=[3,4])\n",
    "cat_dict = list(cats.values('name'))\n",
    "pcats = cats.filter(name__in=[\"Africa\"])\n",
    "\n",
    "for c in cat_dict:\n",
    "    c['doclist'] = []\n",
    "\n",
    "def add_cat_list(c,d,cat_dict):\n",
    "    dc = DocCat.objects.get(doc=d,category=c)\n",
    "    dc.top_cat=True\n",
    "    dc.save()\n",
    "    for cat in cat_dict:\n",
    "        if cat['name']==c.name:\n",
    "            cat['doclist'].append(d.id)\n",
    "    return 1\n",
    "\n",
    "\n",
    "for d in docs:\n",
    "    pdc = d.category.filter(project=q.project, level__in=[3,4],doccat__top_cat=True).count()\n",
    "    if pdc==2:\n",
    "        continue\n",
    "    elif pdc==0:\n",
    "        dc = d.category.filter(project=q.project, level__in=[3,4])\n",
    "        if dc.count() < 2- pdc:\n",
    "            print(\"not enough cats\")\n",
    "            print(d.title)\n",
    "            continue\n",
    "        for c in pcats:\n",
    "            if c in dc:\n",
    "                if pdc < 2:\n",
    "                    pdc += add_cat_list(c,d,cat_dict)\n",
    "        dc = dc.exclude(pk__in=pcats)\n",
    "        ccs = dc.filter(id__in=random.sample(set(dc.values_list('pk',flat=True)),2-pdc))\n",
    "        for c in ccs:\n",
    "            if pdc < 2:\n",
    "                pdc += add_cat_list(c, d, cat_dict)\n",
    "    else:\n",
    "        print(\"problems!\")\n",
    "        print(pdc)\n",
    "\n",
    "cat_dict"
   ]
  },
  {
   "cell_type": "code",
   "execution_count": 140,
   "metadata": {},
   "outputs": [],
   "source": [
    "now = datetime.datetime.now().strftime(\"%Y-%m-%d %H:%M:%S\")\n",
    "\n",
    "for c in cat_dict:\n",
    "    nd = len(c['doclist'])\n",
    "    docs = Doc.objects.filter(pk__in=c['doclist'])\n",
    "    export_en_xml(docs, f\"_{c['name']}_ [{nd}] ({now}).xml\")"
   ]
  },
  {
   "cell_type": "code",
   "execution_count": 132,
   "metadata": {},
   "outputs": [
    {
     "name": "stdout",
     "output_type": "stream",
     "text": [
      "_North America_ [0] (2019-10-15 ).xml\n",
      "_Europe_ [0] (2019-10-15 ).xml\n",
      "_Terrestrial & freshwater ecosystems_ [0] (2019-10-15 ).xml\n",
      "_General_ [9] (2019-10-15 ).xml\n",
      "_Africa_ [75] (2019-10-15 ).xml\n",
      "_Health, well-being, and communities_ [3] (2019-10-15 ).xml\n",
      "_Central & South America_ [0] (2019-10-15 ).xml\n",
      "_Small Island States_ [0] (2019-10-15 ).xml\n",
      "_Ocean & coastal ecosystems_ [0] (2019-10-15 ).xml\n",
      "_Food, fibre, and other ecosystem products_ [54] (2019-10-15 ).xml\n",
      "_Australasia_ [3] (2019-10-15 ).xml\n",
      "_Water quality & sanitation_ [0] (2019-10-15 ).xml\n",
      "_Cities, settlements & key infrastructure_ [3] (2019-10-15 ).xml\n",
      "_Poverty, livelihoods, and sustainable development_ [3] (2019-10-15 ).xml\n",
      "_Asia_ [0] (2019-10-15 ).xml\n",
      "_Global or NA_ [0] (2019-10-15 ).xml\n"
     ]
    }
   ],
   "source": [
    "for c in cat_dict:\n",
    "    rpat = '_'+c[\"name\"]+'_'\n",
    "    files = [f for f in os.listdir('.') if re.match(rpat, f)]\n",
    "\n",
    "    xml = ET.Element('xml')\n",
    "    records = ET.SubElement(xml, 'records')\n",
    "\n",
    "    days = []\n",
    "    ndocs = 0\n",
    "    for fname in files:\n",
    "        for d in re.match('.*\\((\\S*)',fname).group(1).split(','):\n",
    "            days.append(d)\n",
    "\n",
    "        with open(fname,\"r\") as f:\n",
    "            d = ET.parse(f).getroot()\n",
    "            for rr in d.iter('records'):\n",
    "                for r in rr.iter('record'):\n",
    "                    rec = records.append(r)   \n",
    "                    ndocs += 1\n",
    "        os.remove(fname)\n",
    "\n",
    "    new_fname = f'_{c[\"name\"]}_ [{ndocs}] ({\",\".join(set(days))} ).xml'  \n",
    "    print(new_fname)\n",
    "\n",
    "    with open(new_fname,\"w\") as f:\n",
    "        f.write(ET.tostring(xml).decode(\"utf-8\"))"
   ]
  },
  {
   "cell_type": "code",
   "execution_count": 113,
   "metadata": {},
   "outputs": [
    {
     "data": {
      "text/plain": [
       "'2019-10-15'"
      ]
     },
     "execution_count": 113,
     "metadata": {},
     "output_type": "execute_result"
    }
   ],
   "source": [
    "\",\".join(set(days))"
   ]
  }
 ],
 "metadata": {
  "kernelspec": {
   "display_name": "tmv",
   "language": "python",
   "name": "tmv"
  },
  "language_info": {
   "codemirror_mode": {
    "name": "ipython",
    "version": 3
   },
   "file_extension": ".py",
   "mimetype": "text/x-python",
   "name": "python",
   "nbconvert_exporter": "python",
   "pygments_lexer": "ipython3",
   "version": "3.6.7"
  },
  "varInspector": {
   "cols": {
    "lenName": 16,
    "lenType": 16,
    "lenVar": 40
   },
   "kernels_config": {
    "python": {
     "delete_cmd_postfix": "",
     "delete_cmd_prefix": "del ",
     "library": "var_list.py",
     "varRefreshCmd": "print(var_dic_list())"
    },
    "r": {
     "delete_cmd_postfix": ") ",
     "delete_cmd_prefix": "rm(",
     "library": "var_list.r",
     "varRefreshCmd": "cat(var_dic_list()) "
    }
   },
   "types_to_exclude": [
    "module",
    "function",
    "builtin_function_or_method",
    "instance",
    "_Feature"
   ],
   "window_display": false
  }
 },
 "nbformat": 4,
 "nbformat_minor": 2
}
