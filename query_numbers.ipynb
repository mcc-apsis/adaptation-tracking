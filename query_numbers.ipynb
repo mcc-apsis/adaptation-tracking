{
 "cells": [
  {
   "cell_type": "code",
   "execution_count": 2,
   "metadata": {},
   "outputs": [],
   "source": [
    "import matplotlib.pyplot as plt\n",
    "import numpy as np\n",
    "import pandas as pd\n",
    "import sys, os, django\n",
    "from curlyBrace import curlyBrace\n",
    "import random\n",
    "\n",
    "sys.path.append('/home/galm/software/django/tmv/BasicBrowser/')\n",
    "os.environ.setdefault(\"DJANGO_SETTINGS_MODULE\", \"BasicBrowser.settings\")\n",
    "django.setup()\n",
    "\n",
    "from scoping.models import *"
   ]
  },
  {
   "cell_type": "code",
   "execution_count": 63,
   "metadata": {},
   "outputs": [],
   "source": [
    "qid = 7638\n",
    "q = Query.objects.get(pk=qid)"
   ]
  },
  {
   "cell_type": "code",
   "execution_count": 64,
   "metadata": {},
   "outputs": [
    {
     "name": "stdout",
     "output_type": "stream",
     "text": [
      "75056\n"
     ]
    }
   ],
   "source": [
    "docs = q.doc_set.all()\n",
    "n_docs = docs.count()\n",
    "print(n_docs)"
   ]
  },
  {
   "cell_type": "code",
   "execution_count": 65,
   "metadata": {},
   "outputs": [
    {
     "data": {
      "text/plain": [
       "8567"
      ]
     },
     "execution_count": 65,
     "metadata": {},
     "output_type": "execute_result"
    }
   ],
   "source": [
    "screened_docs = set(DocOwnership.objects.filter(tag__query=q,relevant__gt=0).values_list('doc__id',flat=True))\n",
    "n_screened = len(screened_docs)\n",
    "n_screened"
   ]
  },
  {
   "cell_type": "code",
   "execution_count": 66,
   "metadata": {},
   "outputs": [
    {
     "name": "stdout",
     "output_type": "stream",
     "text": [
      "3141\n"
     ]
    }
   ],
   "source": [
    "db1_docs = set(DocOwnership.objects.filter(tag__query=q,relevant=1).values_list('doc__id',flat=True))\n",
    "print(len(db1_docs))"
   ]
  },
  {
   "cell_type": "code",
   "execution_count": 67,
   "metadata": {},
   "outputs": [],
   "source": [
    "db2_cat = Category.objects.get(pk=363)\n",
    "db2_docs = Doc.objects.filter(category=db2_cat)\n",
    "n_db2_docs = db2_docs.count()"
   ]
  },
  {
   "cell_type": "code",
   "execution_count": 68,
   "metadata": {},
   "outputs": [
    {
     "data": {
      "image/png": "[encoded data removed]",
      "text/plain": [
       "<Figure size 750x600 with 1 Axes>"
      ]
     },
     "metadata": {},
     "output_type": "display_data"
    }
   ],
   "source": [
    "fig, ax = plt.subplots(figsize=(5,4),dpi=150)\n",
    "\n",
    "x = [0,1,2,3]\n",
    "y = [n_docs, n_screened, len(db1_docs), n_db2_docs]\n",
    "xlab = [\"Documents\",\"Screened\",\"DB1\\nrelevant\", \"DB2\\nrelevant\"]\n",
    "\n",
    "ax.bar(\n",
    "    x, y,\n",
    "    color=\"none\",\n",
    "    linewidth=2,\n",
    "    edgecolor=\"black\"\n",
    ")\n",
    "\n",
    "ymax = ax.get_ylim()[1]\n",
    "\n",
    "for i,n in enumerate(y):\n",
    "    ax.text(\n",
    "        i,n+ymax*0.05,n,\n",
    "        ha=\"center\",\n",
    "        va=\"center\"\n",
    "    )\n",
    "    \n",
    "ax.set_ylim(ymax=ymax*1.08)\n",
    "\n",
    "ax.set_xticks(x)\n",
    "ax.set_xticklabels(xlab)\n",
    "\n",
    "plt.show()\n"
   ]
  },
  {
   "cell_type": "code",
   "execution_count": 129,
   "metadata": {},
   "outputs": [
    {
     "name": "stdout",
     "output_type": "stream",
     "text": [
      "\n",
      "###\n",
      "Documents 75056\n",
      "WoS\n",
      "<QuerySet [<Query: medline_extra>, <Query: wos_extra>, <Query: medline>, <Query: medline>, <Query: WoSCC>]>\n",
      "47515\n",
      "scopus\n",
      "<QuerySet [<Query: scopus_extra>, <Query: Scopus>]>\n",
      "16656\n",
      "pop\n",
      "<QuerySet [<Query: Google Scholar upload 2 of 2>, <Query: Google Scholar upload 1 of 2>]>\n",
      "10569\n",
      "\n",
      "###\n",
      "Screened 8567\n",
      "WoS\n",
      "<QuerySet [<Query: medline_extra>, <Query: wos_extra>, <Query: medline>, <Query: medline>, <Query: WoSCC>]>\n",
      "6602\n",
      "scopus\n",
      "<QuerySet [<Query: scopus_extra>, <Query: Scopus>]>\n",
      "1879\n",
      "pop\n",
      "<QuerySet [<Query: Google Scholar upload 2 of 2>, <Query: Google Scholar upload 1 of 2>]>\n",
      "56\n",
      "\n",
      "###\n",
      "DB1\n",
      "relevant 3141\n",
      "WoS\n",
      "<QuerySet [<Query: medline_extra>, <Query: wos_extra>, <Query: medline>, <Query: medline>, <Query: WoSCC>]>\n",
      "2471\n",
      "scopus\n",
      "<QuerySet [<Query: scopus_extra>, <Query: Scopus>]>\n",
      "639\n",
      "pop\n",
      "<QuerySet [<Query: Google Scholar upload 2 of 2>, <Query: Google Scholar upload 1 of 2>]>\n",
      "21\n",
      "\n",
      "###\n",
      "DB2\n",
      "relevant 1848\n",
      "WoS\n",
      "<QuerySet [<Query: medline_extra>, <Query: wos_extra>, <Query: medline>, <Query: medline>, <Query: WoSCC>]>\n",
      "1433\n",
      "scopus\n",
      "<QuerySet [<Query: scopus_extra>, <Query: Scopus>]>\n",
      "393\n",
      "pop\n",
      "<QuerySet [<Query: Google Scholar upload 2 of 2>, <Query: Google Scholar upload 1 of 2>]>\n",
      "12\n"
     ]
    }
   ],
   "source": [
    "dbs = [\"WoS\",\"scopus\",\"pop\"]\n",
    "id_sets = [\n",
    "    set(docs.values_list('pk',flat=True)),\n",
    "    screened_docs,\n",
    "    db1_docs,\n",
    "    set(db2_docs.values_list('pk',flat=True))\n",
    "]\n",
    "\n",
    "doctype_db = []\n",
    "\n",
    "for i, (lab, dids) in enumerate(zip(xlab,id_sets)):\n",
    "    print(\"\\n###\")\n",
    "    print(lab, len(dids))      \n",
    "    total = len(dids)\n",
    "    for db in dbs:\n",
    "        print(db)\n",
    "        qs = Query.objects.filter(project=q.project,database=db)\n",
    "        print(qs)\n",
    "        db_ids = set(Doc.objects.filter(\n",
    "            query__in=qs,pk__in=dids\n",
    "        ).values_list('pk', flat=True))\n",
    "        dids = dids - db_ids\n",
    "        print(len(db_ids))\n",
    "        doctype_db.append({\n",
    "            \"doc_type\": lab,\n",
    "            \"db\": db,\n",
    "            \"total\": total,\n",
    "            \"ndocs\": len(db_ids),\n",
    "            \"index\": i\n",
    "        })"
   ]
  },
  {
   "cell_type": "code",
   "execution_count": 130,
   "metadata": {},
   "outputs": [
    {
     "data": {
      "text/plain": [
       "64525"
      ]
     },
     "execution_count": 130,
     "metadata": {},
     "output_type": "execute_result"
    }
   ],
   "source": [
    "q = Query.objects.get(pk=7507)\n",
    "q.doc_set.count()"
   ]
  },
  {
   "cell_type": "code",
   "execution_count": 131,
   "metadata": {},
   "outputs": [
    {
     "data": {
      "text/html": [
       "<div>\n",
       "<style scoped>\n",
       "    .dataframe tbody tr th:only-of-type {\n",
       "        vertical-align: middle;\n",
       "    }\n",
       "\n",
       "    .dataframe tbody tr th {\n",
       "        vertical-align: top;\n",
       "    }\n",
       "\n",
       "    .dataframe thead th {\n",
       "        text-align: right;\n",
       "    }\n",
       "</style>\n",
       "<table border=\"1\" class=\"dataframe\">\n",
       "  <thead>\n",
       "    <tr style=\"text-align: right;\">\n",
       "      <th></th>\n",
       "      <th>db</th>\n",
       "      <th>doc_type</th>\n",
       "      <th>index</th>\n",
       "      <th>ndocs</th>\n",
       "      <th>total</th>\n",
       "    </tr>\n",
       "  </thead>\n",
       "  <tbody>\n",
       "    <tr>\n",
       "      <th>0</th>\n",
       "      <td>WoS</td>\n",
       "      <td>Documents</td>\n",
       "      <td>0</td>\n",
       "      <td>47515</td>\n",
       "      <td>75056</td>\n",
       "    </tr>\n",
       "    <tr>\n",
       "      <th>1</th>\n",
       "      <td>scopus</td>\n",
       "      <td>Documents</td>\n",
       "      <td>0</td>\n",
       "      <td>16656</td>\n",
       "      <td>75056</td>\n",
       "    </tr>\n",
       "    <tr>\n",
       "      <th>2</th>\n",
       "      <td>pop</td>\n",
       "      <td>Documents</td>\n",
       "      <td>0</td>\n",
       "      <td>10569</td>\n",
       "      <td>75056</td>\n",
       "    </tr>\n",
       "    <tr>\n",
       "      <th>3</th>\n",
       "      <td>WoS</td>\n",
       "      <td>Screened</td>\n",
       "      <td>1</td>\n",
       "      <td>6602</td>\n",
       "      <td>8567</td>\n",
       "    </tr>\n",
       "    <tr>\n",
       "      <th>4</th>\n",
       "      <td>scopus</td>\n",
       "      <td>Screened</td>\n",
       "      <td>1</td>\n",
       "      <td>1879</td>\n",
       "      <td>8567</td>\n",
       "    </tr>\n",
       "  </tbody>\n",
       "</table>\n",
       "</div>"
      ],
      "text/plain": [
       "       db   doc_type  index  ndocs  total\n",
       "0     WoS  Documents      0  47515  75056\n",
       "1  scopus  Documents      0  16656  75056\n",
       "2     pop  Documents      0  10569  75056\n",
       "3     WoS   Screened      1   6602   8567\n",
       "4  scopus   Screened      1   1879   8567"
      ]
     },
     "execution_count": 131,
     "metadata": {},
     "output_type": "execute_result"
    }
   ],
   "source": [
    "df = pd.DataFrame.from_dict(doctype_db)\n",
    "df.head()"
   ]
  },
  {
   "cell_type": "code",
   "execution_count": 132,
   "metadata": {},
   "outputs": [
    {
     "data": {
      "text/plain": [
       "array([0, 1, 2, 3])"
      ]
     },
     "execution_count": 132,
     "metadata": {},
     "output_type": "execute_result"
    }
   ],
   "source": [
    "df['index'].unique()"
   ]
  },
  {
   "cell_type": "code",
   "execution_count": 135,
   "metadata": {
    "scrolled": false
   },
   "outputs": [
    {
     "data": {
      "image/png": "[encoded data removed]",
      "text/plain": [
       "<Figure size 1050x750 with 2 Axes>"
      ]
     },
     "metadata": {},
     "output_type": "display_data"
    }
   ],
   "source": [
    "import palettable.colorbrewer.qualitative as palettes\n",
    "fig, axs = plt.subplots(1,2, sharey=True, figsize=(7,5),dpi=150)\n",
    "cols = palettes.Set3_4.hex_colors\n",
    "tickindex = df.groupby(['index','doc_type']).count().reset_index()\n",
    "for i, (name,group) in enumerate(df.groupby(['index','doc_type'])):\n",
    "    l = 0\n",
    "    pl = 0\n",
    "    for j, d in group.reset_index().iterrows():\n",
    "        if i==0:\n",
    "            label=d['db']\n",
    "        else:\n",
    "            label=None\n",
    "        axs[0].barh(\n",
    "            -i, d['ndocs'], left=l,\n",
    "            color=cols[j],\n",
    "            edgecolor=\"#f0f0f0\",\n",
    "            linewidth=0.5, label=label\n",
    "        )\n",
    "        l+=d['ndocs']\n",
    "        axs[1].barh(\n",
    "            -i, d['ndocs']/d['total'], left=pl,\n",
    "            color=cols[j],\n",
    "            edgecolor=\"#f0f0f0\",\n",
    "            linewidth=0.5\n",
    "        )\n",
    "        pl+=(d['ndocs']/d['total'])\n",
    "\n",
    "axs[0].legend(loc=\"lower right\")\n",
    "axs[0].set_yticks(tickindex['index']*-1)\n",
    "axs[0].set_yticklabels(tickindex['doc_type'])\n",
    "    \n",
    "fig.tight_layout()\n",
    "plt.show()"
   ]
  },
  {
   "cell_type": "code",
   "execution_count": 138,
   "metadata": {},
   "outputs": [],
   "source": [
    "df.to_csv('doctables/doc_numbers.csv',index=False)"
   ]
  }
 ],
 "metadata": {
  "kernelspec": {
   "display_name": "tmv",
   "language": "python",
   "name": "tmv"
  },
  "language_info": {
   "codemirror_mode": {
    "name": "ipython",
    "version": 3
   },
   "file_extension": ".py",
   "mimetype": "text/x-python",
   "name": "python",
   "nbconvert_exporter": "python",
   "pygments_lexer": "ipython3",
   "version": "3.6.6"
  },
  "varInspector": {
   "cols": {
    "lenName": 16,
    "lenType": 16,
    "lenVar": 40
   },
   "kernels_config": {
    "python": {
     "delete_cmd_postfix": "",
     "delete_cmd_prefix": "del ",
     "library": "var_list.py",
     "varRefreshCmd": "print(var_dic_list())"
    },
    "r": {
     "delete_cmd_postfix": ") ",
     "delete_cmd_prefix": "rm(",
     "library": "var_list.r",
     "varRefreshCmd": "cat(var_dic_list()) "
    }
   },
   "types_to_exclude": [
    "module",
    "function",
    "builtin_function_or_method",
    "instance",
    "_Feature"
   ],
   "window_display": false
  }
 },
 "nbformat": 4,
 "nbformat_minor": 2
}
