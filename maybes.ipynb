{
 "cells": [
  {
   "cell_type": "code",
   "execution_count": 67,
   "metadata": {},
   "outputs": [],
   "source": [
    "import matplotlib.pyplot as plt\n",
    "import numpy as np\n",
    "import pandas as pd\n",
    "import sys, os, django\n",
    "from curlyBrace import curlyBrace\n",
    "import random\n",
    "import datetime\n",
    "\n",
    "sys.path.append('/home/galm/software/django/tmv/BasicBrowser/')\n",
    "os.environ.setdefault(\"DJANGO_SETTINGS_MODULE\", \"BasicBrowser.settings\")\n",
    "django.setup()\n",
    "\n",
    "from scoping.models import *\n",
    "qid = 7638"
   ]
  },
  {
   "cell_type": "code",
   "execution_count": 68,
   "metadata": {},
   "outputs": [
    {
     "data": {
      "text/plain": [
       "<QuerySet [<Doc: WOS:000398996206032>, <Doc: WOS:000457435000008>, <Doc: WOS:000414483600008>, <Doc: WOS:000348569200103>, <Doc: WOS:000414346000001>, <Doc: WOS:000345323600004>, <Doc: WOS:000353894100004>, <Doc: WOS:000433385000035>, <Doc: 2-s2.0-84991574453>, <Doc: WOS:000419407500068>, <Doc: WOS:000402137900006>, <Doc: WOS:000358807800041>, <Doc: WOS:000346215400002>, <Doc: 2-s2.0-84958940538>, <Doc: WOS:000325537300003>, <Doc: WOS:000361087100032>, <Doc: WOS:000357622800007>, <Doc: WOS:000392425800007>, <Doc: WOS:000363689700001>, <Doc: WOS:000333675500014>, '...(remaining elements truncated)...']>"
      ]
     },
     "execution_count": 68,
     "metadata": {},
     "output_type": "execute_result"
    }
   ],
   "source": [
    "q = Query.objects.get(pk=qid)\n",
    "\n",
    "db1_maybes = Doc.objects.filter(docproject__project=q.project,docproject__relevant=3)\n",
    "db1_nos = Doc.objects.filter(docproject__project=q.project,docproject__relevant=2)\n",
    "db1_yeses = Doc.objects.filter(docproject__project=q.project,docproject__relevant=1)\n",
    "db1_maybes.count()\n",
    "db1_maybes"
   ]
  },
  {
   "cell_type": "code",
   "execution_count": 69,
   "metadata": {},
   "outputs": [
    {
     "data": {
      "text/plain": [
       "340"
      ]
     },
     "execution_count": 69,
     "metadata": {},
     "output_type": "execute_result"
    }
   ],
   "source": [
    "db2_maybe = Category.objects.get(pk=365)\n",
    "db2_yes = Category.objects.get(pk=363)\n",
    "db2_no = Category.objects.get(pk=390)\n",
    "db2_maybes = Doc.objects.filter(category=db2_maybe)\n",
    "db2_nos = Doc.objects.filter(category=db2_no)\n",
    "db2_yeses = Doc.objects.filter(category=db2_yes)\n",
    "db2_maybes.distinct().count()"
   ]
  },
  {
   "cell_type": "code",
   "execution_count": 70,
   "metadata": {},
   "outputs": [
    {
     "name": "stdout",
     "output_type": "stream",
     "text": [
      "DB1 Maybes: 238\n",
      "\t- DB2 yes: 29\n",
      "\t- DB2 no: 102\n",
      "\t- DB2 maybe: 93\n",
      "DB1 Yes: 2580\n",
      "\t- DB2 yes: 1502\n",
      "\t- DB2 no: 953\n",
      "\t- DB2 maybe: 244\n",
      "DB1 No: 4225\n",
      "\t- DB2 yes: 13\n",
      "\t- DB2 no: 58\n",
      "\t- DB2 maybe: 2\n"
     ]
    }
   ],
   "source": [
    "for x in [(\"Maybes\",3),(\"Yes\",1),(\"No\",2)]:\n",
    "\n",
    "    db1 = set(Doc.objects.filter(\n",
    "        docproject__project=q.project,docproject__relevant=x[1]\n",
    "    ).values_list('pk',flat=True))\n",
    "    \n",
    "    print(f\"DB1 {x[0]}: {len(db1)}\")\n",
    "\n",
    "    dy = db1 & set(db2_yeses.values_list('pk',flat=True))\n",
    "    print(f\"\\t- DB2 yes: {len(dy)}\")\n",
    "\n",
    "    dn = db1 & set(db2_nos.values_list('pk',flat=True))\n",
    "    print(f\"\\t- DB2 no: {len(dn)}\")\n",
    "\n",
    "    dm = db1 & set(db2_maybes.values_list('pk',flat=True))\n",
    "    print(f\"\\t- DB2 maybe: {len(dm)}\")\n",
    "\n"
   ]
  },
  {
   "cell_type": "code",
   "execution_count": 44,
   "metadata": {},
   "outputs": [
    {
     "name": "stdout",
     "output_type": "stream",
     "text": [
      "[{'user__username': 'ee18ivc@leeds.ac.uk', 'relevant': 2}]\n",
      "<QuerySet [{'user__username': 'ee18ivc@leeds.ac.uk', 'category__name': 'No response focus'}, {'user__username': 'ee18ivc@leeds.ac.uk', 'category__name': 'Asia & Australasia'}, {'user__username': 'ee18ivc@leeds.ac.uk', 'category__name': 'Yes'}, {'user__username': 'ee18ivc@leeds.ac.uk', 'category__name': 'Cities, settlements & key infrastructure'}, {'user__username': 'ee18ivc@leeds.ac.uk', 'category__name': 'Asia'}]>\n"
     ]
    }
   ],
   "source": [
    "for d in list(dy)[:1]:\n",
    "    doc = Doc.objects.get(pk=d)\n",
    "    rs = DocOwnership.objects.filter(doc=doc,query=q)\n",
    "    print(list(rs.values('user__username','relevant')))\n",
    "    cs = doc.docusercat_set.filter(category__project=q.project)\n",
    "    print(cs.values('user__username','category__name'))"
   ]
  },
  {
   "cell_type": "code",
   "execution_count": 71,
   "metadata": {},
   "outputs": [],
   "source": [
    "now = datetime.datetime.now().strftime(\"%Y-%m-%d %H:%M:%S\")\n"
   ]
  },
  {
   "cell_type": "code",
   "execution_count": 73,
   "metadata": {},
   "outputs": [],
   "source": [
    "db1m_tag, created = Tag.objects.get_or_create(\n",
    "    title=\"db1_maybe\",\n",
    "    query=q,\n",
    "    text=\"Manually assigned\"\n",
    ")\n",
    "\n",
    "db1no_db2m_tag, created = Tag.objects.get_or_create(\n",
    "    title=\"db1_no_db2_yesmaybe\",\n",
    "    query=q,\n",
    "    text=\"Manually assigned\"\n",
    ")\n",
    "\n",
    "db1y_db2m_tag, created = Tag.objects.get_or_create(\n",
    "    title=\"db1_yes_db2_maybe\",\n",
    "    query=q,\n",
    "    text=\"Manually assigned\"\n",
    ")"
   ]
  },
  {
   "cell_type": "code",
   "execution_count": 55,
   "metadata": {},
   "outputs": [
    {
     "data": {
      "text/plain": [
       "<Tag: db1_maybe>"
      ]
     },
     "execution_count": 55,
     "metadata": {},
     "output_type": "execute_result"
    }
   ],
   "source": []
  },
  {
   "cell_type": "code",
   "execution_count": 75,
   "metadata": {},
   "outputs": [
    {
     "name": "stdout",
     "output_type": "stream",
     "text": [
      "85\n"
     ]
    }
   ],
   "source": [
    "assigned = set(DocOwnership.objects.filter(tag_id=4460).values_list('doc__id',flat=True))\n",
    "print(len(assigned))\n",
    "db1_maybes = Doc.objects.filter(docproject__project=q.project,docproject__relevant=3)\n",
    "for d in db1_maybes:\n",
    "    if d.id not in assigned:\n",
    "        d.tag.add(db1m_tag)\n",
    "        assigned.add(d.id)\n",
    "\n",
    "        \n",
    "db2_maybe = Category.objects.get(pk=365)\n",
    "db2_yes = Category.objects.get(pk=363)\n",
    "db1nos_db2_maybes = Doc.objects.filter(\n",
    "    docproject__project=q.project,docproject__relevant=2,\n",
    "    category__in=[db2_maybe,db2_yes]\n",
    ")\n",
    "for d in db1nos_db2_maybes:\n",
    "    if d.id not in assigned:\n",
    "        d.tag.add(db1no_db2m_tag)\n",
    "        assigned.add(d.id)\n",
    "        \n",
    "db1yes_db2_maybes = Doc.objects.filter(\n",
    "    docproject__project=q.project,docproject__relevant=1,\n",
    "    category=db2_maybe\n",
    ")\n",
    "\n",
    "for d in db1yes_db2_maybes:\n",
    "    if d.id not in assigned:\n",
    "        d.tag.add(db1y_db2m_tag)\n",
    "        assigned.add(d.id)\n",
    "        \n",
    "db1m_tag.update_tag()\n",
    "db1no_db2m_tag.update_tag()\n",
    "db1y_db2m_tag.update_tag()\n"
   ]
  },
  {
   "cell_type": "code",
   "execution_count": null,
   "metadata": {},
   "outputs": [],
   "source": []
  }
 ],
 "metadata": {
  "kernelspec": {
   "display_name": "tmv",
   "language": "python",
   "name": "tmv"
  },
  "language_info": {
   "codemirror_mode": {
    "name": "ipython",
    "version": 3
   },
   "file_extension": ".py",
   "mimetype": "text/x-python",
   "name": "python",
   "nbconvert_exporter": "python",
   "pygments_lexer": "ipython3",
   "version": "3.6.7"
  },
  "varInspector": {
   "cols": {
    "lenName": 16,
    "lenType": 16,
    "lenVar": 40
   },
   "kernels_config": {
    "python": {
     "delete_cmd_postfix": "",
     "delete_cmd_prefix": "del ",
     "library": "var_list.py",
     "varRefreshCmd": "print(var_dic_list())"
    },
    "r": {
     "delete_cmd_postfix": ") ",
     "delete_cmd_prefix": "rm(",
     "library": "var_list.r",
     "varRefreshCmd": "cat(var_dic_list()) "
    }
   },
   "types_to_exclude": [
    "module",
    "function",
    "builtin_function_or_method",
    "instance",
    "_Feature"
   ],
   "window_display": false
  }
 },
 "nbformat": 4,
 "nbformat_minor": 2
}
